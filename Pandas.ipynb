{
  "nbformat": 4,
  "nbformat_minor": 0,
  "metadata": {
    "colab": {
      "name": "Pandas.ipynb",
      "provenance": [],
      "collapsed_sections": [
        "IGBryh2KA_8z",
        "Q1LN5dO4D2ue",
        "vZtcT_OMJnBQ",
        "EBwMbpRobyjc",
        "AaR-xyhGpJ62",
        "Bily6MP_9Ucz",
        "bwp6-N5_C-Px",
        "gLSH5brOE-2-",
        "hjCvU0klWCpH",
        "_RNjbKvPgbr5",
        "rBSO-GEAxwWf",
        "g5a4LJtQ6Dr_",
        "LMw_PUke8gCV"
      ],
      "authorship_tag": "ABX9TyM2eOlN2SjscqqqXiuYLlJY",
      "include_colab_link": true
    },
    "kernelspec": {
      "name": "python3",
      "display_name": "Python 3"
    },
    "language_info": {
      "name": "python"
    }
  },
  "cells": [
    {
      "cell_type": "markdown",
      "metadata": {
        "id": "view-in-github",
        "colab_type": "text"
      },
      "source": [
        "<a href=\"https://colab.research.google.com/github/PierreLavor23/PierreLavor23/blob/main/Pandas.ipynb\" target=\"_parent\"><img src=\"https://colab.research.google.com/assets/colab-badge.svg\" alt=\"Open In Colab\"/></a>"
      ]
    },
    {
      "cell_type": "markdown",
      "metadata": {
        "id": "IGBryh2KA_8z"
      },
      "source": [
        "#IMPORTAÇÃO "
      ]
    },
    {
      "cell_type": "code",
      "metadata": {
        "id": "xYz7LJOpBD3y"
      },
      "source": [
        "import pandas as pd\n"
      ],
      "execution_count": null,
      "outputs": []
    },
    {
      "cell_type": "code",
      "metadata": {
        "colab": {
          "base_uri": "https://localhost:8080/"
        },
        "id": "jSlI5WhFBL7O",
        "outputId": "31e937f5-eded-4199-bdec-1b8d88cd3876"
      },
      "source": [
        "dados = pd.read_csv(\"aluguel.csv\", sep =';')\n",
        "dados"
      ],
      "execution_count": null,
      "outputs": [
        {
          "output_type": "execute_result",
          "data": {
            "text/html": [
              "<div>\n",
              "<style scoped>\n",
              "    .dataframe tbody tr th:only-of-type {\n",
              "        vertical-align: middle;\n",
              "    }\n",
              "\n",
              "    .dataframe tbody tr th {\n",
              "        vertical-align: top;\n",
              "    }\n",
              "\n",
              "    .dataframe thead th {\n",
              "        text-align: right;\n",
              "    }\n",
              "</style>\n",
              "<table border=\"1\" class=\"dataframe\">\n",
              "  <thead>\n",
              "    <tr style=\"text-align: right;\">\n",
              "      <th></th>\n",
              "      <th>Tipo</th>\n",
              "      <th>Bairro</th>\n",
              "      <th>Quartos</th>\n",
              "      <th>Vagas</th>\n",
              "      <th>Suites</th>\n",
              "      <th>Area</th>\n",
              "      <th>Valor</th>\n",
              "      <th>Condominio</th>\n",
              "      <th>IPTU</th>\n",
              "    </tr>\n",
              "  </thead>\n",
              "  <tbody>\n",
              "    <tr>\n",
              "      <th>0</th>\n",
              "      <td>Quitinete</td>\n",
              "      <td>Copacabana</td>\n",
              "      <td>1</td>\n",
              "      <td>0</td>\n",
              "      <td>0</td>\n",
              "      <td>40</td>\n",
              "      <td>1700.0</td>\n",
              "      <td>500.0</td>\n",
              "      <td>60.0</td>\n",
              "    </tr>\n",
              "    <tr>\n",
              "      <th>1</th>\n",
              "      <td>Casa</td>\n",
              "      <td>Jardim Botânico</td>\n",
              "      <td>2</td>\n",
              "      <td>0</td>\n",
              "      <td>1</td>\n",
              "      <td>100</td>\n",
              "      <td>7000.0</td>\n",
              "      <td>NaN</td>\n",
              "      <td>NaN</td>\n",
              "    </tr>\n",
              "    <tr>\n",
              "      <th>2</th>\n",
              "      <td>Conjunto Comercial/Sala</td>\n",
              "      <td>Barra da Tijuca</td>\n",
              "      <td>0</td>\n",
              "      <td>4</td>\n",
              "      <td>0</td>\n",
              "      <td>150</td>\n",
              "      <td>5200.0</td>\n",
              "      <td>4020.0</td>\n",
              "      <td>1111.0</td>\n",
              "    </tr>\n",
              "    <tr>\n",
              "      <th>3</th>\n",
              "      <td>Apartamento</td>\n",
              "      <td>Centro</td>\n",
              "      <td>1</td>\n",
              "      <td>0</td>\n",
              "      <td>0</td>\n",
              "      <td>15</td>\n",
              "      <td>800.0</td>\n",
              "      <td>390.0</td>\n",
              "      <td>20.0</td>\n",
              "    </tr>\n",
              "    <tr>\n",
              "      <th>4</th>\n",
              "      <td>Apartamento</td>\n",
              "      <td>Higienópolis</td>\n",
              "      <td>1</td>\n",
              "      <td>0</td>\n",
              "      <td>0</td>\n",
              "      <td>48</td>\n",
              "      <td>800.0</td>\n",
              "      <td>230.0</td>\n",
              "      <td>NaN</td>\n",
              "    </tr>\n",
              "    <tr>\n",
              "      <th>...</th>\n",
              "      <td>...</td>\n",
              "      <td>...</td>\n",
              "      <td>...</td>\n",
              "      <td>...</td>\n",
              "      <td>...</td>\n",
              "      <td>...</td>\n",
              "      <td>...</td>\n",
              "      <td>...</td>\n",
              "      <td>...</td>\n",
              "    </tr>\n",
              "    <tr>\n",
              "      <th>32955</th>\n",
              "      <td>Quitinete</td>\n",
              "      <td>Centro</td>\n",
              "      <td>0</td>\n",
              "      <td>0</td>\n",
              "      <td>0</td>\n",
              "      <td>27</td>\n",
              "      <td>800.0</td>\n",
              "      <td>350.0</td>\n",
              "      <td>25.0</td>\n",
              "    </tr>\n",
              "    <tr>\n",
              "      <th>32956</th>\n",
              "      <td>Apartamento</td>\n",
              "      <td>Jacarepaguá</td>\n",
              "      <td>3</td>\n",
              "      <td>1</td>\n",
              "      <td>2</td>\n",
              "      <td>78</td>\n",
              "      <td>1800.0</td>\n",
              "      <td>800.0</td>\n",
              "      <td>40.0</td>\n",
              "    </tr>\n",
              "    <tr>\n",
              "      <th>32957</th>\n",
              "      <td>Apartamento</td>\n",
              "      <td>São Francisco Xavier</td>\n",
              "      <td>2</td>\n",
              "      <td>1</td>\n",
              "      <td>0</td>\n",
              "      <td>48</td>\n",
              "      <td>1400.0</td>\n",
              "      <td>509.0</td>\n",
              "      <td>37.0</td>\n",
              "    </tr>\n",
              "    <tr>\n",
              "      <th>32958</th>\n",
              "      <td>Apartamento</td>\n",
              "      <td>Leblon</td>\n",
              "      <td>2</td>\n",
              "      <td>0</td>\n",
              "      <td>0</td>\n",
              "      <td>70</td>\n",
              "      <td>3000.0</td>\n",
              "      <td>760.0</td>\n",
              "      <td>NaN</td>\n",
              "    </tr>\n",
              "    <tr>\n",
              "      <th>32959</th>\n",
              "      <td>Conjunto Comercial/Sala</td>\n",
              "      <td>Centro</td>\n",
              "      <td>0</td>\n",
              "      <td>0</td>\n",
              "      <td>0</td>\n",
              "      <td>250</td>\n",
              "      <td>6500.0</td>\n",
              "      <td>4206.0</td>\n",
              "      <td>1109.0</td>\n",
              "    </tr>\n",
              "  </tbody>\n",
              "</table>\n",
              "<p>32960 rows × 9 columns</p>\n",
              "</div>"
            ],
            "text/plain": [
              "                          Tipo                Bairro  ...  Condominio    IPTU\n",
              "0                    Quitinete            Copacabana  ...       500.0    60.0\n",
              "1                         Casa       Jardim Botânico  ...         NaN     NaN\n",
              "2      Conjunto Comercial/Sala       Barra da Tijuca  ...      4020.0  1111.0\n",
              "3                  Apartamento                Centro  ...       390.0    20.0\n",
              "4                  Apartamento          Higienópolis  ...       230.0     NaN\n",
              "...                        ...                   ...  ...         ...     ...\n",
              "32955                Quitinete                Centro  ...       350.0    25.0\n",
              "32956              Apartamento           Jacarepaguá  ...       800.0    40.0\n",
              "32957              Apartamento  São Francisco Xavier  ...       509.0    37.0\n",
              "32958              Apartamento                Leblon  ...       760.0     NaN\n",
              "32959  Conjunto Comercial/Sala                Centro  ...      4206.0  1109.0\n",
              "\n",
              "[32960 rows x 9 columns]"
            ]
          },
          "metadata": {},
          "execution_count": 2
        }
      ]
    },
    {
      "cell_type": "markdown",
      "metadata": {
        "id": "Q1LN5dO4D2ue"
      },
      "source": [
        "#Tratação dos dados"
      ]
    },
    {
      "cell_type": "markdown",
      "metadata": {
        "id": "xbRUCPoJJm75"
      },
      "source": [
        ""
      ]
    },
    {
      "cell_type": "code",
      "metadata": {
        "colab": {
          "base_uri": "https://localhost:8080/"
        },
        "id": "Qera853PDJr2",
        "outputId": "bf32a62a-c32c-4f69-da65-1f59ef02dd06"
      },
      "source": [
        "dados.head(10)"
      ],
      "execution_count": null,
      "outputs": [
        {
          "output_type": "execute_result",
          "data": {
            "text/html": [
              "<div>\n",
              "<style scoped>\n",
              "    .dataframe tbody tr th:only-of-type {\n",
              "        vertical-align: middle;\n",
              "    }\n",
              "\n",
              "    .dataframe tbody tr th {\n",
              "        vertical-align: top;\n",
              "    }\n",
              "\n",
              "    .dataframe thead th {\n",
              "        text-align: right;\n",
              "    }\n",
              "</style>\n",
              "<table border=\"1\" class=\"dataframe\">\n",
              "  <thead>\n",
              "    <tr style=\"text-align: right;\">\n",
              "      <th></th>\n",
              "      <th>Tipo</th>\n",
              "      <th>Bairro</th>\n",
              "      <th>Quartos</th>\n",
              "      <th>Vagas</th>\n",
              "      <th>Suites</th>\n",
              "      <th>Area</th>\n",
              "      <th>Valor</th>\n",
              "      <th>Condominio</th>\n",
              "      <th>IPTU</th>\n",
              "    </tr>\n",
              "  </thead>\n",
              "  <tbody>\n",
              "    <tr>\n",
              "      <th>0</th>\n",
              "      <td>Quitinete</td>\n",
              "      <td>Copacabana</td>\n",
              "      <td>1</td>\n",
              "      <td>0</td>\n",
              "      <td>0</td>\n",
              "      <td>40</td>\n",
              "      <td>1700.0</td>\n",
              "      <td>500.0</td>\n",
              "      <td>60.0</td>\n",
              "    </tr>\n",
              "    <tr>\n",
              "      <th>1</th>\n",
              "      <td>Casa</td>\n",
              "      <td>Jardim Botânico</td>\n",
              "      <td>2</td>\n",
              "      <td>0</td>\n",
              "      <td>1</td>\n",
              "      <td>100</td>\n",
              "      <td>7000.0</td>\n",
              "      <td>NaN</td>\n",
              "      <td>NaN</td>\n",
              "    </tr>\n",
              "    <tr>\n",
              "      <th>2</th>\n",
              "      <td>Conjunto Comercial/Sala</td>\n",
              "      <td>Barra da Tijuca</td>\n",
              "      <td>0</td>\n",
              "      <td>4</td>\n",
              "      <td>0</td>\n",
              "      <td>150</td>\n",
              "      <td>5200.0</td>\n",
              "      <td>4020.0</td>\n",
              "      <td>1111.0</td>\n",
              "    </tr>\n",
              "    <tr>\n",
              "      <th>3</th>\n",
              "      <td>Apartamento</td>\n",
              "      <td>Centro</td>\n",
              "      <td>1</td>\n",
              "      <td>0</td>\n",
              "      <td>0</td>\n",
              "      <td>15</td>\n",
              "      <td>800.0</td>\n",
              "      <td>390.0</td>\n",
              "      <td>20.0</td>\n",
              "    </tr>\n",
              "    <tr>\n",
              "      <th>4</th>\n",
              "      <td>Apartamento</td>\n",
              "      <td>Higienópolis</td>\n",
              "      <td>1</td>\n",
              "      <td>0</td>\n",
              "      <td>0</td>\n",
              "      <td>48</td>\n",
              "      <td>800.0</td>\n",
              "      <td>230.0</td>\n",
              "      <td>NaN</td>\n",
              "    </tr>\n",
              "    <tr>\n",
              "      <th>5</th>\n",
              "      <td>Apartamento</td>\n",
              "      <td>Vista Alegre</td>\n",
              "      <td>3</td>\n",
              "      <td>1</td>\n",
              "      <td>0</td>\n",
              "      <td>70</td>\n",
              "      <td>1200.0</td>\n",
              "      <td>NaN</td>\n",
              "      <td>NaN</td>\n",
              "    </tr>\n",
              "    <tr>\n",
              "      <th>6</th>\n",
              "      <td>Apartamento</td>\n",
              "      <td>Cachambi</td>\n",
              "      <td>2</td>\n",
              "      <td>0</td>\n",
              "      <td>0</td>\n",
              "      <td>50</td>\n",
              "      <td>1300.0</td>\n",
              "      <td>301.0</td>\n",
              "      <td>17.0</td>\n",
              "    </tr>\n",
              "    <tr>\n",
              "      <th>7</th>\n",
              "      <td>Casa de Condomínio</td>\n",
              "      <td>Barra da Tijuca</td>\n",
              "      <td>5</td>\n",
              "      <td>4</td>\n",
              "      <td>5</td>\n",
              "      <td>750</td>\n",
              "      <td>22000.0</td>\n",
              "      <td>NaN</td>\n",
              "      <td>NaN</td>\n",
              "    </tr>\n",
              "    <tr>\n",
              "      <th>8</th>\n",
              "      <td>Casa de Condomínio</td>\n",
              "      <td>Ramos</td>\n",
              "      <td>2</td>\n",
              "      <td>2</td>\n",
              "      <td>0</td>\n",
              "      <td>65</td>\n",
              "      <td>1000.0</td>\n",
              "      <td>NaN</td>\n",
              "      <td>NaN</td>\n",
              "    </tr>\n",
              "    <tr>\n",
              "      <th>9</th>\n",
              "      <td>Conjunto Comercial/Sala</td>\n",
              "      <td>Centro</td>\n",
              "      <td>0</td>\n",
              "      <td>3</td>\n",
              "      <td>0</td>\n",
              "      <td>695</td>\n",
              "      <td>35000.0</td>\n",
              "      <td>19193.0</td>\n",
              "      <td>3030.0</td>\n",
              "    </tr>\n",
              "  </tbody>\n",
              "</table>\n",
              "</div>"
            ],
            "text/plain": [
              "                      Tipo           Bairro  ...  Condominio    IPTU\n",
              "0                Quitinete       Copacabana  ...       500.0    60.0\n",
              "1                     Casa  Jardim Botânico  ...         NaN     NaN\n",
              "2  Conjunto Comercial/Sala  Barra da Tijuca  ...      4020.0  1111.0\n",
              "3              Apartamento           Centro  ...       390.0    20.0\n",
              "4              Apartamento     Higienópolis  ...       230.0     NaN\n",
              "5              Apartamento     Vista Alegre  ...         NaN     NaN\n",
              "6              Apartamento         Cachambi  ...       301.0    17.0\n",
              "7       Casa de Condomínio  Barra da Tijuca  ...         NaN     NaN\n",
              "8       Casa de Condomínio            Ramos  ...         NaN     NaN\n",
              "9  Conjunto Comercial/Sala           Centro  ...     19193.0  3030.0\n",
              "\n",
              "[10 rows x 9 columns]"
            ]
          },
          "metadata": {},
          "execution_count": 3
        }
      ]
    },
    {
      "cell_type": "markdown",
      "metadata": {
        "id": "vZtcT_OMJnBQ"
      },
      "source": [
        "#informações Gerais sobre a base dados\n"
      ]
    },
    {
      "cell_type": "code",
      "metadata": {
        "id": "6nckneVeDLGi",
        "colab": {
          "base_uri": "https://localhost:8080/"
        },
        "outputId": "776853c8-af42-4648-8bd9-c919ea9f5d23"
      },
      "source": [
        "dados.dtypes"
      ],
      "execution_count": null,
      "outputs": [
        {
          "output_type": "execute_result",
          "data": {
            "text/plain": [
              "Tipo           object\n",
              "Bairro         object\n",
              "Quartos         int64\n",
              "Vagas           int64\n",
              "Suites          int64\n",
              "Area            int64\n",
              "Valor         float64\n",
              "Condominio    float64\n",
              "IPTU          float64\n",
              "dtype: object"
            ]
          },
          "metadata": {},
          "execution_count": 4
        }
      ]
    },
    {
      "cell_type": "code",
      "metadata": {
        "colab": {
          "base_uri": "https://localhost:8080/"
        },
        "id": "PstS3AjLJwqw",
        "outputId": "a9070b79-05cf-4f5d-fada-9262b8299068"
      },
      "source": [
        "tipos_de_dados = pd.DataFrame(dados.dtypes, columns=[\"Tipos de dados\"])\n",
        "tipos_de_dados.columns.name=\"Variaveis\"\n",
        "tipos_de_dados"
      ],
      "execution_count": null,
      "outputs": [
        {
          "output_type": "execute_result",
          "data": {
            "text/html": [
              "<div>\n",
              "<style scoped>\n",
              "    .dataframe tbody tr th:only-of-type {\n",
              "        vertical-align: middle;\n",
              "    }\n",
              "\n",
              "    .dataframe tbody tr th {\n",
              "        vertical-align: top;\n",
              "    }\n",
              "\n",
              "    .dataframe thead th {\n",
              "        text-align: right;\n",
              "    }\n",
              "</style>\n",
              "<table border=\"1\" class=\"dataframe\">\n",
              "  <thead>\n",
              "    <tr style=\"text-align: right;\">\n",
              "      <th>Variaveis</th>\n",
              "      <th>Tipos de dados</th>\n",
              "    </tr>\n",
              "  </thead>\n",
              "  <tbody>\n",
              "    <tr>\n",
              "      <th>Tipo</th>\n",
              "      <td>object</td>\n",
              "    </tr>\n",
              "    <tr>\n",
              "      <th>Bairro</th>\n",
              "      <td>object</td>\n",
              "    </tr>\n",
              "    <tr>\n",
              "      <th>Quartos</th>\n",
              "      <td>int64</td>\n",
              "    </tr>\n",
              "    <tr>\n",
              "      <th>Vagas</th>\n",
              "      <td>int64</td>\n",
              "    </tr>\n",
              "    <tr>\n",
              "      <th>Suites</th>\n",
              "      <td>int64</td>\n",
              "    </tr>\n",
              "    <tr>\n",
              "      <th>Area</th>\n",
              "      <td>int64</td>\n",
              "    </tr>\n",
              "    <tr>\n",
              "      <th>Valor</th>\n",
              "      <td>float64</td>\n",
              "    </tr>\n",
              "    <tr>\n",
              "      <th>Condominio</th>\n",
              "      <td>float64</td>\n",
              "    </tr>\n",
              "    <tr>\n",
              "      <th>IPTU</th>\n",
              "      <td>float64</td>\n",
              "    </tr>\n",
              "  </tbody>\n",
              "</table>\n",
              "</div>"
            ],
            "text/plain": [
              "Variaveis  Tipos de dados\n",
              "Tipo               object\n",
              "Bairro             object\n",
              "Quartos             int64\n",
              "Vagas               int64\n",
              "Suites              int64\n",
              "Area                int64\n",
              "Valor             float64\n",
              "Condominio        float64\n",
              "IPTU              float64"
            ]
          },
          "metadata": {},
          "execution_count": 5
        }
      ]
    },
    {
      "cell_type": "code",
      "metadata": {
        "colab": {
          "base_uri": "https://localhost:8080/"
        },
        "id": "NW-eXuZYJ92g",
        "outputId": "0445a08d-bec9-4a4b-eefa-aae2482a30c2"
      },
      "source": [
        "dados.shape"
      ],
      "execution_count": null,
      "outputs": [
        {
          "output_type": "execute_result",
          "data": {
            "text/plain": [
              "(32960, 9)"
            ]
          },
          "metadata": {},
          "execution_count": 6
        }
      ]
    },
    {
      "cell_type": "code",
      "metadata": {
        "colab": {
          "base_uri": "https://localhost:8080/"
        },
        "id": "KVr6EjPoKwsQ",
        "outputId": "0f1f5fa4-e465-4400-8b6a-25e84ee4ed2c"
      },
      "source": [
        "print(\"A base dados Apresenta {} registros(imóveis) e {} variáveis\".format(dados.shape[0],dados.shape[1]))"
      ],
      "execution_count": null,
      "outputs": [
        {
          "output_type": "stream",
          "text": [
            "A base dados Apresenta 32960 registros(imóveis) e 9 variáveis\n"
          ],
          "name": "stdout"
        }
      ]
    },
    {
      "cell_type": "markdown",
      "metadata": {
        "id": "fOYj_BllbqGr"
      },
      "source": [
        "#relatorio2\n"
      ]
    },
    {
      "cell_type": "markdown",
      "metadata": {
        "id": "EBwMbpRobyjc"
      },
      "source": [
        "#Tipos de imóveis"
      ]
    },
    {
      "cell_type": "code",
      "metadata": {
        "colab": {
          "base_uri": "https://localhost:8080/"
        },
        "id": "1DD2YtSUb1ha",
        "outputId": "63d9a905-6509-49dd-8933-28592a32f496"
      },
      "source": [
        "dados['Tipo']"
      ],
      "execution_count": null,
      "outputs": [
        {
          "output_type": "execute_result",
          "data": {
            "text/plain": [
              "0                      Quitinete\n",
              "1                           Casa\n",
              "2        Conjunto Comercial/Sala\n",
              "3                    Apartamento\n",
              "4                    Apartamento\n",
              "                  ...           \n",
              "32955                  Quitinete\n",
              "32956                Apartamento\n",
              "32957                Apartamento\n",
              "32958                Apartamento\n",
              "32959    Conjunto Comercial/Sala\n",
              "Name: Tipo, Length: 32960, dtype: object"
            ]
          },
          "metadata": {},
          "execution_count": 8
        }
      ]
    },
    {
      "cell_type": "code",
      "metadata": {
        "id": "ry6Bh8rMcOe8"
      },
      "source": [
        "tipos_de_imovel = dados['Tipo']"
      ],
      "execution_count": null,
      "outputs": []
    },
    {
      "cell_type": "code",
      "metadata": {
        "colab": {
          "base_uri": "https://localhost:8080/"
        },
        "id": "7sEXvK3accKC",
        "outputId": "36013ff0-d506-410a-db50-b725787b28a4"
      },
      "source": [
        "tipos_de_imovel.drop_duplicates()"
      ],
      "execution_count": null,
      "outputs": [
        {
          "output_type": "execute_result",
          "data": {
            "text/plain": [
              "0                          Quitinete\n",
              "1                               Casa\n",
              "2            Conjunto Comercial/Sala\n",
              "3                        Apartamento\n",
              "7                 Casa de Condomínio\n",
              "16                    Prédio Inteiro\n",
              "17                              Flat\n",
              "29                        Loja/Salão\n",
              "80           Galpão/Depósito/Armazém\n",
              "83                    Casa Comercial\n",
              "117                     Casa de Vila\n",
              "159                   Terreno Padrão\n",
              "207                      Box/Garagem\n",
              "347                             Loft\n",
              "589      Loja Shopping/ Ct Comercial\n",
              "2157                         Chácara\n",
              "3354           Loteamento/Condomínio\n",
              "4379                           Sítio\n",
              "4721                   Pousada/Chalé\n",
              "6983                          Studio\n",
              "9687                           Hotel\n",
              "23614                      Indústria\n",
              "Name: Tipo, dtype: object"
            ]
          },
          "metadata": {},
          "execution_count": 10
        }
      ]
    },
    {
      "cell_type": "code",
      "metadata": {
        "colab": {
          "base_uri": "https://localhost:8080/"
        },
        "id": "6BIgmflhdWLD",
        "outputId": "13193f3e-a8ed-4b53-b6fe-d23e8d381106"
      },
      "source": [
        "tipos_de_imovel"
      ],
      "execution_count": null,
      "outputs": [
        {
          "output_type": "execute_result",
          "data": {
            "text/plain": [
              "0                      Quitinete\n",
              "1                           Casa\n",
              "2        Conjunto Comercial/Sala\n",
              "3                    Apartamento\n",
              "4                    Apartamento\n",
              "                  ...           \n",
              "32955                  Quitinete\n",
              "32956                Apartamento\n",
              "32957                Apartamento\n",
              "32958                Apartamento\n",
              "32959    Conjunto Comercial/Sala\n",
              "Name: Tipo, Length: 32960, dtype: object"
            ]
          },
          "metadata": {},
          "execution_count": 11
        }
      ]
    },
    {
      "cell_type": "code",
      "metadata": {
        "colab": {
          "base_uri": "https://localhost:8080/"
        },
        "id": "MzYD0UUBdacc",
        "outputId": "6036646e-d541-452c-f7e5-d660f8a2e0ee"
      },
      "source": [
        "tipos_de_imovel.drop_duplicates(inplace=True)\n",
        "tipos_de_imovel"
      ],
      "execution_count": null,
      "outputs": [
        {
          "output_type": "execute_result",
          "data": {
            "text/plain": [
              "0                          Quitinete\n",
              "1                               Casa\n",
              "2            Conjunto Comercial/Sala\n",
              "3                        Apartamento\n",
              "7                 Casa de Condomínio\n",
              "16                    Prédio Inteiro\n",
              "17                              Flat\n",
              "29                        Loja/Salão\n",
              "80           Galpão/Depósito/Armazém\n",
              "83                    Casa Comercial\n",
              "117                     Casa de Vila\n",
              "159                   Terreno Padrão\n",
              "207                      Box/Garagem\n",
              "347                             Loft\n",
              "589      Loja Shopping/ Ct Comercial\n",
              "2157                         Chácara\n",
              "3354           Loteamento/Condomínio\n",
              "4379                           Sítio\n",
              "4721                   Pousada/Chalé\n",
              "6983                          Studio\n",
              "9687                           Hotel\n",
              "23614                      Indústria\n",
              "Name: Tipo, dtype: object"
            ]
          },
          "metadata": {},
          "execution_count": 12
        }
      ]
    },
    {
      "cell_type": "markdown",
      "metadata": {
        "id": "AaR-xyhGpJ62"
      },
      "source": [
        "#Organizando a visualização"
      ]
    },
    {
      "cell_type": "code",
      "metadata": {
        "colab": {
          "base_uri": "https://localhost:8080/"
        },
        "id": "WIwDSmqSpLUL",
        "outputId": "8ac92956-f3ef-4570-ed1a-e004cbaa23ac"
      },
      "source": [
        "tipos_de_imovel = pd.DataFrame(tipos_de_imovel)\n",
        "tipos_de_imovel"
      ],
      "execution_count": null,
      "outputs": [
        {
          "output_type": "execute_result",
          "data": {
            "text/html": [
              "<div>\n",
              "<style scoped>\n",
              "    .dataframe tbody tr th:only-of-type {\n",
              "        vertical-align: middle;\n",
              "    }\n",
              "\n",
              "    .dataframe tbody tr th {\n",
              "        vertical-align: top;\n",
              "    }\n",
              "\n",
              "    .dataframe thead th {\n",
              "        text-align: right;\n",
              "    }\n",
              "</style>\n",
              "<table border=\"1\" class=\"dataframe\">\n",
              "  <thead>\n",
              "    <tr style=\"text-align: right;\">\n",
              "      <th></th>\n",
              "      <th>Tipo</th>\n",
              "    </tr>\n",
              "  </thead>\n",
              "  <tbody>\n",
              "    <tr>\n",
              "      <th>0</th>\n",
              "      <td>Quitinete</td>\n",
              "    </tr>\n",
              "    <tr>\n",
              "      <th>1</th>\n",
              "      <td>Casa</td>\n",
              "    </tr>\n",
              "    <tr>\n",
              "      <th>2</th>\n",
              "      <td>Conjunto Comercial/Sala</td>\n",
              "    </tr>\n",
              "    <tr>\n",
              "      <th>3</th>\n",
              "      <td>Apartamento</td>\n",
              "    </tr>\n",
              "    <tr>\n",
              "      <th>7</th>\n",
              "      <td>Casa de Condomínio</td>\n",
              "    </tr>\n",
              "    <tr>\n",
              "      <th>16</th>\n",
              "      <td>Prédio Inteiro</td>\n",
              "    </tr>\n",
              "    <tr>\n",
              "      <th>17</th>\n",
              "      <td>Flat</td>\n",
              "    </tr>\n",
              "    <tr>\n",
              "      <th>29</th>\n",
              "      <td>Loja/Salão</td>\n",
              "    </tr>\n",
              "    <tr>\n",
              "      <th>80</th>\n",
              "      <td>Galpão/Depósito/Armazém</td>\n",
              "    </tr>\n",
              "    <tr>\n",
              "      <th>83</th>\n",
              "      <td>Casa Comercial</td>\n",
              "    </tr>\n",
              "    <tr>\n",
              "      <th>117</th>\n",
              "      <td>Casa de Vila</td>\n",
              "    </tr>\n",
              "    <tr>\n",
              "      <th>159</th>\n",
              "      <td>Terreno Padrão</td>\n",
              "    </tr>\n",
              "    <tr>\n",
              "      <th>207</th>\n",
              "      <td>Box/Garagem</td>\n",
              "    </tr>\n",
              "    <tr>\n",
              "      <th>347</th>\n",
              "      <td>Loft</td>\n",
              "    </tr>\n",
              "    <tr>\n",
              "      <th>589</th>\n",
              "      <td>Loja Shopping/ Ct Comercial</td>\n",
              "    </tr>\n",
              "    <tr>\n",
              "      <th>2157</th>\n",
              "      <td>Chácara</td>\n",
              "    </tr>\n",
              "    <tr>\n",
              "      <th>3354</th>\n",
              "      <td>Loteamento/Condomínio</td>\n",
              "    </tr>\n",
              "    <tr>\n",
              "      <th>4379</th>\n",
              "      <td>Sítio</td>\n",
              "    </tr>\n",
              "    <tr>\n",
              "      <th>4721</th>\n",
              "      <td>Pousada/Chalé</td>\n",
              "    </tr>\n",
              "    <tr>\n",
              "      <th>6983</th>\n",
              "      <td>Studio</td>\n",
              "    </tr>\n",
              "    <tr>\n",
              "      <th>9687</th>\n",
              "      <td>Hotel</td>\n",
              "    </tr>\n",
              "    <tr>\n",
              "      <th>23614</th>\n",
              "      <td>Indústria</td>\n",
              "    </tr>\n",
              "  </tbody>\n",
              "</table>\n",
              "</div>"
            ],
            "text/plain": [
              "                              Tipo\n",
              "0                        Quitinete\n",
              "1                             Casa\n",
              "2          Conjunto Comercial/Sala\n",
              "3                      Apartamento\n",
              "7               Casa de Condomínio\n",
              "16                  Prédio Inteiro\n",
              "17                            Flat\n",
              "29                      Loja/Salão\n",
              "80         Galpão/Depósito/Armazém\n",
              "83                  Casa Comercial\n",
              "117                   Casa de Vila\n",
              "159                 Terreno Padrão\n",
              "207                    Box/Garagem\n",
              "347                           Loft\n",
              "589    Loja Shopping/ Ct Comercial\n",
              "2157                       Chácara\n",
              "3354         Loteamento/Condomínio\n",
              "4379                         Sítio\n",
              "4721                 Pousada/Chalé\n",
              "6983                        Studio\n",
              "9687                         Hotel\n",
              "23614                    Indústria"
            ]
          },
          "metadata": {},
          "execution_count": 13
        }
      ]
    },
    {
      "cell_type": "code",
      "metadata": {
        "colab": {
          "base_uri": "https://localhost:8080/"
        },
        "id": "3TQAXNCypW4Z",
        "outputId": "4fc1d389-50eb-45b4-a6d3-9dac155c150b"
      },
      "source": [
        "tipos_de_imovel.index"
      ],
      "execution_count": null,
      "outputs": [
        {
          "output_type": "execute_result",
          "data": {
            "text/plain": [
              "Int64Index([    0,     1,     2,     3,     7,    16,    17,    29,    80,\n",
              "               83,   117,   159,   207,   347,   589,  2157,  3354,  4379,\n",
              "             4721,  6983,  9687, 23614],\n",
              "           dtype='int64')"
            ]
          },
          "metadata": {},
          "execution_count": 14
        }
      ]
    },
    {
      "cell_type": "code",
      "metadata": {
        "colab": {
          "base_uri": "https://localhost:8080/"
        },
        "id": "JIuCK8Zepnti",
        "outputId": "b9da6945-3ed1-41b2-f0ca-213535a620a2"
      },
      "source": [
        "tipos_de_imovel.shape[0]"
      ],
      "execution_count": null,
      "outputs": [
        {
          "output_type": "execute_result",
          "data": {
            "text/plain": [
              "22"
            ]
          },
          "metadata": {},
          "execution_count": 15
        }
      ]
    },
    {
      "cell_type": "code",
      "metadata": {
        "colab": {
          "base_uri": "https://localhost:8080/"
        },
        "id": "lkjwM22buobT",
        "outputId": "2c3c6981-2507-47ac-ce6e-647c7048be07"
      },
      "source": [
        "range(0,22)"
      ],
      "execution_count": null,
      "outputs": [
        {
          "output_type": "execute_result",
          "data": {
            "text/plain": [
              "range(0, 22)"
            ]
          },
          "metadata": {},
          "execution_count": 16
        }
      ]
    },
    {
      "cell_type": "code",
      "metadata": {
        "colab": {
          "base_uri": "https://localhost:8080/"
        },
        "id": "zKTRNOYIuq3Y",
        "outputId": "8c7c468d-00ad-4100-90f9-c2dab20f1fec"
      },
      "source": [
        "for i in range(tipos_de_imovel.shape[0]):\n",
        "  print(i)"
      ],
      "execution_count": null,
      "outputs": [
        {
          "output_type": "stream",
          "text": [
            "0\n",
            "1\n",
            "2\n",
            "3\n",
            "4\n",
            "5\n",
            "6\n",
            "7\n",
            "8\n",
            "9\n",
            "10\n",
            "11\n",
            "12\n",
            "13\n",
            "14\n",
            "15\n",
            "16\n",
            "17\n",
            "18\n",
            "19\n",
            "20\n",
            "21\n"
          ],
          "name": "stdout"
        }
      ]
    },
    {
      "cell_type": "code",
      "metadata": {
        "colab": {
          "base_uri": "https://localhost:8080/"
        },
        "id": "-YJvFkqvuzgY",
        "outputId": "1bbd45af-ed46-4812-b972-de32c651b4bc"
      },
      "source": [
        "tipos_de_imovel.index = range(tipos_de_imovel.shape[0])\n",
        "\n",
        "tipos_de_imovel.index"
      ],
      "execution_count": null,
      "outputs": [
        {
          "output_type": "execute_result",
          "data": {
            "text/plain": [
              "RangeIndex(start=0, stop=22, step=1)"
            ]
          },
          "metadata": {},
          "execution_count": 18
        }
      ]
    },
    {
      "cell_type": "code",
      "metadata": {
        "colab": {
          "base_uri": "https://localhost:8080/"
        },
        "id": "Yo4UR7iHvSSw",
        "outputId": "ee438292-0ec4-4b2b-ea30-241db8bed255"
      },
      "source": [
        "tipos_de_imovel"
      ],
      "execution_count": null,
      "outputs": [
        {
          "output_type": "execute_result",
          "data": {
            "text/html": [
              "<div>\n",
              "<style scoped>\n",
              "    .dataframe tbody tr th:only-of-type {\n",
              "        vertical-align: middle;\n",
              "    }\n",
              "\n",
              "    .dataframe tbody tr th {\n",
              "        vertical-align: top;\n",
              "    }\n",
              "\n",
              "    .dataframe thead th {\n",
              "        text-align: right;\n",
              "    }\n",
              "</style>\n",
              "<table border=\"1\" class=\"dataframe\">\n",
              "  <thead>\n",
              "    <tr style=\"text-align: right;\">\n",
              "      <th></th>\n",
              "      <th>Tipo</th>\n",
              "    </tr>\n",
              "  </thead>\n",
              "  <tbody>\n",
              "    <tr>\n",
              "      <th>0</th>\n",
              "      <td>Quitinete</td>\n",
              "    </tr>\n",
              "    <tr>\n",
              "      <th>1</th>\n",
              "      <td>Casa</td>\n",
              "    </tr>\n",
              "    <tr>\n",
              "      <th>2</th>\n",
              "      <td>Conjunto Comercial/Sala</td>\n",
              "    </tr>\n",
              "    <tr>\n",
              "      <th>3</th>\n",
              "      <td>Apartamento</td>\n",
              "    </tr>\n",
              "    <tr>\n",
              "      <th>4</th>\n",
              "      <td>Casa de Condomínio</td>\n",
              "    </tr>\n",
              "    <tr>\n",
              "      <th>5</th>\n",
              "      <td>Prédio Inteiro</td>\n",
              "    </tr>\n",
              "    <tr>\n",
              "      <th>6</th>\n",
              "      <td>Flat</td>\n",
              "    </tr>\n",
              "    <tr>\n",
              "      <th>7</th>\n",
              "      <td>Loja/Salão</td>\n",
              "    </tr>\n",
              "    <tr>\n",
              "      <th>8</th>\n",
              "      <td>Galpão/Depósito/Armazém</td>\n",
              "    </tr>\n",
              "    <tr>\n",
              "      <th>9</th>\n",
              "      <td>Casa Comercial</td>\n",
              "    </tr>\n",
              "    <tr>\n",
              "      <th>10</th>\n",
              "      <td>Casa de Vila</td>\n",
              "    </tr>\n",
              "    <tr>\n",
              "      <th>11</th>\n",
              "      <td>Terreno Padrão</td>\n",
              "    </tr>\n",
              "    <tr>\n",
              "      <th>12</th>\n",
              "      <td>Box/Garagem</td>\n",
              "    </tr>\n",
              "    <tr>\n",
              "      <th>13</th>\n",
              "      <td>Loft</td>\n",
              "    </tr>\n",
              "    <tr>\n",
              "      <th>14</th>\n",
              "      <td>Loja Shopping/ Ct Comercial</td>\n",
              "    </tr>\n",
              "    <tr>\n",
              "      <th>15</th>\n",
              "      <td>Chácara</td>\n",
              "    </tr>\n",
              "    <tr>\n",
              "      <th>16</th>\n",
              "      <td>Loteamento/Condomínio</td>\n",
              "    </tr>\n",
              "    <tr>\n",
              "      <th>17</th>\n",
              "      <td>Sítio</td>\n",
              "    </tr>\n",
              "    <tr>\n",
              "      <th>18</th>\n",
              "      <td>Pousada/Chalé</td>\n",
              "    </tr>\n",
              "    <tr>\n",
              "      <th>19</th>\n",
              "      <td>Studio</td>\n",
              "    </tr>\n",
              "    <tr>\n",
              "      <th>20</th>\n",
              "      <td>Hotel</td>\n",
              "    </tr>\n",
              "    <tr>\n",
              "      <th>21</th>\n",
              "      <td>Indústria</td>\n",
              "    </tr>\n",
              "  </tbody>\n",
              "</table>\n",
              "</div>"
            ],
            "text/plain": [
              "                           Tipo\n",
              "0                     Quitinete\n",
              "1                          Casa\n",
              "2       Conjunto Comercial/Sala\n",
              "3                   Apartamento\n",
              "4            Casa de Condomínio\n",
              "5                Prédio Inteiro\n",
              "6                          Flat\n",
              "7                    Loja/Salão\n",
              "8       Galpão/Depósito/Armazém\n",
              "9                Casa Comercial\n",
              "10                 Casa de Vila\n",
              "11               Terreno Padrão\n",
              "12                  Box/Garagem\n",
              "13                         Loft\n",
              "14  Loja Shopping/ Ct Comercial\n",
              "15                      Chácara\n",
              "16        Loteamento/Condomínio\n",
              "17                        Sítio\n",
              "18                Pousada/Chalé\n",
              "19                       Studio\n",
              "20                        Hotel\n",
              "21                    Indústria"
            ]
          },
          "metadata": {},
          "execution_count": 19
        }
      ]
    },
    {
      "cell_type": "code",
      "metadata": {
        "colab": {
          "base_uri": "https://localhost:8080/"
        },
        "id": "y7wzQqwev3Sk",
        "outputId": "d6b5a87b-4095-4d91-ca08-4ae47e7147d2"
      },
      "source": [
        "tipos_de_imovel.columns.name = 'id'\n",
        "tipos_de_imovel"
      ],
      "execution_count": null,
      "outputs": [
        {
          "output_type": "execute_result",
          "data": {
            "text/html": [
              "<div>\n",
              "<style scoped>\n",
              "    .dataframe tbody tr th:only-of-type {\n",
              "        vertical-align: middle;\n",
              "    }\n",
              "\n",
              "    .dataframe tbody tr th {\n",
              "        vertical-align: top;\n",
              "    }\n",
              "\n",
              "    .dataframe thead th {\n",
              "        text-align: right;\n",
              "    }\n",
              "</style>\n",
              "<table border=\"1\" class=\"dataframe\">\n",
              "  <thead>\n",
              "    <tr style=\"text-align: right;\">\n",
              "      <th>id</th>\n",
              "      <th>Tipo</th>\n",
              "    </tr>\n",
              "  </thead>\n",
              "  <tbody>\n",
              "    <tr>\n",
              "      <th>0</th>\n",
              "      <td>Quitinete</td>\n",
              "    </tr>\n",
              "    <tr>\n",
              "      <th>1</th>\n",
              "      <td>Casa</td>\n",
              "    </tr>\n",
              "    <tr>\n",
              "      <th>2</th>\n",
              "      <td>Conjunto Comercial/Sala</td>\n",
              "    </tr>\n",
              "    <tr>\n",
              "      <th>3</th>\n",
              "      <td>Apartamento</td>\n",
              "    </tr>\n",
              "    <tr>\n",
              "      <th>4</th>\n",
              "      <td>Casa de Condomínio</td>\n",
              "    </tr>\n",
              "    <tr>\n",
              "      <th>5</th>\n",
              "      <td>Prédio Inteiro</td>\n",
              "    </tr>\n",
              "    <tr>\n",
              "      <th>6</th>\n",
              "      <td>Flat</td>\n",
              "    </tr>\n",
              "    <tr>\n",
              "      <th>7</th>\n",
              "      <td>Loja/Salão</td>\n",
              "    </tr>\n",
              "    <tr>\n",
              "      <th>8</th>\n",
              "      <td>Galpão/Depósito/Armazém</td>\n",
              "    </tr>\n",
              "    <tr>\n",
              "      <th>9</th>\n",
              "      <td>Casa Comercial</td>\n",
              "    </tr>\n",
              "    <tr>\n",
              "      <th>10</th>\n",
              "      <td>Casa de Vila</td>\n",
              "    </tr>\n",
              "    <tr>\n",
              "      <th>11</th>\n",
              "      <td>Terreno Padrão</td>\n",
              "    </tr>\n",
              "    <tr>\n",
              "      <th>12</th>\n",
              "      <td>Box/Garagem</td>\n",
              "    </tr>\n",
              "    <tr>\n",
              "      <th>13</th>\n",
              "      <td>Loft</td>\n",
              "    </tr>\n",
              "    <tr>\n",
              "      <th>14</th>\n",
              "      <td>Loja Shopping/ Ct Comercial</td>\n",
              "    </tr>\n",
              "    <tr>\n",
              "      <th>15</th>\n",
              "      <td>Chácara</td>\n",
              "    </tr>\n",
              "    <tr>\n",
              "      <th>16</th>\n",
              "      <td>Loteamento/Condomínio</td>\n",
              "    </tr>\n",
              "    <tr>\n",
              "      <th>17</th>\n",
              "      <td>Sítio</td>\n",
              "    </tr>\n",
              "    <tr>\n",
              "      <th>18</th>\n",
              "      <td>Pousada/Chalé</td>\n",
              "    </tr>\n",
              "    <tr>\n",
              "      <th>19</th>\n",
              "      <td>Studio</td>\n",
              "    </tr>\n",
              "    <tr>\n",
              "      <th>20</th>\n",
              "      <td>Hotel</td>\n",
              "    </tr>\n",
              "    <tr>\n",
              "      <th>21</th>\n",
              "      <td>Indústria</td>\n",
              "    </tr>\n",
              "  </tbody>\n",
              "</table>\n",
              "</div>"
            ],
            "text/plain": [
              "id                         Tipo\n",
              "0                     Quitinete\n",
              "1                          Casa\n",
              "2       Conjunto Comercial/Sala\n",
              "3                   Apartamento\n",
              "4            Casa de Condomínio\n",
              "5                Prédio Inteiro\n",
              "6                          Flat\n",
              "7                    Loja/Salão\n",
              "8       Galpão/Depósito/Armazém\n",
              "9                Casa Comercial\n",
              "10                 Casa de Vila\n",
              "11               Terreno Padrão\n",
              "12                  Box/Garagem\n",
              "13                         Loft\n",
              "14  Loja Shopping/ Ct Comercial\n",
              "15                      Chácara\n",
              "16        Loteamento/Condomínio\n",
              "17                        Sítio\n",
              "18                Pousada/Chalé\n",
              "19                       Studio\n",
              "20                        Hotel\n",
              "21                    Indústria"
            ]
          },
          "metadata": {},
          "execution_count": 20
        }
      ]
    },
    {
      "cell_type": "code",
      "metadata": {
        "id": "yNFobemTv-sX"
      },
      "source": [
        ""
      ],
      "execution_count": null,
      "outputs": []
    },
    {
      "cell_type": "markdown",
      "metadata": {
        "id": "Bily6MP_9Ucz"
      },
      "source": [
        "#Imóveis resendiciais\n",
        "##Relatorio 2"
      ]
    },
    {
      "cell_type": "code",
      "metadata": {
        "colab": {
          "base_uri": "https://localhost:8080/"
        },
        "id": "sIHqhLcK9WzT",
        "outputId": "8f8ebc0c-99f3-4035-c803-ed4b984a7789"
      },
      "source": [
        "dados = pd.read_csv('aluguel.csv', sep = \";\")\n",
        "dados.head(10)"
      ],
      "execution_count": null,
      "outputs": [
        {
          "output_type": "execute_result",
          "data": {
            "text/html": [
              "<div>\n",
              "<style scoped>\n",
              "    .dataframe tbody tr th:only-of-type {\n",
              "        vertical-align: middle;\n",
              "    }\n",
              "\n",
              "    .dataframe tbody tr th {\n",
              "        vertical-align: top;\n",
              "    }\n",
              "\n",
              "    .dataframe thead th {\n",
              "        text-align: right;\n",
              "    }\n",
              "</style>\n",
              "<table border=\"1\" class=\"dataframe\">\n",
              "  <thead>\n",
              "    <tr style=\"text-align: right;\">\n",
              "      <th></th>\n",
              "      <th>Tipo</th>\n",
              "      <th>Bairro</th>\n",
              "      <th>Quartos</th>\n",
              "      <th>Vagas</th>\n",
              "      <th>Suites</th>\n",
              "      <th>Area</th>\n",
              "      <th>Valor</th>\n",
              "      <th>Condominio</th>\n",
              "      <th>IPTU</th>\n",
              "    </tr>\n",
              "  </thead>\n",
              "  <tbody>\n",
              "    <tr>\n",
              "      <th>0</th>\n",
              "      <td>Quitinete</td>\n",
              "      <td>Copacabana</td>\n",
              "      <td>1</td>\n",
              "      <td>0</td>\n",
              "      <td>0</td>\n",
              "      <td>40</td>\n",
              "      <td>1700.0</td>\n",
              "      <td>500.0</td>\n",
              "      <td>60.0</td>\n",
              "    </tr>\n",
              "    <tr>\n",
              "      <th>1</th>\n",
              "      <td>Casa</td>\n",
              "      <td>Jardim Botânico</td>\n",
              "      <td>2</td>\n",
              "      <td>0</td>\n",
              "      <td>1</td>\n",
              "      <td>100</td>\n",
              "      <td>7000.0</td>\n",
              "      <td>NaN</td>\n",
              "      <td>NaN</td>\n",
              "    </tr>\n",
              "    <tr>\n",
              "      <th>2</th>\n",
              "      <td>Conjunto Comercial/Sala</td>\n",
              "      <td>Barra da Tijuca</td>\n",
              "      <td>0</td>\n",
              "      <td>4</td>\n",
              "      <td>0</td>\n",
              "      <td>150</td>\n",
              "      <td>5200.0</td>\n",
              "      <td>4020.0</td>\n",
              "      <td>1111.0</td>\n",
              "    </tr>\n",
              "    <tr>\n",
              "      <th>3</th>\n",
              "      <td>Apartamento</td>\n",
              "      <td>Centro</td>\n",
              "      <td>1</td>\n",
              "      <td>0</td>\n",
              "      <td>0</td>\n",
              "      <td>15</td>\n",
              "      <td>800.0</td>\n",
              "      <td>390.0</td>\n",
              "      <td>20.0</td>\n",
              "    </tr>\n",
              "    <tr>\n",
              "      <th>4</th>\n",
              "      <td>Apartamento</td>\n",
              "      <td>Higienópolis</td>\n",
              "      <td>1</td>\n",
              "      <td>0</td>\n",
              "      <td>0</td>\n",
              "      <td>48</td>\n",
              "      <td>800.0</td>\n",
              "      <td>230.0</td>\n",
              "      <td>NaN</td>\n",
              "    </tr>\n",
              "    <tr>\n",
              "      <th>5</th>\n",
              "      <td>Apartamento</td>\n",
              "      <td>Vista Alegre</td>\n",
              "      <td>3</td>\n",
              "      <td>1</td>\n",
              "      <td>0</td>\n",
              "      <td>70</td>\n",
              "      <td>1200.0</td>\n",
              "      <td>NaN</td>\n",
              "      <td>NaN</td>\n",
              "    </tr>\n",
              "    <tr>\n",
              "      <th>6</th>\n",
              "      <td>Apartamento</td>\n",
              "      <td>Cachambi</td>\n",
              "      <td>2</td>\n",
              "      <td>0</td>\n",
              "      <td>0</td>\n",
              "      <td>50</td>\n",
              "      <td>1300.0</td>\n",
              "      <td>301.0</td>\n",
              "      <td>17.0</td>\n",
              "    </tr>\n",
              "    <tr>\n",
              "      <th>7</th>\n",
              "      <td>Casa de Condomínio</td>\n",
              "      <td>Barra da Tijuca</td>\n",
              "      <td>5</td>\n",
              "      <td>4</td>\n",
              "      <td>5</td>\n",
              "      <td>750</td>\n",
              "      <td>22000.0</td>\n",
              "      <td>NaN</td>\n",
              "      <td>NaN</td>\n",
              "    </tr>\n",
              "    <tr>\n",
              "      <th>8</th>\n",
              "      <td>Casa de Condomínio</td>\n",
              "      <td>Ramos</td>\n",
              "      <td>2</td>\n",
              "      <td>2</td>\n",
              "      <td>0</td>\n",
              "      <td>65</td>\n",
              "      <td>1000.0</td>\n",
              "      <td>NaN</td>\n",
              "      <td>NaN</td>\n",
              "    </tr>\n",
              "    <tr>\n",
              "      <th>9</th>\n",
              "      <td>Conjunto Comercial/Sala</td>\n",
              "      <td>Centro</td>\n",
              "      <td>0</td>\n",
              "      <td>3</td>\n",
              "      <td>0</td>\n",
              "      <td>695</td>\n",
              "      <td>35000.0</td>\n",
              "      <td>19193.0</td>\n",
              "      <td>3030.0</td>\n",
              "    </tr>\n",
              "  </tbody>\n",
              "</table>\n",
              "</div>"
            ],
            "text/plain": [
              "                      Tipo           Bairro  ...  Condominio    IPTU\n",
              "0                Quitinete       Copacabana  ...       500.0    60.0\n",
              "1                     Casa  Jardim Botânico  ...         NaN     NaN\n",
              "2  Conjunto Comercial/Sala  Barra da Tijuca  ...      4020.0  1111.0\n",
              "3              Apartamento           Centro  ...       390.0    20.0\n",
              "4              Apartamento     Higienópolis  ...       230.0     NaN\n",
              "5              Apartamento     Vista Alegre  ...         NaN     NaN\n",
              "6              Apartamento         Cachambi  ...       301.0    17.0\n",
              "7       Casa de Condomínio  Barra da Tijuca  ...         NaN     NaN\n",
              "8       Casa de Condomínio            Ramos  ...         NaN     NaN\n",
              "9  Conjunto Comercial/Sala           Centro  ...     19193.0  3030.0\n",
              "\n",
              "[10 rows x 9 columns]"
            ]
          },
          "metadata": {},
          "execution_count": 21
        }
      ]
    },
    {
      "cell_type": "code",
      "metadata": {
        "colab": {
          "base_uri": "https://localhost:8080/"
        },
        "id": "e8hHWy0t-Cjj",
        "outputId": "36940c2b-bf39-41e1-ebf0-dcf7eb31d57c"
      },
      "source": [
        "list(dados['Tipo'].drop_duplicates())"
      ],
      "execution_count": null,
      "outputs": [
        {
          "output_type": "execute_result",
          "data": {
            "text/plain": [
              "['Quitinete',\n",
              " 'Casa',\n",
              " 'Conjunto Comercial/Sala',\n",
              " 'Apartamento',\n",
              " 'Casa de Condomínio',\n",
              " 'Prédio Inteiro',\n",
              " 'Flat',\n",
              " 'Loja/Salão',\n",
              " 'Galpão/Depósito/Armazém',\n",
              " 'Casa Comercial',\n",
              " 'Casa de Vila',\n",
              " 'Terreno Padrão',\n",
              " 'Box/Garagem',\n",
              " 'Loft',\n",
              " 'Loja Shopping/ Ct Comercial',\n",
              " 'Chácara',\n",
              " 'Loteamento/Condomínio',\n",
              " 'Sítio',\n",
              " 'Pousada/Chalé',\n",
              " 'Studio',\n",
              " 'Hotel',\n",
              " 'Indústria']"
            ]
          },
          "metadata": {},
          "execution_count": 22
        }
      ]
    },
    {
      "cell_type": "code",
      "metadata": {
        "id": "iNLUDeKIBZar"
      },
      "source": [
        "resendecial = ['Quitinete',\n",
        " 'Casa',\n",
        " 'Apartamento',\n",
        " 'Casa de Vila',\n",
        " 'Casa de Condomínio']"
      ],
      "execution_count": null,
      "outputs": []
    },
    {
      "cell_type": "code",
      "metadata": {
        "colab": {
          "base_uri": "https://localhost:8080/"
        },
        "id": "oGEokz71BxUL",
        "outputId": "7bf60733-fce8-47e0-af27-75db68dae05a"
      },
      "source": [
        "resendecial"
      ],
      "execution_count": null,
      "outputs": [
        {
          "output_type": "execute_result",
          "data": {
            "text/plain": [
              "['Quitinete', 'Casa', 'Apartamento', 'Casa de Vila', 'Casa de Condomínio']"
            ]
          },
          "metadata": {},
          "execution_count": 24
        }
      ]
    },
    {
      "cell_type": "code",
      "metadata": {
        "colab": {
          "base_uri": "https://localhost:8080/"
        },
        "id": "6MZDI7B6B0ga",
        "outputId": "1a08fc2a-2706-4140-d522-3b76ce10a0bc"
      },
      "source": [
        "dados.head(10)"
      ],
      "execution_count": null,
      "outputs": [
        {
          "output_type": "execute_result",
          "data": {
            "text/html": [
              "<div>\n",
              "<style scoped>\n",
              "    .dataframe tbody tr th:only-of-type {\n",
              "        vertical-align: middle;\n",
              "    }\n",
              "\n",
              "    .dataframe tbody tr th {\n",
              "        vertical-align: top;\n",
              "    }\n",
              "\n",
              "    .dataframe thead th {\n",
              "        text-align: right;\n",
              "    }\n",
              "</style>\n",
              "<table border=\"1\" class=\"dataframe\">\n",
              "  <thead>\n",
              "    <tr style=\"text-align: right;\">\n",
              "      <th></th>\n",
              "      <th>Tipo</th>\n",
              "      <th>Bairro</th>\n",
              "      <th>Quartos</th>\n",
              "      <th>Vagas</th>\n",
              "      <th>Suites</th>\n",
              "      <th>Area</th>\n",
              "      <th>Valor</th>\n",
              "      <th>Condominio</th>\n",
              "      <th>IPTU</th>\n",
              "    </tr>\n",
              "  </thead>\n",
              "  <tbody>\n",
              "    <tr>\n",
              "      <th>0</th>\n",
              "      <td>Quitinete</td>\n",
              "      <td>Copacabana</td>\n",
              "      <td>1</td>\n",
              "      <td>0</td>\n",
              "      <td>0</td>\n",
              "      <td>40</td>\n",
              "      <td>1700.0</td>\n",
              "      <td>500.0</td>\n",
              "      <td>60.0</td>\n",
              "    </tr>\n",
              "    <tr>\n",
              "      <th>1</th>\n",
              "      <td>Casa</td>\n",
              "      <td>Jardim Botânico</td>\n",
              "      <td>2</td>\n",
              "      <td>0</td>\n",
              "      <td>1</td>\n",
              "      <td>100</td>\n",
              "      <td>7000.0</td>\n",
              "      <td>NaN</td>\n",
              "      <td>NaN</td>\n",
              "    </tr>\n",
              "    <tr>\n",
              "      <th>2</th>\n",
              "      <td>Conjunto Comercial/Sala</td>\n",
              "      <td>Barra da Tijuca</td>\n",
              "      <td>0</td>\n",
              "      <td>4</td>\n",
              "      <td>0</td>\n",
              "      <td>150</td>\n",
              "      <td>5200.0</td>\n",
              "      <td>4020.0</td>\n",
              "      <td>1111.0</td>\n",
              "    </tr>\n",
              "    <tr>\n",
              "      <th>3</th>\n",
              "      <td>Apartamento</td>\n",
              "      <td>Centro</td>\n",
              "      <td>1</td>\n",
              "      <td>0</td>\n",
              "      <td>0</td>\n",
              "      <td>15</td>\n",
              "      <td>800.0</td>\n",
              "      <td>390.0</td>\n",
              "      <td>20.0</td>\n",
              "    </tr>\n",
              "    <tr>\n",
              "      <th>4</th>\n",
              "      <td>Apartamento</td>\n",
              "      <td>Higienópolis</td>\n",
              "      <td>1</td>\n",
              "      <td>0</td>\n",
              "      <td>0</td>\n",
              "      <td>48</td>\n",
              "      <td>800.0</td>\n",
              "      <td>230.0</td>\n",
              "      <td>NaN</td>\n",
              "    </tr>\n",
              "    <tr>\n",
              "      <th>5</th>\n",
              "      <td>Apartamento</td>\n",
              "      <td>Vista Alegre</td>\n",
              "      <td>3</td>\n",
              "      <td>1</td>\n",
              "      <td>0</td>\n",
              "      <td>70</td>\n",
              "      <td>1200.0</td>\n",
              "      <td>NaN</td>\n",
              "      <td>NaN</td>\n",
              "    </tr>\n",
              "    <tr>\n",
              "      <th>6</th>\n",
              "      <td>Apartamento</td>\n",
              "      <td>Cachambi</td>\n",
              "      <td>2</td>\n",
              "      <td>0</td>\n",
              "      <td>0</td>\n",
              "      <td>50</td>\n",
              "      <td>1300.0</td>\n",
              "      <td>301.0</td>\n",
              "      <td>17.0</td>\n",
              "    </tr>\n",
              "    <tr>\n",
              "      <th>7</th>\n",
              "      <td>Casa de Condomínio</td>\n",
              "      <td>Barra da Tijuca</td>\n",
              "      <td>5</td>\n",
              "      <td>4</td>\n",
              "      <td>5</td>\n",
              "      <td>750</td>\n",
              "      <td>22000.0</td>\n",
              "      <td>NaN</td>\n",
              "      <td>NaN</td>\n",
              "    </tr>\n",
              "    <tr>\n",
              "      <th>8</th>\n",
              "      <td>Casa de Condomínio</td>\n",
              "      <td>Ramos</td>\n",
              "      <td>2</td>\n",
              "      <td>2</td>\n",
              "      <td>0</td>\n",
              "      <td>65</td>\n",
              "      <td>1000.0</td>\n",
              "      <td>NaN</td>\n",
              "      <td>NaN</td>\n",
              "    </tr>\n",
              "    <tr>\n",
              "      <th>9</th>\n",
              "      <td>Conjunto Comercial/Sala</td>\n",
              "      <td>Centro</td>\n",
              "      <td>0</td>\n",
              "      <td>3</td>\n",
              "      <td>0</td>\n",
              "      <td>695</td>\n",
              "      <td>35000.0</td>\n",
              "      <td>19193.0</td>\n",
              "      <td>3030.0</td>\n",
              "    </tr>\n",
              "  </tbody>\n",
              "</table>\n",
              "</div>"
            ],
            "text/plain": [
              "                      Tipo           Bairro  ...  Condominio    IPTU\n",
              "0                Quitinete       Copacabana  ...       500.0    60.0\n",
              "1                     Casa  Jardim Botânico  ...         NaN     NaN\n",
              "2  Conjunto Comercial/Sala  Barra da Tijuca  ...      4020.0  1111.0\n",
              "3              Apartamento           Centro  ...       390.0    20.0\n",
              "4              Apartamento     Higienópolis  ...       230.0     NaN\n",
              "5              Apartamento     Vista Alegre  ...         NaN     NaN\n",
              "6              Apartamento         Cachambi  ...       301.0    17.0\n",
              "7       Casa de Condomínio  Barra da Tijuca  ...         NaN     NaN\n",
              "8       Casa de Condomínio            Ramos  ...         NaN     NaN\n",
              "9  Conjunto Comercial/Sala           Centro  ...     19193.0  3030.0\n",
              "\n",
              "[10 rows x 9 columns]"
            ]
          },
          "metadata": {},
          "execution_count": 25
        }
      ]
    },
    {
      "cell_type": "code",
      "metadata": {
        "colab": {
          "base_uri": "https://localhost:8080/"
        },
        "id": "JfanzgTvB2xq",
        "outputId": "4da463bd-ae5f-4dfb-911e-fb8f5390434b"
      },
      "source": [
        "selecao = dados['Tipo'].isin(resendecial)\n",
        "selecao"
      ],
      "execution_count": null,
      "outputs": [
        {
          "output_type": "execute_result",
          "data": {
            "text/plain": [
              "0         True\n",
              "1         True\n",
              "2        False\n",
              "3         True\n",
              "4         True\n",
              "         ...  \n",
              "32955     True\n",
              "32956     True\n",
              "32957     True\n",
              "32958     True\n",
              "32959    False\n",
              "Name: Tipo, Length: 32960, dtype: bool"
            ]
          },
          "metadata": {},
          "execution_count": 26
        }
      ]
    },
    {
      "cell_type": "code",
      "metadata": {
        "colab": {
          "base_uri": "https://localhost:8080/"
        },
        "id": "mF_lT6VbCLGL",
        "outputId": "abb5ab3e-f255-4dc5-f5f7-c4de95003d62"
      },
      "source": [
        "dados_residencial = dados[selecao]\n",
        "dados_residencial"
      ],
      "execution_count": null,
      "outputs": [
        {
          "output_type": "execute_result",
          "data": {
            "text/html": [
              "<div>\n",
              "<style scoped>\n",
              "    .dataframe tbody tr th:only-of-type {\n",
              "        vertical-align: middle;\n",
              "    }\n",
              "\n",
              "    .dataframe tbody tr th {\n",
              "        vertical-align: top;\n",
              "    }\n",
              "\n",
              "    .dataframe thead th {\n",
              "        text-align: right;\n",
              "    }\n",
              "</style>\n",
              "<table border=\"1\" class=\"dataframe\">\n",
              "  <thead>\n",
              "    <tr style=\"text-align: right;\">\n",
              "      <th></th>\n",
              "      <th>Tipo</th>\n",
              "      <th>Bairro</th>\n",
              "      <th>Quartos</th>\n",
              "      <th>Vagas</th>\n",
              "      <th>Suites</th>\n",
              "      <th>Area</th>\n",
              "      <th>Valor</th>\n",
              "      <th>Condominio</th>\n",
              "      <th>IPTU</th>\n",
              "    </tr>\n",
              "  </thead>\n",
              "  <tbody>\n",
              "    <tr>\n",
              "      <th>0</th>\n",
              "      <td>Quitinete</td>\n",
              "      <td>Copacabana</td>\n",
              "      <td>1</td>\n",
              "      <td>0</td>\n",
              "      <td>0</td>\n",
              "      <td>40</td>\n",
              "      <td>1700.0</td>\n",
              "      <td>500.0</td>\n",
              "      <td>60.0</td>\n",
              "    </tr>\n",
              "    <tr>\n",
              "      <th>1</th>\n",
              "      <td>Casa</td>\n",
              "      <td>Jardim Botânico</td>\n",
              "      <td>2</td>\n",
              "      <td>0</td>\n",
              "      <td>1</td>\n",
              "      <td>100</td>\n",
              "      <td>7000.0</td>\n",
              "      <td>NaN</td>\n",
              "      <td>NaN</td>\n",
              "    </tr>\n",
              "    <tr>\n",
              "      <th>3</th>\n",
              "      <td>Apartamento</td>\n",
              "      <td>Centro</td>\n",
              "      <td>1</td>\n",
              "      <td>0</td>\n",
              "      <td>0</td>\n",
              "      <td>15</td>\n",
              "      <td>800.0</td>\n",
              "      <td>390.0</td>\n",
              "      <td>20.0</td>\n",
              "    </tr>\n",
              "    <tr>\n",
              "      <th>4</th>\n",
              "      <td>Apartamento</td>\n",
              "      <td>Higienópolis</td>\n",
              "      <td>1</td>\n",
              "      <td>0</td>\n",
              "      <td>0</td>\n",
              "      <td>48</td>\n",
              "      <td>800.0</td>\n",
              "      <td>230.0</td>\n",
              "      <td>NaN</td>\n",
              "    </tr>\n",
              "    <tr>\n",
              "      <th>5</th>\n",
              "      <td>Apartamento</td>\n",
              "      <td>Vista Alegre</td>\n",
              "      <td>3</td>\n",
              "      <td>1</td>\n",
              "      <td>0</td>\n",
              "      <td>70</td>\n",
              "      <td>1200.0</td>\n",
              "      <td>NaN</td>\n",
              "      <td>NaN</td>\n",
              "    </tr>\n",
              "    <tr>\n",
              "      <th>...</th>\n",
              "      <td>...</td>\n",
              "      <td>...</td>\n",
              "      <td>...</td>\n",
              "      <td>...</td>\n",
              "      <td>...</td>\n",
              "      <td>...</td>\n",
              "      <td>...</td>\n",
              "      <td>...</td>\n",
              "      <td>...</td>\n",
              "    </tr>\n",
              "    <tr>\n",
              "      <th>32953</th>\n",
              "      <td>Apartamento</td>\n",
              "      <td>Méier</td>\n",
              "      <td>2</td>\n",
              "      <td>0</td>\n",
              "      <td>0</td>\n",
              "      <td>70</td>\n",
              "      <td>900.0</td>\n",
              "      <td>490.0</td>\n",
              "      <td>48.0</td>\n",
              "    </tr>\n",
              "    <tr>\n",
              "      <th>32955</th>\n",
              "      <td>Quitinete</td>\n",
              "      <td>Centro</td>\n",
              "      <td>0</td>\n",
              "      <td>0</td>\n",
              "      <td>0</td>\n",
              "      <td>27</td>\n",
              "      <td>800.0</td>\n",
              "      <td>350.0</td>\n",
              "      <td>25.0</td>\n",
              "    </tr>\n",
              "    <tr>\n",
              "      <th>32956</th>\n",
              "      <td>Apartamento</td>\n",
              "      <td>Jacarepaguá</td>\n",
              "      <td>3</td>\n",
              "      <td>1</td>\n",
              "      <td>2</td>\n",
              "      <td>78</td>\n",
              "      <td>1800.0</td>\n",
              "      <td>800.0</td>\n",
              "      <td>40.0</td>\n",
              "    </tr>\n",
              "    <tr>\n",
              "      <th>32957</th>\n",
              "      <td>Apartamento</td>\n",
              "      <td>São Francisco Xavier</td>\n",
              "      <td>2</td>\n",
              "      <td>1</td>\n",
              "      <td>0</td>\n",
              "      <td>48</td>\n",
              "      <td>1400.0</td>\n",
              "      <td>509.0</td>\n",
              "      <td>37.0</td>\n",
              "    </tr>\n",
              "    <tr>\n",
              "      <th>32958</th>\n",
              "      <td>Apartamento</td>\n",
              "      <td>Leblon</td>\n",
              "      <td>2</td>\n",
              "      <td>0</td>\n",
              "      <td>0</td>\n",
              "      <td>70</td>\n",
              "      <td>3000.0</td>\n",
              "      <td>760.0</td>\n",
              "      <td>NaN</td>\n",
              "    </tr>\n",
              "  </tbody>\n",
              "</table>\n",
              "<p>22580 rows × 9 columns</p>\n",
              "</div>"
            ],
            "text/plain": [
              "              Tipo                Bairro  Quartos  ...   Valor  Condominio  IPTU\n",
              "0        Quitinete            Copacabana        1  ...  1700.0       500.0  60.0\n",
              "1             Casa       Jardim Botânico        2  ...  7000.0         NaN   NaN\n",
              "3      Apartamento                Centro        1  ...   800.0       390.0  20.0\n",
              "4      Apartamento          Higienópolis        1  ...   800.0       230.0   NaN\n",
              "5      Apartamento          Vista Alegre        3  ...  1200.0         NaN   NaN\n",
              "...            ...                   ...      ...  ...     ...         ...   ...\n",
              "32953  Apartamento                 Méier        2  ...   900.0       490.0  48.0\n",
              "32955    Quitinete                Centro        0  ...   800.0       350.0  25.0\n",
              "32956  Apartamento           Jacarepaguá        3  ...  1800.0       800.0  40.0\n",
              "32957  Apartamento  São Francisco Xavier        2  ...  1400.0       509.0  37.0\n",
              "32958  Apartamento                Leblon        2  ...  3000.0       760.0   NaN\n",
              "\n",
              "[22580 rows x 9 columns]"
            ]
          },
          "metadata": {},
          "execution_count": 27
        }
      ]
    },
    {
      "cell_type": "code",
      "metadata": {
        "colab": {
          "base_uri": "https://localhost:8080/"
        },
        "id": "I4IMStNaCW9x",
        "outputId": "26991718-5729-4067-9db1-a713d0b69d6d"
      },
      "source": [
        "list(dados_residencial['Tipo'].drop_duplicates())"
      ],
      "execution_count": null,
      "outputs": [
        {
          "output_type": "execute_result",
          "data": {
            "text/plain": [
              "['Quitinete', 'Casa', 'Apartamento', 'Casa de Condomínio', 'Casa de Vila']"
            ]
          },
          "metadata": {},
          "execution_count": 28
        }
      ]
    },
    {
      "cell_type": "code",
      "metadata": {
        "colab": {
          "base_uri": "https://localhost:8080/"
        },
        "id": "mLikpXdoCl8c",
        "outputId": "5ddbb71a-ce2c-448a-d975-57223ee2ef13"
      },
      "source": [
        "dados_residencial.shape"
      ],
      "execution_count": null,
      "outputs": [
        {
          "output_type": "execute_result",
          "data": {
            "text/plain": [
              "(22580, 9)"
            ]
          },
          "metadata": {},
          "execution_count": 29
        }
      ]
    },
    {
      "cell_type": "code",
      "metadata": {
        "colab": {
          "base_uri": "https://localhost:8080/"
        },
        "id": "n0dZaiIvCp5q",
        "outputId": "9004ffce-1b30-4b89-9f87-068b029800e8"
      },
      "source": [
        "dados.shape"
      ],
      "execution_count": null,
      "outputs": [
        {
          "output_type": "execute_result",
          "data": {
            "text/plain": [
              "(32960, 9)"
            ]
          },
          "metadata": {},
          "execution_count": 30
        }
      ]
    },
    {
      "cell_type": "markdown",
      "metadata": {
        "id": "bwp6-N5_C-Px"
      },
      "source": [
        "#reseta o index caso tenha feito um filtro \n",
        "\n",
        "\n",
        "\n",
        "de dados.\n",
        "Por exemplo, separou apenas os imoveis  residenciais"
      ]
    },
    {
      "cell_type": "code",
      "metadata": {
        "colab": {
          "base_uri": "https://localhost:8080/"
        },
        "id": "r7lolE_zCuT6",
        "outputId": "e686169c-3914-4de3-b44a-8f17e661c7a9"
      },
      "source": [
        "dados_residencial.index = range(dados_residencial.shape[0])\n",
        "dados_residencial"
      ],
      "execution_count": null,
      "outputs": [
        {
          "output_type": "execute_result",
          "data": {
            "text/html": [
              "<div>\n",
              "<style scoped>\n",
              "    .dataframe tbody tr th:only-of-type {\n",
              "        vertical-align: middle;\n",
              "    }\n",
              "\n",
              "    .dataframe tbody tr th {\n",
              "        vertical-align: top;\n",
              "    }\n",
              "\n",
              "    .dataframe thead th {\n",
              "        text-align: right;\n",
              "    }\n",
              "</style>\n",
              "<table border=\"1\" class=\"dataframe\">\n",
              "  <thead>\n",
              "    <tr style=\"text-align: right;\">\n",
              "      <th></th>\n",
              "      <th>Tipo</th>\n",
              "      <th>Bairro</th>\n",
              "      <th>Quartos</th>\n",
              "      <th>Vagas</th>\n",
              "      <th>Suites</th>\n",
              "      <th>Area</th>\n",
              "      <th>Valor</th>\n",
              "      <th>Condominio</th>\n",
              "      <th>IPTU</th>\n",
              "    </tr>\n",
              "  </thead>\n",
              "  <tbody>\n",
              "    <tr>\n",
              "      <th>0</th>\n",
              "      <td>Quitinete</td>\n",
              "      <td>Copacabana</td>\n",
              "      <td>1</td>\n",
              "      <td>0</td>\n",
              "      <td>0</td>\n",
              "      <td>40</td>\n",
              "      <td>1700.0</td>\n",
              "      <td>500.0</td>\n",
              "      <td>60.0</td>\n",
              "    </tr>\n",
              "    <tr>\n",
              "      <th>1</th>\n",
              "      <td>Casa</td>\n",
              "      <td>Jardim Botânico</td>\n",
              "      <td>2</td>\n",
              "      <td>0</td>\n",
              "      <td>1</td>\n",
              "      <td>100</td>\n",
              "      <td>7000.0</td>\n",
              "      <td>NaN</td>\n",
              "      <td>NaN</td>\n",
              "    </tr>\n",
              "    <tr>\n",
              "      <th>2</th>\n",
              "      <td>Apartamento</td>\n",
              "      <td>Centro</td>\n",
              "      <td>1</td>\n",
              "      <td>0</td>\n",
              "      <td>0</td>\n",
              "      <td>15</td>\n",
              "      <td>800.0</td>\n",
              "      <td>390.0</td>\n",
              "      <td>20.0</td>\n",
              "    </tr>\n",
              "    <tr>\n",
              "      <th>3</th>\n",
              "      <td>Apartamento</td>\n",
              "      <td>Higienópolis</td>\n",
              "      <td>1</td>\n",
              "      <td>0</td>\n",
              "      <td>0</td>\n",
              "      <td>48</td>\n",
              "      <td>800.0</td>\n",
              "      <td>230.0</td>\n",
              "      <td>NaN</td>\n",
              "    </tr>\n",
              "    <tr>\n",
              "      <th>4</th>\n",
              "      <td>Apartamento</td>\n",
              "      <td>Vista Alegre</td>\n",
              "      <td>3</td>\n",
              "      <td>1</td>\n",
              "      <td>0</td>\n",
              "      <td>70</td>\n",
              "      <td>1200.0</td>\n",
              "      <td>NaN</td>\n",
              "      <td>NaN</td>\n",
              "    </tr>\n",
              "    <tr>\n",
              "      <th>...</th>\n",
              "      <td>...</td>\n",
              "      <td>...</td>\n",
              "      <td>...</td>\n",
              "      <td>...</td>\n",
              "      <td>...</td>\n",
              "      <td>...</td>\n",
              "      <td>...</td>\n",
              "      <td>...</td>\n",
              "      <td>...</td>\n",
              "    </tr>\n",
              "    <tr>\n",
              "      <th>22575</th>\n",
              "      <td>Apartamento</td>\n",
              "      <td>Méier</td>\n",
              "      <td>2</td>\n",
              "      <td>0</td>\n",
              "      <td>0</td>\n",
              "      <td>70</td>\n",
              "      <td>900.0</td>\n",
              "      <td>490.0</td>\n",
              "      <td>48.0</td>\n",
              "    </tr>\n",
              "    <tr>\n",
              "      <th>22576</th>\n",
              "      <td>Quitinete</td>\n",
              "      <td>Centro</td>\n",
              "      <td>0</td>\n",
              "      <td>0</td>\n",
              "      <td>0</td>\n",
              "      <td>27</td>\n",
              "      <td>800.0</td>\n",
              "      <td>350.0</td>\n",
              "      <td>25.0</td>\n",
              "    </tr>\n",
              "    <tr>\n",
              "      <th>22577</th>\n",
              "      <td>Apartamento</td>\n",
              "      <td>Jacarepaguá</td>\n",
              "      <td>3</td>\n",
              "      <td>1</td>\n",
              "      <td>2</td>\n",
              "      <td>78</td>\n",
              "      <td>1800.0</td>\n",
              "      <td>800.0</td>\n",
              "      <td>40.0</td>\n",
              "    </tr>\n",
              "    <tr>\n",
              "      <th>22578</th>\n",
              "      <td>Apartamento</td>\n",
              "      <td>São Francisco Xavier</td>\n",
              "      <td>2</td>\n",
              "      <td>1</td>\n",
              "      <td>0</td>\n",
              "      <td>48</td>\n",
              "      <td>1400.0</td>\n",
              "      <td>509.0</td>\n",
              "      <td>37.0</td>\n",
              "    </tr>\n",
              "    <tr>\n",
              "      <th>22579</th>\n",
              "      <td>Apartamento</td>\n",
              "      <td>Leblon</td>\n",
              "      <td>2</td>\n",
              "      <td>0</td>\n",
              "      <td>0</td>\n",
              "      <td>70</td>\n",
              "      <td>3000.0</td>\n",
              "      <td>760.0</td>\n",
              "      <td>NaN</td>\n",
              "    </tr>\n",
              "  </tbody>\n",
              "</table>\n",
              "<p>22580 rows × 9 columns</p>\n",
              "</div>"
            ],
            "text/plain": [
              "              Tipo                Bairro  Quartos  ...   Valor  Condominio  IPTU\n",
              "0        Quitinete            Copacabana        1  ...  1700.0       500.0  60.0\n",
              "1             Casa       Jardim Botânico        2  ...  7000.0         NaN   NaN\n",
              "2      Apartamento                Centro        1  ...   800.0       390.0  20.0\n",
              "3      Apartamento          Higienópolis        1  ...   800.0       230.0   NaN\n",
              "4      Apartamento          Vista Alegre        3  ...  1200.0         NaN   NaN\n",
              "...            ...                   ...      ...  ...     ...         ...   ...\n",
              "22575  Apartamento                 Méier        2  ...   900.0       490.0  48.0\n",
              "22576    Quitinete                Centro        0  ...   800.0       350.0  25.0\n",
              "22577  Apartamento           Jacarepaguá        3  ...  1800.0       800.0  40.0\n",
              "22578  Apartamento  São Francisco Xavier        2  ...  1400.0       509.0  37.0\n",
              "22579  Apartamento                Leblon        2  ...  3000.0       760.0   NaN\n",
              "\n",
              "[22580 rows x 9 columns]"
            ]
          },
          "metadata": {},
          "execution_count": 31
        }
      ]
    },
    {
      "cell_type": "markdown",
      "metadata": {
        "id": "gLSH5brOE-2-"
      },
      "source": [
        "#exportando base de dados"
      ]
    },
    {
      "cell_type": "code",
      "metadata": {
        "id": "otIcrX0FFCkA"
      },
      "source": [
        "dados_residencial.to_csv('Aluguel_residencial.csv', sep = \";\")"
      ],
      "execution_count": null,
      "outputs": []
    },
    {
      "cell_type": "code",
      "metadata": {
        "colab": {
          "base_uri": "https://localhost:8080/"
        },
        "id": "T_enNau4FKyo",
        "outputId": "c089fb7d-47fa-4e4e-b680-e32930d68614"
      },
      "source": [
        "dados_residencial2 = pd.read_csv('Aluguel_residencial.csv',sep = \";\")\n",
        "dados_residencial2"
      ],
      "execution_count": null,
      "outputs": [
        {
          "output_type": "execute_result",
          "data": {
            "text/html": [
              "<div>\n",
              "<style scoped>\n",
              "    .dataframe tbody tr th:only-of-type {\n",
              "        vertical-align: middle;\n",
              "    }\n",
              "\n",
              "    .dataframe tbody tr th {\n",
              "        vertical-align: top;\n",
              "    }\n",
              "\n",
              "    .dataframe thead th {\n",
              "        text-align: right;\n",
              "    }\n",
              "</style>\n",
              "<table border=\"1\" class=\"dataframe\">\n",
              "  <thead>\n",
              "    <tr style=\"text-align: right;\">\n",
              "      <th></th>\n",
              "      <th>Unnamed: 0</th>\n",
              "      <th>Tipo</th>\n",
              "      <th>Bairro</th>\n",
              "      <th>Quartos</th>\n",
              "      <th>Vagas</th>\n",
              "      <th>Suites</th>\n",
              "      <th>Area</th>\n",
              "      <th>Valor</th>\n",
              "      <th>Condominio</th>\n",
              "      <th>IPTU</th>\n",
              "    </tr>\n",
              "  </thead>\n",
              "  <tbody>\n",
              "    <tr>\n",
              "      <th>0</th>\n",
              "      <td>0</td>\n",
              "      <td>Quitinete</td>\n",
              "      <td>Copacabana</td>\n",
              "      <td>1</td>\n",
              "      <td>0</td>\n",
              "      <td>0</td>\n",
              "      <td>40</td>\n",
              "      <td>1700.0</td>\n",
              "      <td>500.0</td>\n",
              "      <td>60.0</td>\n",
              "    </tr>\n",
              "    <tr>\n",
              "      <th>1</th>\n",
              "      <td>1</td>\n",
              "      <td>Casa</td>\n",
              "      <td>Jardim Botânico</td>\n",
              "      <td>2</td>\n",
              "      <td>0</td>\n",
              "      <td>1</td>\n",
              "      <td>100</td>\n",
              "      <td>7000.0</td>\n",
              "      <td>NaN</td>\n",
              "      <td>NaN</td>\n",
              "    </tr>\n",
              "    <tr>\n",
              "      <th>2</th>\n",
              "      <td>2</td>\n",
              "      <td>Apartamento</td>\n",
              "      <td>Centro</td>\n",
              "      <td>1</td>\n",
              "      <td>0</td>\n",
              "      <td>0</td>\n",
              "      <td>15</td>\n",
              "      <td>800.0</td>\n",
              "      <td>390.0</td>\n",
              "      <td>20.0</td>\n",
              "    </tr>\n",
              "    <tr>\n",
              "      <th>3</th>\n",
              "      <td>3</td>\n",
              "      <td>Apartamento</td>\n",
              "      <td>Higienópolis</td>\n",
              "      <td>1</td>\n",
              "      <td>0</td>\n",
              "      <td>0</td>\n",
              "      <td>48</td>\n",
              "      <td>800.0</td>\n",
              "      <td>230.0</td>\n",
              "      <td>NaN</td>\n",
              "    </tr>\n",
              "    <tr>\n",
              "      <th>4</th>\n",
              "      <td>4</td>\n",
              "      <td>Apartamento</td>\n",
              "      <td>Vista Alegre</td>\n",
              "      <td>3</td>\n",
              "      <td>1</td>\n",
              "      <td>0</td>\n",
              "      <td>70</td>\n",
              "      <td>1200.0</td>\n",
              "      <td>NaN</td>\n",
              "      <td>NaN</td>\n",
              "    </tr>\n",
              "    <tr>\n",
              "      <th>...</th>\n",
              "      <td>...</td>\n",
              "      <td>...</td>\n",
              "      <td>...</td>\n",
              "      <td>...</td>\n",
              "      <td>...</td>\n",
              "      <td>...</td>\n",
              "      <td>...</td>\n",
              "      <td>...</td>\n",
              "      <td>...</td>\n",
              "      <td>...</td>\n",
              "    </tr>\n",
              "    <tr>\n",
              "      <th>22575</th>\n",
              "      <td>22575</td>\n",
              "      <td>Apartamento</td>\n",
              "      <td>Méier</td>\n",
              "      <td>2</td>\n",
              "      <td>0</td>\n",
              "      <td>0</td>\n",
              "      <td>70</td>\n",
              "      <td>900.0</td>\n",
              "      <td>490.0</td>\n",
              "      <td>48.0</td>\n",
              "    </tr>\n",
              "    <tr>\n",
              "      <th>22576</th>\n",
              "      <td>22576</td>\n",
              "      <td>Quitinete</td>\n",
              "      <td>Centro</td>\n",
              "      <td>0</td>\n",
              "      <td>0</td>\n",
              "      <td>0</td>\n",
              "      <td>27</td>\n",
              "      <td>800.0</td>\n",
              "      <td>350.0</td>\n",
              "      <td>25.0</td>\n",
              "    </tr>\n",
              "    <tr>\n",
              "      <th>22577</th>\n",
              "      <td>22577</td>\n",
              "      <td>Apartamento</td>\n",
              "      <td>Jacarepaguá</td>\n",
              "      <td>3</td>\n",
              "      <td>1</td>\n",
              "      <td>2</td>\n",
              "      <td>78</td>\n",
              "      <td>1800.0</td>\n",
              "      <td>800.0</td>\n",
              "      <td>40.0</td>\n",
              "    </tr>\n",
              "    <tr>\n",
              "      <th>22578</th>\n",
              "      <td>22578</td>\n",
              "      <td>Apartamento</td>\n",
              "      <td>São Francisco Xavier</td>\n",
              "      <td>2</td>\n",
              "      <td>1</td>\n",
              "      <td>0</td>\n",
              "      <td>48</td>\n",
              "      <td>1400.0</td>\n",
              "      <td>509.0</td>\n",
              "      <td>37.0</td>\n",
              "    </tr>\n",
              "    <tr>\n",
              "      <th>22579</th>\n",
              "      <td>22579</td>\n",
              "      <td>Apartamento</td>\n",
              "      <td>Leblon</td>\n",
              "      <td>2</td>\n",
              "      <td>0</td>\n",
              "      <td>0</td>\n",
              "      <td>70</td>\n",
              "      <td>3000.0</td>\n",
              "      <td>760.0</td>\n",
              "      <td>NaN</td>\n",
              "    </tr>\n",
              "  </tbody>\n",
              "</table>\n",
              "<p>22580 rows × 10 columns</p>\n",
              "</div>"
            ],
            "text/plain": [
              "       Unnamed: 0         Tipo                Bairro  ...   Valor  Condominio  IPTU\n",
              "0               0    Quitinete            Copacabana  ...  1700.0       500.0  60.0\n",
              "1               1         Casa       Jardim Botânico  ...  7000.0         NaN   NaN\n",
              "2               2  Apartamento                Centro  ...   800.0       390.0  20.0\n",
              "3               3  Apartamento          Higienópolis  ...   800.0       230.0   NaN\n",
              "4               4  Apartamento          Vista Alegre  ...  1200.0         NaN   NaN\n",
              "...           ...          ...                   ...  ...     ...         ...   ...\n",
              "22575       22575  Apartamento                 Méier  ...   900.0       490.0  48.0\n",
              "22576       22576    Quitinete                Centro  ...   800.0       350.0  25.0\n",
              "22577       22577  Apartamento           Jacarepaguá  ...  1800.0       800.0  40.0\n",
              "22578       22578  Apartamento  São Francisco Xavier  ...  1400.0       509.0  37.0\n",
              "22579       22579  Apartamento                Leblon  ...  3000.0       760.0   NaN\n",
              "\n",
              "[22580 rows x 10 columns]"
            ]
          },
          "metadata": {},
          "execution_count": 33
        }
      ]
    },
    {
      "cell_type": "code",
      "metadata": {
        "id": "XEZPEa6BFtc6"
      },
      "source": [
        "dados_residencial.to_csv('Aluguel_residencial.csv', sep = \";\", index = False)"
      ],
      "execution_count": null,
      "outputs": []
    },
    {
      "cell_type": "code",
      "metadata": {
        "id": "AWNLY1cbI39J",
        "colab": {
          "base_uri": "https://localhost:8080/"
        },
        "outputId": "5946da91-54b7-40c0-b2e2-d0c646bb612b"
      },
      "source": [
        "dados_residencial2 = pd.read_csv('Aluguel_residencial.csv',sep = \";\")\n",
        "dados_residencial2"
      ],
      "execution_count": null,
      "outputs": [
        {
          "output_type": "execute_result",
          "data": {
            "text/html": [
              "<div>\n",
              "<style scoped>\n",
              "    .dataframe tbody tr th:only-of-type {\n",
              "        vertical-align: middle;\n",
              "    }\n",
              "\n",
              "    .dataframe tbody tr th {\n",
              "        vertical-align: top;\n",
              "    }\n",
              "\n",
              "    .dataframe thead th {\n",
              "        text-align: right;\n",
              "    }\n",
              "</style>\n",
              "<table border=\"1\" class=\"dataframe\">\n",
              "  <thead>\n",
              "    <tr style=\"text-align: right;\">\n",
              "      <th></th>\n",
              "      <th>Tipo</th>\n",
              "      <th>Bairro</th>\n",
              "      <th>Quartos</th>\n",
              "      <th>Vagas</th>\n",
              "      <th>Suites</th>\n",
              "      <th>Area</th>\n",
              "      <th>Valor</th>\n",
              "      <th>Condominio</th>\n",
              "      <th>IPTU</th>\n",
              "    </tr>\n",
              "  </thead>\n",
              "  <tbody>\n",
              "    <tr>\n",
              "      <th>0</th>\n",
              "      <td>Quitinete</td>\n",
              "      <td>Copacabana</td>\n",
              "      <td>1</td>\n",
              "      <td>0</td>\n",
              "      <td>0</td>\n",
              "      <td>40</td>\n",
              "      <td>1700.0</td>\n",
              "      <td>500.0</td>\n",
              "      <td>60.0</td>\n",
              "    </tr>\n",
              "    <tr>\n",
              "      <th>1</th>\n",
              "      <td>Casa</td>\n",
              "      <td>Jardim Botânico</td>\n",
              "      <td>2</td>\n",
              "      <td>0</td>\n",
              "      <td>1</td>\n",
              "      <td>100</td>\n",
              "      <td>7000.0</td>\n",
              "      <td>NaN</td>\n",
              "      <td>NaN</td>\n",
              "    </tr>\n",
              "    <tr>\n",
              "      <th>2</th>\n",
              "      <td>Apartamento</td>\n",
              "      <td>Centro</td>\n",
              "      <td>1</td>\n",
              "      <td>0</td>\n",
              "      <td>0</td>\n",
              "      <td>15</td>\n",
              "      <td>800.0</td>\n",
              "      <td>390.0</td>\n",
              "      <td>20.0</td>\n",
              "    </tr>\n",
              "    <tr>\n",
              "      <th>3</th>\n",
              "      <td>Apartamento</td>\n",
              "      <td>Higienópolis</td>\n",
              "      <td>1</td>\n",
              "      <td>0</td>\n",
              "      <td>0</td>\n",
              "      <td>48</td>\n",
              "      <td>800.0</td>\n",
              "      <td>230.0</td>\n",
              "      <td>NaN</td>\n",
              "    </tr>\n",
              "    <tr>\n",
              "      <th>4</th>\n",
              "      <td>Apartamento</td>\n",
              "      <td>Vista Alegre</td>\n",
              "      <td>3</td>\n",
              "      <td>1</td>\n",
              "      <td>0</td>\n",
              "      <td>70</td>\n",
              "      <td>1200.0</td>\n",
              "      <td>NaN</td>\n",
              "      <td>NaN</td>\n",
              "    </tr>\n",
              "    <tr>\n",
              "      <th>...</th>\n",
              "      <td>...</td>\n",
              "      <td>...</td>\n",
              "      <td>...</td>\n",
              "      <td>...</td>\n",
              "      <td>...</td>\n",
              "      <td>...</td>\n",
              "      <td>...</td>\n",
              "      <td>...</td>\n",
              "      <td>...</td>\n",
              "    </tr>\n",
              "    <tr>\n",
              "      <th>22575</th>\n",
              "      <td>Apartamento</td>\n",
              "      <td>Méier</td>\n",
              "      <td>2</td>\n",
              "      <td>0</td>\n",
              "      <td>0</td>\n",
              "      <td>70</td>\n",
              "      <td>900.0</td>\n",
              "      <td>490.0</td>\n",
              "      <td>48.0</td>\n",
              "    </tr>\n",
              "    <tr>\n",
              "      <th>22576</th>\n",
              "      <td>Quitinete</td>\n",
              "      <td>Centro</td>\n",
              "      <td>0</td>\n",
              "      <td>0</td>\n",
              "      <td>0</td>\n",
              "      <td>27</td>\n",
              "      <td>800.0</td>\n",
              "      <td>350.0</td>\n",
              "      <td>25.0</td>\n",
              "    </tr>\n",
              "    <tr>\n",
              "      <th>22577</th>\n",
              "      <td>Apartamento</td>\n",
              "      <td>Jacarepaguá</td>\n",
              "      <td>3</td>\n",
              "      <td>1</td>\n",
              "      <td>2</td>\n",
              "      <td>78</td>\n",
              "      <td>1800.0</td>\n",
              "      <td>800.0</td>\n",
              "      <td>40.0</td>\n",
              "    </tr>\n",
              "    <tr>\n",
              "      <th>22578</th>\n",
              "      <td>Apartamento</td>\n",
              "      <td>São Francisco Xavier</td>\n",
              "      <td>2</td>\n",
              "      <td>1</td>\n",
              "      <td>0</td>\n",
              "      <td>48</td>\n",
              "      <td>1400.0</td>\n",
              "      <td>509.0</td>\n",
              "      <td>37.0</td>\n",
              "    </tr>\n",
              "    <tr>\n",
              "      <th>22579</th>\n",
              "      <td>Apartamento</td>\n",
              "      <td>Leblon</td>\n",
              "      <td>2</td>\n",
              "      <td>0</td>\n",
              "      <td>0</td>\n",
              "      <td>70</td>\n",
              "      <td>3000.0</td>\n",
              "      <td>760.0</td>\n",
              "      <td>NaN</td>\n",
              "    </tr>\n",
              "  </tbody>\n",
              "</table>\n",
              "<p>22580 rows × 9 columns</p>\n",
              "</div>"
            ],
            "text/plain": [
              "              Tipo                Bairro  Quartos  ...   Valor  Condominio  IPTU\n",
              "0        Quitinete            Copacabana        1  ...  1700.0       500.0  60.0\n",
              "1             Casa       Jardim Botânico        2  ...  7000.0         NaN   NaN\n",
              "2      Apartamento                Centro        1  ...   800.0       390.0  20.0\n",
              "3      Apartamento          Higienópolis        1  ...   800.0       230.0   NaN\n",
              "4      Apartamento          Vista Alegre        3  ...  1200.0         NaN   NaN\n",
              "...            ...                   ...      ...  ...     ...         ...   ...\n",
              "22575  Apartamento                 Méier        2  ...   900.0       490.0  48.0\n",
              "22576    Quitinete                Centro        0  ...   800.0       350.0  25.0\n",
              "22577  Apartamento           Jacarepaguá        3  ...  1800.0       800.0  40.0\n",
              "22578  Apartamento  São Francisco Xavier        2  ...  1400.0       509.0  37.0\n",
              "22579  Apartamento                Leblon        2  ...  3000.0       760.0   NaN\n",
              "\n",
              "[22580 rows x 9 columns]"
            ]
          },
          "metadata": {},
          "execution_count": 35
        }
      ]
    },
    {
      "cell_type": "code",
      "metadata": {
        "id": "1KZhFrHfI6d6"
      },
      "source": [
        ""
      ],
      "execution_count": null,
      "outputs": []
    },
    {
      "cell_type": "markdown",
      "metadata": {
        "id": "hjCvU0klWCpH"
      },
      "source": [
        "#RELATORIO 4"
      ]
    },
    {
      "cell_type": "code",
      "metadata": {
        "colab": {
          "base_uri": "https://localhost:8080/"
        },
        "id": "IZma9YPgWFuy",
        "outputId": "f97a5af8-5953-487e-ef84-bba991350ac3"
      },
      "source": [
        "dados = pd.read_csv('aluguel.csv',sep=';')\n",
        "dados.head(10)"
      ],
      "execution_count": null,
      "outputs": [
        {
          "output_type": "execute_result",
          "data": {
            "text/html": [
              "<div>\n",
              "<style scoped>\n",
              "    .dataframe tbody tr th:only-of-type {\n",
              "        vertical-align: middle;\n",
              "    }\n",
              "\n",
              "    .dataframe tbody tr th {\n",
              "        vertical-align: top;\n",
              "    }\n",
              "\n",
              "    .dataframe thead th {\n",
              "        text-align: right;\n",
              "    }\n",
              "</style>\n",
              "<table border=\"1\" class=\"dataframe\">\n",
              "  <thead>\n",
              "    <tr style=\"text-align: right;\">\n",
              "      <th></th>\n",
              "      <th>Tipo</th>\n",
              "      <th>Bairro</th>\n",
              "      <th>Quartos</th>\n",
              "      <th>Vagas</th>\n",
              "      <th>Suites</th>\n",
              "      <th>Area</th>\n",
              "      <th>Valor</th>\n",
              "      <th>Condominio</th>\n",
              "      <th>IPTU</th>\n",
              "    </tr>\n",
              "  </thead>\n",
              "  <tbody>\n",
              "    <tr>\n",
              "      <th>0</th>\n",
              "      <td>Quitinete</td>\n",
              "      <td>Copacabana</td>\n",
              "      <td>1</td>\n",
              "      <td>0</td>\n",
              "      <td>0</td>\n",
              "      <td>40</td>\n",
              "      <td>1700.0</td>\n",
              "      <td>500.0</td>\n",
              "      <td>60.0</td>\n",
              "    </tr>\n",
              "    <tr>\n",
              "      <th>1</th>\n",
              "      <td>Casa</td>\n",
              "      <td>Jardim Botânico</td>\n",
              "      <td>2</td>\n",
              "      <td>0</td>\n",
              "      <td>1</td>\n",
              "      <td>100</td>\n",
              "      <td>7000.0</td>\n",
              "      <td>NaN</td>\n",
              "      <td>NaN</td>\n",
              "    </tr>\n",
              "    <tr>\n",
              "      <th>2</th>\n",
              "      <td>Conjunto Comercial/Sala</td>\n",
              "      <td>Barra da Tijuca</td>\n",
              "      <td>0</td>\n",
              "      <td>4</td>\n",
              "      <td>0</td>\n",
              "      <td>150</td>\n",
              "      <td>5200.0</td>\n",
              "      <td>4020.0</td>\n",
              "      <td>1111.0</td>\n",
              "    </tr>\n",
              "    <tr>\n",
              "      <th>3</th>\n",
              "      <td>Apartamento</td>\n",
              "      <td>Centro</td>\n",
              "      <td>1</td>\n",
              "      <td>0</td>\n",
              "      <td>0</td>\n",
              "      <td>15</td>\n",
              "      <td>800.0</td>\n",
              "      <td>390.0</td>\n",
              "      <td>20.0</td>\n",
              "    </tr>\n",
              "    <tr>\n",
              "      <th>4</th>\n",
              "      <td>Apartamento</td>\n",
              "      <td>Higienópolis</td>\n",
              "      <td>1</td>\n",
              "      <td>0</td>\n",
              "      <td>0</td>\n",
              "      <td>48</td>\n",
              "      <td>800.0</td>\n",
              "      <td>230.0</td>\n",
              "      <td>NaN</td>\n",
              "    </tr>\n",
              "    <tr>\n",
              "      <th>5</th>\n",
              "      <td>Apartamento</td>\n",
              "      <td>Vista Alegre</td>\n",
              "      <td>3</td>\n",
              "      <td>1</td>\n",
              "      <td>0</td>\n",
              "      <td>70</td>\n",
              "      <td>1200.0</td>\n",
              "      <td>NaN</td>\n",
              "      <td>NaN</td>\n",
              "    </tr>\n",
              "    <tr>\n",
              "      <th>6</th>\n",
              "      <td>Apartamento</td>\n",
              "      <td>Cachambi</td>\n",
              "      <td>2</td>\n",
              "      <td>0</td>\n",
              "      <td>0</td>\n",
              "      <td>50</td>\n",
              "      <td>1300.0</td>\n",
              "      <td>301.0</td>\n",
              "      <td>17.0</td>\n",
              "    </tr>\n",
              "    <tr>\n",
              "      <th>7</th>\n",
              "      <td>Casa de Condomínio</td>\n",
              "      <td>Barra da Tijuca</td>\n",
              "      <td>5</td>\n",
              "      <td>4</td>\n",
              "      <td>5</td>\n",
              "      <td>750</td>\n",
              "      <td>22000.0</td>\n",
              "      <td>NaN</td>\n",
              "      <td>NaN</td>\n",
              "    </tr>\n",
              "    <tr>\n",
              "      <th>8</th>\n",
              "      <td>Casa de Condomínio</td>\n",
              "      <td>Ramos</td>\n",
              "      <td>2</td>\n",
              "      <td>2</td>\n",
              "      <td>0</td>\n",
              "      <td>65</td>\n",
              "      <td>1000.0</td>\n",
              "      <td>NaN</td>\n",
              "      <td>NaN</td>\n",
              "    </tr>\n",
              "    <tr>\n",
              "      <th>9</th>\n",
              "      <td>Conjunto Comercial/Sala</td>\n",
              "      <td>Centro</td>\n",
              "      <td>0</td>\n",
              "      <td>3</td>\n",
              "      <td>0</td>\n",
              "      <td>695</td>\n",
              "      <td>35000.0</td>\n",
              "      <td>19193.0</td>\n",
              "      <td>3030.0</td>\n",
              "    </tr>\n",
              "  </tbody>\n",
              "</table>\n",
              "</div>"
            ],
            "text/plain": [
              "                      Tipo           Bairro  ...  Condominio    IPTU\n",
              "0                Quitinete       Copacabana  ...       500.0    60.0\n",
              "1                     Casa  Jardim Botânico  ...         NaN     NaN\n",
              "2  Conjunto Comercial/Sala  Barra da Tijuca  ...      4020.0  1111.0\n",
              "3              Apartamento           Centro  ...       390.0    20.0\n",
              "4              Apartamento     Higienópolis  ...       230.0     NaN\n",
              "5              Apartamento     Vista Alegre  ...         NaN     NaN\n",
              "6              Apartamento         Cachambi  ...       301.0    17.0\n",
              "7       Casa de Condomínio  Barra da Tijuca  ...         NaN     NaN\n",
              "8       Casa de Condomínio            Ramos  ...         NaN     NaN\n",
              "9  Conjunto Comercial/Sala           Centro  ...     19193.0  3030.0\n",
              "\n",
              "[10 rows x 9 columns]"
            ]
          },
          "metadata": {},
          "execution_count": 37
        }
      ]
    },
    {
      "cell_type": "markdown",
      "metadata": {
        "id": "7Tpk14e0V3nY"
      },
      "source": [
        "<!-- Selecione somente os imóveis classificados com tipo 'Apartamento'. -->\n",
        "\n",
        "<!-- Selecione os imóveis classificados com tipos 'Casa', 'Casa de Condomínio' e 'Casa de Vila'. -->\n",
        "\n",
        "<!-- Selecione os imóveis com área entre 60 e 100 metros quadrados, incluindo os limites. -->\n",
        "\n",
        "<!-- Selecione os imóveis que tenham pelo menos 4 quartos e aluguel menor que R$ 2.000,00. -->"
      ]
    },
    {
      "cell_type": "code",
      "metadata": {
        "colab": {
          "base_uri": "https://localhost:8080/"
        },
        "id": "ikMW0tqjWfPY",
        "outputId": "731a1a9d-1fc8-41d2-ad86-33e1c0390046"
      },
      "source": [
        "# Selecione somente os imóveis classificados com tipo 'Apartamento'.\n",
        "selecao = dados['Tipo'] == 'Apartamento'\n",
        "selecao\n",
        "n1 = dados[selecao].shape[0]\n",
        "n1"
      ],
      "execution_count": null,
      "outputs": [
        {
          "output_type": "execute_result",
          "data": {
            "text/plain": [
              "19532"
            ]
          },
          "metadata": {},
          "execution_count": 49
        }
      ]
    },
    {
      "cell_type": "code",
      "metadata": {
        "colab": {
          "base_uri": "https://localhost:8080/"
        },
        "id": "vSnsYWibWnhk",
        "outputId": "f76ef5f6-3b0b-4d61-c819-57f6d1bfc267"
      },
      "source": [
        "# Selecione os imóveis classificados com tipos 'Casa', 'Casa de Condomínio' e 'Casa de Vila'.\n",
        "selecao = (dados['Tipo'] == 'Casa') | (dados['Tipo'] == \"Casa de Condomínio\") | (dados['Tipo'] == 'Casa de Vila')\n",
        "selecao\n",
        "n2 = dados[selecao].shape[0]\n",
        "n2"
      ],
      "execution_count": null,
      "outputs": [
        {
          "output_type": "execute_result",
          "data": {
            "text/plain": [
              "2212"
            ]
          },
          "metadata": {},
          "execution_count": 54
        }
      ]
    },
    {
      "cell_type": "code",
      "metadata": {
        "colab": {
          "base_uri": "https://localhost:8080/"
        },
        "id": "i6cw0Ex9W5v5",
        "outputId": "701a25ca-ed46-4a15-b40f-04faf222ef94"
      },
      "source": [
        "# Selecione os imóveis com área entre 60 e 100 metros quadrados, incluindo os limites.\n",
        "selecao = (dados['Area'] >= 60) & (dados['Area'] <= 100)\n",
        "selecao\n",
        "n3 = dados[selecao].shape[0]\n",
        "n3"
      ],
      "execution_count": null,
      "outputs": [
        {
          "output_type": "execute_result",
          "data": {
            "text/plain": [
              "10187"
            ]
          },
          "metadata": {},
          "execution_count": 57
        }
      ]
    },
    {
      "cell_type": "code",
      "metadata": {
        "colab": {
          "base_uri": "https://localhost:8080/"
        },
        "id": "n1e-sCbqW7B5",
        "outputId": "5b81dfc3-ba9a-46f1-9630-84a0037316f8"
      },
      "source": [
        "# Selecione os imóveis que tenham pelo menos 4 quartos e aluguel menor que R$ 2.000,00.\n",
        "selecao = (dados['Quartos'] >= 4) & (dados['Valor'] < 2000)\n",
        "selecao\n",
        "n4 = dados[selecao].shape[0]\n",
        "n4 "
      ],
      "execution_count": null,
      "outputs": [
        {
          "output_type": "execute_result",
          "data": {
            "text/plain": [
              "43"
            ]
          },
          "metadata": {},
          "execution_count": 62
        }
      ]
    },
    {
      "cell_type": "code",
      "metadata": {
        "colab": {
          "base_uri": "https://localhost:8080/"
        },
        "id": "H1Ury-GfW8Xh",
        "outputId": "f820a21a-e9ed-4a10-83cd-229ce2614ee5"
      },
      "source": [
        "print(\"Nº de imóveis classificados com tipo 'Apartamento' -> {}\".format(n1))\n",
        "print(\"Nº de imóveis classificados com tipos 'Casa', 'Casa de Condomínio' e 'Casa de Vila'-> {}\".format(n2))\n",
        "print(\"Nº de imóveis com área entre 60 e 100 metros quadrados, incluindo os limites -> {}\".format(n3))\n",
        "print(\"Nº de imóveis que tenham pelo menos 4 quartos e aluguel menor que R$ 2.000,00 -> {}\".format(n4))"
      ],
      "execution_count": null,
      "outputs": [
        {
          "output_type": "stream",
          "text": [
            "Nº de imóveis classificados com tipo 'Apartamento' -> 19532\n",
            "Nº de imóveis classificados com tipos 'Casa', 'Casa de Condomínio' e 'Casa de Vila'-> 2212\n",
            "Nº de imóveis com área entre 60 e 100 metros quadrados, incluindo os limites -> 10187\n",
            "Nº de imóveis que tenham pelo menos 4 quartos e aluguel menor que R$ 2.000,00 -> 43\n"
          ],
          "name": "stdout"
        }
      ]
    },
    {
      "cell_type": "code",
      "metadata": {
        "id": "SNSljB0oZOtP"
      },
      "source": [
        ""
      ],
      "execution_count": null,
      "outputs": []
    },
    {
      "cell_type": "markdown",
      "metadata": {
        "id": "_RNjbKvPgbr5"
      },
      "source": [
        "#TRATAMENTOS DE DADOS\n",
        "#RELATORIO 5\n",
        "\n"
      ]
    },
    {
      "cell_type": "code",
      "metadata": {
        "colab": {
          "base_uri": "https://localhost:8080/"
        },
        "id": "RBhCuXBOgg7O",
        "outputId": "841481b6-13f7-48fb-c170-12248ed609c8"
      },
      "source": [
        "dados = pd.read_csv('aluguel.csv', sep = ';')\n",
        "dados.head(10)\n"
      ],
      "execution_count": null,
      "outputs": [
        {
          "output_type": "execute_result",
          "data": {
            "text/html": [
              "<div>\n",
              "<style scoped>\n",
              "    .dataframe tbody tr th:only-of-type {\n",
              "        vertical-align: middle;\n",
              "    }\n",
              "\n",
              "    .dataframe tbody tr th {\n",
              "        vertical-align: top;\n",
              "    }\n",
              "\n",
              "    .dataframe thead th {\n",
              "        text-align: right;\n",
              "    }\n",
              "</style>\n",
              "<table border=\"1\" class=\"dataframe\">\n",
              "  <thead>\n",
              "    <tr style=\"text-align: right;\">\n",
              "      <th></th>\n",
              "      <th>Tipo</th>\n",
              "      <th>Bairro</th>\n",
              "      <th>Quartos</th>\n",
              "      <th>Vagas</th>\n",
              "      <th>Suites</th>\n",
              "      <th>Area</th>\n",
              "      <th>Valor</th>\n",
              "      <th>Condominio</th>\n",
              "      <th>IPTU</th>\n",
              "    </tr>\n",
              "  </thead>\n",
              "  <tbody>\n",
              "    <tr>\n",
              "      <th>0</th>\n",
              "      <td>Quitinete</td>\n",
              "      <td>Copacabana</td>\n",
              "      <td>1</td>\n",
              "      <td>0</td>\n",
              "      <td>0</td>\n",
              "      <td>40</td>\n",
              "      <td>1700.0</td>\n",
              "      <td>500.0</td>\n",
              "      <td>60.0</td>\n",
              "    </tr>\n",
              "    <tr>\n",
              "      <th>1</th>\n",
              "      <td>Casa</td>\n",
              "      <td>Jardim Botânico</td>\n",
              "      <td>2</td>\n",
              "      <td>0</td>\n",
              "      <td>1</td>\n",
              "      <td>100</td>\n",
              "      <td>7000.0</td>\n",
              "      <td>NaN</td>\n",
              "      <td>NaN</td>\n",
              "    </tr>\n",
              "    <tr>\n",
              "      <th>2</th>\n",
              "      <td>Conjunto Comercial/Sala</td>\n",
              "      <td>Barra da Tijuca</td>\n",
              "      <td>0</td>\n",
              "      <td>4</td>\n",
              "      <td>0</td>\n",
              "      <td>150</td>\n",
              "      <td>5200.0</td>\n",
              "      <td>4020.0</td>\n",
              "      <td>1111.0</td>\n",
              "    </tr>\n",
              "    <tr>\n",
              "      <th>3</th>\n",
              "      <td>Apartamento</td>\n",
              "      <td>Centro</td>\n",
              "      <td>1</td>\n",
              "      <td>0</td>\n",
              "      <td>0</td>\n",
              "      <td>15</td>\n",
              "      <td>800.0</td>\n",
              "      <td>390.0</td>\n",
              "      <td>20.0</td>\n",
              "    </tr>\n",
              "    <tr>\n",
              "      <th>4</th>\n",
              "      <td>Apartamento</td>\n",
              "      <td>Higienópolis</td>\n",
              "      <td>1</td>\n",
              "      <td>0</td>\n",
              "      <td>0</td>\n",
              "      <td>48</td>\n",
              "      <td>800.0</td>\n",
              "      <td>230.0</td>\n",
              "      <td>NaN</td>\n",
              "    </tr>\n",
              "    <tr>\n",
              "      <th>5</th>\n",
              "      <td>Apartamento</td>\n",
              "      <td>Vista Alegre</td>\n",
              "      <td>3</td>\n",
              "      <td>1</td>\n",
              "      <td>0</td>\n",
              "      <td>70</td>\n",
              "      <td>1200.0</td>\n",
              "      <td>NaN</td>\n",
              "      <td>NaN</td>\n",
              "    </tr>\n",
              "    <tr>\n",
              "      <th>6</th>\n",
              "      <td>Apartamento</td>\n",
              "      <td>Cachambi</td>\n",
              "      <td>2</td>\n",
              "      <td>0</td>\n",
              "      <td>0</td>\n",
              "      <td>50</td>\n",
              "      <td>1300.0</td>\n",
              "      <td>301.0</td>\n",
              "      <td>17.0</td>\n",
              "    </tr>\n",
              "    <tr>\n",
              "      <th>7</th>\n",
              "      <td>Casa de Condomínio</td>\n",
              "      <td>Barra da Tijuca</td>\n",
              "      <td>5</td>\n",
              "      <td>4</td>\n",
              "      <td>5</td>\n",
              "      <td>750</td>\n",
              "      <td>22000.0</td>\n",
              "      <td>NaN</td>\n",
              "      <td>NaN</td>\n",
              "    </tr>\n",
              "    <tr>\n",
              "      <th>8</th>\n",
              "      <td>Casa de Condomínio</td>\n",
              "      <td>Ramos</td>\n",
              "      <td>2</td>\n",
              "      <td>2</td>\n",
              "      <td>0</td>\n",
              "      <td>65</td>\n",
              "      <td>1000.0</td>\n",
              "      <td>NaN</td>\n",
              "      <td>NaN</td>\n",
              "    </tr>\n",
              "    <tr>\n",
              "      <th>9</th>\n",
              "      <td>Conjunto Comercial/Sala</td>\n",
              "      <td>Centro</td>\n",
              "      <td>0</td>\n",
              "      <td>3</td>\n",
              "      <td>0</td>\n",
              "      <td>695</td>\n",
              "      <td>35000.0</td>\n",
              "      <td>19193.0</td>\n",
              "      <td>3030.0</td>\n",
              "    </tr>\n",
              "  </tbody>\n",
              "</table>\n",
              "</div>"
            ],
            "text/plain": [
              "                      Tipo           Bairro  ...  Condominio    IPTU\n",
              "0                Quitinete       Copacabana  ...       500.0    60.0\n",
              "1                     Casa  Jardim Botânico  ...         NaN     NaN\n",
              "2  Conjunto Comercial/Sala  Barra da Tijuca  ...      4020.0  1111.0\n",
              "3              Apartamento           Centro  ...       390.0    20.0\n",
              "4              Apartamento     Higienópolis  ...       230.0     NaN\n",
              "5              Apartamento     Vista Alegre  ...         NaN     NaN\n",
              "6              Apartamento         Cachambi  ...       301.0    17.0\n",
              "7       Casa de Condomínio  Barra da Tijuca  ...         NaN     NaN\n",
              "8       Casa de Condomínio            Ramos  ...         NaN     NaN\n",
              "9  Conjunto Comercial/Sala           Centro  ...     19193.0  3030.0\n",
              "\n",
              "[10 rows x 9 columns]"
            ]
          },
          "metadata": {},
          "execution_count": 107
        }
      ]
    },
    {
      "cell_type": "code",
      "metadata": {
        "colab": {
          "base_uri": "https://localhost:8080/"
        },
        "id": "lhgDBmXOgvsX",
        "outputId": "bec68bdb-d6db-487d-a111-ece85971dafa"
      },
      "source": [
        "dados.isnull()"
      ],
      "execution_count": null,
      "outputs": [
        {
          "output_type": "execute_result",
          "data": {
            "text/html": [
              "<div>\n",
              "<style scoped>\n",
              "    .dataframe tbody tr th:only-of-type {\n",
              "        vertical-align: middle;\n",
              "    }\n",
              "\n",
              "    .dataframe tbody tr th {\n",
              "        vertical-align: top;\n",
              "    }\n",
              "\n",
              "    .dataframe thead th {\n",
              "        text-align: right;\n",
              "    }\n",
              "</style>\n",
              "<table border=\"1\" class=\"dataframe\">\n",
              "  <thead>\n",
              "    <tr style=\"text-align: right;\">\n",
              "      <th></th>\n",
              "      <th>Tipo</th>\n",
              "      <th>Bairro</th>\n",
              "      <th>Quartos</th>\n",
              "      <th>Vagas</th>\n",
              "      <th>Suites</th>\n",
              "      <th>Area</th>\n",
              "      <th>Valor</th>\n",
              "      <th>Condominio</th>\n",
              "      <th>IPTU</th>\n",
              "    </tr>\n",
              "  </thead>\n",
              "  <tbody>\n",
              "    <tr>\n",
              "      <th>0</th>\n",
              "      <td>False</td>\n",
              "      <td>False</td>\n",
              "      <td>False</td>\n",
              "      <td>False</td>\n",
              "      <td>False</td>\n",
              "      <td>False</td>\n",
              "      <td>False</td>\n",
              "      <td>False</td>\n",
              "      <td>False</td>\n",
              "    </tr>\n",
              "    <tr>\n",
              "      <th>1</th>\n",
              "      <td>False</td>\n",
              "      <td>False</td>\n",
              "      <td>False</td>\n",
              "      <td>False</td>\n",
              "      <td>False</td>\n",
              "      <td>False</td>\n",
              "      <td>False</td>\n",
              "      <td>True</td>\n",
              "      <td>True</td>\n",
              "    </tr>\n",
              "    <tr>\n",
              "      <th>2</th>\n",
              "      <td>False</td>\n",
              "      <td>False</td>\n",
              "      <td>False</td>\n",
              "      <td>False</td>\n",
              "      <td>False</td>\n",
              "      <td>False</td>\n",
              "      <td>False</td>\n",
              "      <td>False</td>\n",
              "      <td>False</td>\n",
              "    </tr>\n",
              "    <tr>\n",
              "      <th>3</th>\n",
              "      <td>False</td>\n",
              "      <td>False</td>\n",
              "      <td>False</td>\n",
              "      <td>False</td>\n",
              "      <td>False</td>\n",
              "      <td>False</td>\n",
              "      <td>False</td>\n",
              "      <td>False</td>\n",
              "      <td>False</td>\n",
              "    </tr>\n",
              "    <tr>\n",
              "      <th>4</th>\n",
              "      <td>False</td>\n",
              "      <td>False</td>\n",
              "      <td>False</td>\n",
              "      <td>False</td>\n",
              "      <td>False</td>\n",
              "      <td>False</td>\n",
              "      <td>False</td>\n",
              "      <td>False</td>\n",
              "      <td>True</td>\n",
              "    </tr>\n",
              "    <tr>\n",
              "      <th>...</th>\n",
              "      <td>...</td>\n",
              "      <td>...</td>\n",
              "      <td>...</td>\n",
              "      <td>...</td>\n",
              "      <td>...</td>\n",
              "      <td>...</td>\n",
              "      <td>...</td>\n",
              "      <td>...</td>\n",
              "      <td>...</td>\n",
              "    </tr>\n",
              "    <tr>\n",
              "      <th>32955</th>\n",
              "      <td>False</td>\n",
              "      <td>False</td>\n",
              "      <td>False</td>\n",
              "      <td>False</td>\n",
              "      <td>False</td>\n",
              "      <td>False</td>\n",
              "      <td>False</td>\n",
              "      <td>False</td>\n",
              "      <td>False</td>\n",
              "    </tr>\n",
              "    <tr>\n",
              "      <th>32956</th>\n",
              "      <td>False</td>\n",
              "      <td>False</td>\n",
              "      <td>False</td>\n",
              "      <td>False</td>\n",
              "      <td>False</td>\n",
              "      <td>False</td>\n",
              "      <td>False</td>\n",
              "      <td>False</td>\n",
              "      <td>False</td>\n",
              "    </tr>\n",
              "    <tr>\n",
              "      <th>32957</th>\n",
              "      <td>False</td>\n",
              "      <td>False</td>\n",
              "      <td>False</td>\n",
              "      <td>False</td>\n",
              "      <td>False</td>\n",
              "      <td>False</td>\n",
              "      <td>False</td>\n",
              "      <td>False</td>\n",
              "      <td>False</td>\n",
              "    </tr>\n",
              "    <tr>\n",
              "      <th>32958</th>\n",
              "      <td>False</td>\n",
              "      <td>False</td>\n",
              "      <td>False</td>\n",
              "      <td>False</td>\n",
              "      <td>False</td>\n",
              "      <td>False</td>\n",
              "      <td>False</td>\n",
              "      <td>False</td>\n",
              "      <td>True</td>\n",
              "    </tr>\n",
              "    <tr>\n",
              "      <th>32959</th>\n",
              "      <td>False</td>\n",
              "      <td>False</td>\n",
              "      <td>False</td>\n",
              "      <td>False</td>\n",
              "      <td>False</td>\n",
              "      <td>False</td>\n",
              "      <td>False</td>\n",
              "      <td>False</td>\n",
              "      <td>False</td>\n",
              "    </tr>\n",
              "  </tbody>\n",
              "</table>\n",
              "<p>32960 rows × 9 columns</p>\n",
              "</div>"
            ],
            "text/plain": [
              "        Tipo  Bairro  Quartos  Vagas  Suites   Area  Valor  Condominio   IPTU\n",
              "0      False   False    False  False   False  False  False       False  False\n",
              "1      False   False    False  False   False  False  False        True   True\n",
              "2      False   False    False  False   False  False  False       False  False\n",
              "3      False   False    False  False   False  False  False       False  False\n",
              "4      False   False    False  False   False  False  False       False   True\n",
              "...      ...     ...      ...    ...     ...    ...    ...         ...    ...\n",
              "32955  False   False    False  False   False  False  False       False  False\n",
              "32956  False   False    False  False   False  False  False       False  False\n",
              "32957  False   False    False  False   False  False  False       False  False\n",
              "32958  False   False    False  False   False  False  False       False   True\n",
              "32959  False   False    False  False   False  False  False       False  False\n",
              "\n",
              "[32960 rows x 9 columns]"
            ]
          },
          "metadata": {},
          "execution_count": 108
        }
      ]
    },
    {
      "cell_type": "code",
      "metadata": {
        "colab": {
          "base_uri": "https://localhost:8080/"
        },
        "id": "Y_akSO-4iQZ_",
        "outputId": "e66b1eec-3506-4c9d-de97-40cb6b3e6b2d"
      },
      "source": [
        "dados.notnull()"
      ],
      "execution_count": null,
      "outputs": [
        {
          "output_type": "execute_result",
          "data": {
            "text/html": [
              "<div>\n",
              "<style scoped>\n",
              "    .dataframe tbody tr th:only-of-type {\n",
              "        vertical-align: middle;\n",
              "    }\n",
              "\n",
              "    .dataframe tbody tr th {\n",
              "        vertical-align: top;\n",
              "    }\n",
              "\n",
              "    .dataframe thead th {\n",
              "        text-align: right;\n",
              "    }\n",
              "</style>\n",
              "<table border=\"1\" class=\"dataframe\">\n",
              "  <thead>\n",
              "    <tr style=\"text-align: right;\">\n",
              "      <th></th>\n",
              "      <th>Tipo</th>\n",
              "      <th>Bairro</th>\n",
              "      <th>Quartos</th>\n",
              "      <th>Vagas</th>\n",
              "      <th>Suites</th>\n",
              "      <th>Area</th>\n",
              "      <th>Valor</th>\n",
              "      <th>Condominio</th>\n",
              "      <th>IPTU</th>\n",
              "    </tr>\n",
              "  </thead>\n",
              "  <tbody>\n",
              "    <tr>\n",
              "      <th>0</th>\n",
              "      <td>True</td>\n",
              "      <td>True</td>\n",
              "      <td>True</td>\n",
              "      <td>True</td>\n",
              "      <td>True</td>\n",
              "      <td>True</td>\n",
              "      <td>True</td>\n",
              "      <td>True</td>\n",
              "      <td>True</td>\n",
              "    </tr>\n",
              "    <tr>\n",
              "      <th>1</th>\n",
              "      <td>True</td>\n",
              "      <td>True</td>\n",
              "      <td>True</td>\n",
              "      <td>True</td>\n",
              "      <td>True</td>\n",
              "      <td>True</td>\n",
              "      <td>True</td>\n",
              "      <td>False</td>\n",
              "      <td>False</td>\n",
              "    </tr>\n",
              "    <tr>\n",
              "      <th>2</th>\n",
              "      <td>True</td>\n",
              "      <td>True</td>\n",
              "      <td>True</td>\n",
              "      <td>True</td>\n",
              "      <td>True</td>\n",
              "      <td>True</td>\n",
              "      <td>True</td>\n",
              "      <td>True</td>\n",
              "      <td>True</td>\n",
              "    </tr>\n",
              "    <tr>\n",
              "      <th>3</th>\n",
              "      <td>True</td>\n",
              "      <td>True</td>\n",
              "      <td>True</td>\n",
              "      <td>True</td>\n",
              "      <td>True</td>\n",
              "      <td>True</td>\n",
              "      <td>True</td>\n",
              "      <td>True</td>\n",
              "      <td>True</td>\n",
              "    </tr>\n",
              "    <tr>\n",
              "      <th>4</th>\n",
              "      <td>True</td>\n",
              "      <td>True</td>\n",
              "      <td>True</td>\n",
              "      <td>True</td>\n",
              "      <td>True</td>\n",
              "      <td>True</td>\n",
              "      <td>True</td>\n",
              "      <td>True</td>\n",
              "      <td>False</td>\n",
              "    </tr>\n",
              "    <tr>\n",
              "      <th>...</th>\n",
              "      <td>...</td>\n",
              "      <td>...</td>\n",
              "      <td>...</td>\n",
              "      <td>...</td>\n",
              "      <td>...</td>\n",
              "      <td>...</td>\n",
              "      <td>...</td>\n",
              "      <td>...</td>\n",
              "      <td>...</td>\n",
              "    </tr>\n",
              "    <tr>\n",
              "      <th>32955</th>\n",
              "      <td>True</td>\n",
              "      <td>True</td>\n",
              "      <td>True</td>\n",
              "      <td>True</td>\n",
              "      <td>True</td>\n",
              "      <td>True</td>\n",
              "      <td>True</td>\n",
              "      <td>True</td>\n",
              "      <td>True</td>\n",
              "    </tr>\n",
              "    <tr>\n",
              "      <th>32956</th>\n",
              "      <td>True</td>\n",
              "      <td>True</td>\n",
              "      <td>True</td>\n",
              "      <td>True</td>\n",
              "      <td>True</td>\n",
              "      <td>True</td>\n",
              "      <td>True</td>\n",
              "      <td>True</td>\n",
              "      <td>True</td>\n",
              "    </tr>\n",
              "    <tr>\n",
              "      <th>32957</th>\n",
              "      <td>True</td>\n",
              "      <td>True</td>\n",
              "      <td>True</td>\n",
              "      <td>True</td>\n",
              "      <td>True</td>\n",
              "      <td>True</td>\n",
              "      <td>True</td>\n",
              "      <td>True</td>\n",
              "      <td>True</td>\n",
              "    </tr>\n",
              "    <tr>\n",
              "      <th>32958</th>\n",
              "      <td>True</td>\n",
              "      <td>True</td>\n",
              "      <td>True</td>\n",
              "      <td>True</td>\n",
              "      <td>True</td>\n",
              "      <td>True</td>\n",
              "      <td>True</td>\n",
              "      <td>True</td>\n",
              "      <td>False</td>\n",
              "    </tr>\n",
              "    <tr>\n",
              "      <th>32959</th>\n",
              "      <td>True</td>\n",
              "      <td>True</td>\n",
              "      <td>True</td>\n",
              "      <td>True</td>\n",
              "      <td>True</td>\n",
              "      <td>True</td>\n",
              "      <td>True</td>\n",
              "      <td>True</td>\n",
              "      <td>True</td>\n",
              "    </tr>\n",
              "  </tbody>\n",
              "</table>\n",
              "<p>32960 rows × 9 columns</p>\n",
              "</div>"
            ],
            "text/plain": [
              "       Tipo  Bairro  Quartos  Vagas  Suites  Area  Valor  Condominio   IPTU\n",
              "0      True    True     True   True    True  True   True        True   True\n",
              "1      True    True     True   True    True  True   True       False  False\n",
              "2      True    True     True   True    True  True   True        True   True\n",
              "3      True    True     True   True    True  True   True        True   True\n",
              "4      True    True     True   True    True  True   True        True  False\n",
              "...     ...     ...      ...    ...     ...   ...    ...         ...    ...\n",
              "32955  True    True     True   True    True  True   True        True   True\n",
              "32956  True    True     True   True    True  True   True        True   True\n",
              "32957  True    True     True   True    True  True   True        True   True\n",
              "32958  True    True     True   True    True  True   True        True  False\n",
              "32959  True    True     True   True    True  True   True        True   True\n",
              "\n",
              "[32960 rows x 9 columns]"
            ]
          },
          "metadata": {},
          "execution_count": 109
        }
      ]
    },
    {
      "cell_type": "code",
      "metadata": {
        "colab": {
          "base_uri": "https://localhost:8080/"
        },
        "id": "oVMolR7ciXhu",
        "outputId": "4a3ee0cf-521e-47ef-ac38-16ed111c553c"
      },
      "source": [
        "dados.info()"
      ],
      "execution_count": null,
      "outputs": [
        {
          "output_type": "stream",
          "text": [
            "<class 'pandas.core.frame.DataFrame'>\n",
            "RangeIndex: 32960 entries, 0 to 32959\n",
            "Data columns (total 9 columns):\n",
            " #   Column      Non-Null Count  Dtype  \n",
            "---  ------      --------------  -----  \n",
            " 0   Tipo        32960 non-null  object \n",
            " 1   Bairro      32960 non-null  object \n",
            " 2   Quartos     32960 non-null  int64  \n",
            " 3   Vagas       32960 non-null  int64  \n",
            " 4   Suites      32960 non-null  int64  \n",
            " 5   Area        32960 non-null  int64  \n",
            " 6   Valor       32943 non-null  float64\n",
            " 7   Condominio  28867 non-null  float64\n",
            " 8   IPTU        22723 non-null  float64\n",
            "dtypes: float64(3), int64(4), object(2)\n",
            "memory usage: 2.3+ MB\n"
          ],
          "name": "stdout"
        }
      ]
    },
    {
      "cell_type": "code",
      "metadata": {
        "colab": {
          "base_uri": "https://localhost:8080/"
        },
        "id": "bUeSTZPDjaaO",
        "outputId": "1ac6e11d-7d17-4a5b-e4f1-c3089048127d"
      },
      "source": [
        "dados[dados['Valor'].isnull()]"
      ],
      "execution_count": null,
      "outputs": [
        {
          "output_type": "execute_result",
          "data": {
            "text/html": [
              "<div>\n",
              "<style scoped>\n",
              "    .dataframe tbody tr th:only-of-type {\n",
              "        vertical-align: middle;\n",
              "    }\n",
              "\n",
              "    .dataframe tbody tr th {\n",
              "        vertical-align: top;\n",
              "    }\n",
              "\n",
              "    .dataframe thead th {\n",
              "        text-align: right;\n",
              "    }\n",
              "</style>\n",
              "<table border=\"1\" class=\"dataframe\">\n",
              "  <thead>\n",
              "    <tr style=\"text-align: right;\">\n",
              "      <th></th>\n",
              "      <th>Tipo</th>\n",
              "      <th>Bairro</th>\n",
              "      <th>Quartos</th>\n",
              "      <th>Vagas</th>\n",
              "      <th>Suites</th>\n",
              "      <th>Area</th>\n",
              "      <th>Valor</th>\n",
              "      <th>Condominio</th>\n",
              "      <th>IPTU</th>\n",
              "    </tr>\n",
              "  </thead>\n",
              "  <tbody>\n",
              "    <tr>\n",
              "      <th>76</th>\n",
              "      <td>Apartamento</td>\n",
              "      <td>Barra da Tijuca</td>\n",
              "      <td>2</td>\n",
              "      <td>1</td>\n",
              "      <td>1</td>\n",
              "      <td>70</td>\n",
              "      <td>NaN</td>\n",
              "      <td>970.0</td>\n",
              "      <td>68.0</td>\n",
              "    </tr>\n",
              "    <tr>\n",
              "      <th>2186</th>\n",
              "      <td>Apartamento</td>\n",
              "      <td>Leme</td>\n",
              "      <td>2</td>\n",
              "      <td>0</td>\n",
              "      <td>0</td>\n",
              "      <td>75</td>\n",
              "      <td>NaN</td>\n",
              "      <td>878.0</td>\n",
              "      <td>NaN</td>\n",
              "    </tr>\n",
              "    <tr>\n",
              "      <th>2456</th>\n",
              "      <td>Casa</td>\n",
              "      <td>Campo Grande</td>\n",
              "      <td>3</td>\n",
              "      <td>4</td>\n",
              "      <td>3</td>\n",
              "      <td>363</td>\n",
              "      <td>NaN</td>\n",
              "      <td>NaN</td>\n",
              "      <td>NaN</td>\n",
              "    </tr>\n",
              "    <tr>\n",
              "      <th>2646</th>\n",
              "      <td>Loja/Salão</td>\n",
              "      <td>Barra da Tijuca</td>\n",
              "      <td>0</td>\n",
              "      <td>2</td>\n",
              "      <td>0</td>\n",
              "      <td>80</td>\n",
              "      <td>NaN</td>\n",
              "      <td>NaN</td>\n",
              "      <td>NaN</td>\n",
              "    </tr>\n",
              "    <tr>\n",
              "      <th>2941</th>\n",
              "      <td>Apartamento</td>\n",
              "      <td>Botafogo</td>\n",
              "      <td>2</td>\n",
              "      <td>0</td>\n",
              "      <td>0</td>\n",
              "      <td>95</td>\n",
              "      <td>NaN</td>\n",
              "      <td>1010.0</td>\n",
              "      <td>170.0</td>\n",
              "    </tr>\n",
              "    <tr>\n",
              "      <th>2973</th>\n",
              "      <td>Apartamento</td>\n",
              "      <td>Copacabana</td>\n",
              "      <td>2</td>\n",
              "      <td>0</td>\n",
              "      <td>0</td>\n",
              "      <td>72</td>\n",
              "      <td>NaN</td>\n",
              "      <td>850.0</td>\n",
              "      <td>NaN</td>\n",
              "    </tr>\n",
              "    <tr>\n",
              "      <th>6598</th>\n",
              "      <td>Loja/Salão</td>\n",
              "      <td>Andaraí</td>\n",
              "      <td>0</td>\n",
              "      <td>0</td>\n",
              "      <td>0</td>\n",
              "      <td>326</td>\n",
              "      <td>NaN</td>\n",
              "      <td>NaN</td>\n",
              "      <td>1140.0</td>\n",
              "    </tr>\n",
              "    <tr>\n",
              "      <th>7302</th>\n",
              "      <td>Casa</td>\n",
              "      <td>Campo Grande</td>\n",
              "      <td>3</td>\n",
              "      <td>2</td>\n",
              "      <td>1</td>\n",
              "      <td>100</td>\n",
              "      <td>NaN</td>\n",
              "      <td>NaN</td>\n",
              "      <td>NaN</td>\n",
              "    </tr>\n",
              "    <tr>\n",
              "      <th>12683</th>\n",
              "      <td>Apartamento</td>\n",
              "      <td>Leme</td>\n",
              "      <td>2</td>\n",
              "      <td>0</td>\n",
              "      <td>1</td>\n",
              "      <td>75</td>\n",
              "      <td>NaN</td>\n",
              "      <td>878.0</td>\n",
              "      <td>NaN</td>\n",
              "    </tr>\n",
              "    <tr>\n",
              "      <th>13229</th>\n",
              "      <td>Apartamento</td>\n",
              "      <td>Glória</td>\n",
              "      <td>3</td>\n",
              "      <td>0</td>\n",
              "      <td>1</td>\n",
              "      <td>135</td>\n",
              "      <td>NaN</td>\n",
              "      <td>910.0</td>\n",
              "      <td>228.0</td>\n",
              "    </tr>\n",
              "    <tr>\n",
              "      <th>13525</th>\n",
              "      <td>Apartamento</td>\n",
              "      <td>Gávea</td>\n",
              "      <td>3</td>\n",
              "      <td>1</td>\n",
              "      <td>1</td>\n",
              "      <td>105</td>\n",
              "      <td>NaN</td>\n",
              "      <td>880.0</td>\n",
              "      <td>221.0</td>\n",
              "    </tr>\n",
              "    <tr>\n",
              "      <th>13579</th>\n",
              "      <td>Conjunto Comercial/Sala</td>\n",
              "      <td>Botafogo</td>\n",
              "      <td>0</td>\n",
              "      <td>3</td>\n",
              "      <td>0</td>\n",
              "      <td>200</td>\n",
              "      <td>NaN</td>\n",
              "      <td>10.0</td>\n",
              "      <td>NaN</td>\n",
              "    </tr>\n",
              "    <tr>\n",
              "      <th>20948</th>\n",
              "      <td>Conjunto Comercial/Sala</td>\n",
              "      <td>Freguesia (Jacarepaguá)</td>\n",
              "      <td>0</td>\n",
              "      <td>1</td>\n",
              "      <td>0</td>\n",
              "      <td>24</td>\n",
              "      <td>NaN</td>\n",
              "      <td>500.0</td>\n",
              "      <td>74.0</td>\n",
              "    </tr>\n",
              "    <tr>\n",
              "      <th>21822</th>\n",
              "      <td>Loja Shopping/ Ct Comercial</td>\n",
              "      <td>Barra da Tijuca</td>\n",
              "      <td>0</td>\n",
              "      <td>2</td>\n",
              "      <td>0</td>\n",
              "      <td>77</td>\n",
              "      <td>NaN</td>\n",
              "      <td>3600.0</td>\n",
              "      <td>1390.0</td>\n",
              "    </tr>\n",
              "    <tr>\n",
              "      <th>23056</th>\n",
              "      <td>Conjunto Comercial/Sala</td>\n",
              "      <td>Botafogo</td>\n",
              "      <td>0</td>\n",
              "      <td>0</td>\n",
              "      <td>0</td>\n",
              "      <td>900</td>\n",
              "      <td>NaN</td>\n",
              "      <td>10.0</td>\n",
              "      <td>NaN</td>\n",
              "    </tr>\n",
              "    <tr>\n",
              "      <th>24805</th>\n",
              "      <td>Conjunto Comercial/Sala</td>\n",
              "      <td>Botafogo</td>\n",
              "      <td>0</td>\n",
              "      <td>0</td>\n",
              "      <td>0</td>\n",
              "      <td>500</td>\n",
              "      <td>NaN</td>\n",
              "      <td>10.0</td>\n",
              "      <td>NaN</td>\n",
              "    </tr>\n",
              "    <tr>\n",
              "      <th>29166</th>\n",
              "      <td>Conjunto Comercial/Sala</td>\n",
              "      <td>Botafogo</td>\n",
              "      <td>0</td>\n",
              "      <td>1</td>\n",
              "      <td>0</td>\n",
              "      <td>50</td>\n",
              "      <td>NaN</td>\n",
              "      <td>10.0</td>\n",
              "      <td>NaN</td>\n",
              "    </tr>\n",
              "  </tbody>\n",
              "</table>\n",
              "</div>"
            ],
            "text/plain": [
              "                              Tipo                   Bairro  ...  Condominio    IPTU\n",
              "76                     Apartamento          Barra da Tijuca  ...       970.0    68.0\n",
              "2186                   Apartamento                     Leme  ...       878.0     NaN\n",
              "2456                          Casa             Campo Grande  ...         NaN     NaN\n",
              "2646                    Loja/Salão          Barra da Tijuca  ...         NaN     NaN\n",
              "2941                   Apartamento                 Botafogo  ...      1010.0   170.0\n",
              "2973                   Apartamento               Copacabana  ...       850.0     NaN\n",
              "6598                    Loja/Salão                  Andaraí  ...         NaN  1140.0\n",
              "7302                          Casa             Campo Grande  ...         NaN     NaN\n",
              "12683                  Apartamento                     Leme  ...       878.0     NaN\n",
              "13229                  Apartamento                   Glória  ...       910.0   228.0\n",
              "13525                  Apartamento                    Gávea  ...       880.0   221.0\n",
              "13579      Conjunto Comercial/Sala                 Botafogo  ...        10.0     NaN\n",
              "20948      Conjunto Comercial/Sala  Freguesia (Jacarepaguá)  ...       500.0    74.0\n",
              "21822  Loja Shopping/ Ct Comercial          Barra da Tijuca  ...      3600.0  1390.0\n",
              "23056      Conjunto Comercial/Sala                 Botafogo  ...        10.0     NaN\n",
              "24805      Conjunto Comercial/Sala                 Botafogo  ...        10.0     NaN\n",
              "29166      Conjunto Comercial/Sala                 Botafogo  ...        10.0     NaN\n",
              "\n",
              "[17 rows x 9 columns]"
            ]
          },
          "metadata": {},
          "execution_count": 101
        }
      ]
    },
    {
      "cell_type": "code",
      "metadata": {
        "colab": {
          "base_uri": "https://localhost:8080/"
        },
        "id": "0s1KF9VDjtV_",
        "outputId": "4d271bdc-5c7d-4017-c232-2fbab5728401"
      },
      "source": [
        "A = dados.shape[0]\n",
        "dados.dropna(subset = ['Valor'], inplace = True)\n",
        "B = dados.shape[0]\n",
        "A - B"
      ],
      "execution_count": null,
      "outputs": [
        {
          "output_type": "execute_result",
          "data": {
            "text/plain": [
              "17"
            ]
          },
          "metadata": {},
          "execution_count": 111
        }
      ]
    },
    {
      "cell_type": "code",
      "metadata": {
        "colab": {
          "base_uri": "https://localhost:8080/"
        },
        "id": "C1qgqJIerc9Y",
        "outputId": "7e2c65e0-5053-47c2-8d8a-9a3e0305305b"
      },
      "source": [
        "dados[dados['Valor'].isnull()]\n"
      ],
      "execution_count": null,
      "outputs": [
        {
          "output_type": "execute_result",
          "data": {
            "text/html": [
              "<div>\n",
              "<style scoped>\n",
              "    .dataframe tbody tr th:only-of-type {\n",
              "        vertical-align: middle;\n",
              "    }\n",
              "\n",
              "    .dataframe tbody tr th {\n",
              "        vertical-align: top;\n",
              "    }\n",
              "\n",
              "    .dataframe thead th {\n",
              "        text-align: right;\n",
              "    }\n",
              "</style>\n",
              "<table border=\"1\" class=\"dataframe\">\n",
              "  <thead>\n",
              "    <tr style=\"text-align: right;\">\n",
              "      <th></th>\n",
              "      <th>Tipo</th>\n",
              "      <th>Bairro</th>\n",
              "      <th>Quartos</th>\n",
              "      <th>Vagas</th>\n",
              "      <th>Suites</th>\n",
              "      <th>Area</th>\n",
              "      <th>Valor</th>\n",
              "      <th>Condominio</th>\n",
              "      <th>IPTU</th>\n",
              "    </tr>\n",
              "  </thead>\n",
              "  <tbody>\n",
              "  </tbody>\n",
              "</table>\n",
              "</div>"
            ],
            "text/plain": [
              "Empty DataFrame\n",
              "Columns: [Tipo, Bairro, Quartos, Vagas, Suites, Area, Valor, Condominio, IPTU]\n",
              "Index: []"
            ]
          },
          "metadata": {},
          "execution_count": 112
        }
      ]
    },
    {
      "cell_type": "code",
      "metadata": {
        "colab": {
          "base_uri": "https://localhost:8080/"
        },
        "id": "a6XAjGiGmhO1",
        "outputId": "7f109973-9e76-4b35-a166-2c4b7ce600ea"
      },
      "source": [
        "dados[dados['Condominio'].isnull()].shape[0]"
      ],
      "execution_count": null,
      "outputs": [
        {
          "output_type": "execute_result",
          "data": {
            "text/plain": [
              "1564"
            ]
          },
          "metadata": {},
          "execution_count": 88
        }
      ]
    },
    {
      "cell_type": "code",
      "metadata": {
        "colab": {
          "base_uri": "https://localhost:8080/"
        },
        "id": "eN5FIA9Xm1oW",
        "outputId": "208306e9-b9f3-4071-d7e6-e393e87e2494"
      },
      "source": [
        "\n",
        "selecao = (dados['Tipo'] == 'Apartamento') & (dados['Condominio'].isnull())\n",
        "A = dados.shape[0]\n",
        "dados = dados[~selecao]\n",
        "B = dados.shape[0]\n",
        "A - B"
      ],
      "execution_count": null,
      "outputs": [
        {
          "output_type": "execute_result",
          "data": {
            "text/plain": [
              "106"
            ]
          },
          "metadata": {},
          "execution_count": 96
        }
      ]
    },
    {
      "cell_type": "code",
      "metadata": {
        "colab": {
          "base_uri": "https://localhost:8080/"
        },
        "id": "4y6jQ8-anLnV",
        "outputId": "cd5a106a-12d4-4085-bec2-34659571ab07"
      },
      "source": [
        "dados[dados['Tipo'].isnull()]"
      ],
      "execution_count": null,
      "outputs": [
        {
          "output_type": "execute_result",
          "data": {
            "text/html": [
              "<div>\n",
              "<style scoped>\n",
              "    .dataframe tbody tr th:only-of-type {\n",
              "        vertical-align: middle;\n",
              "    }\n",
              "\n",
              "    .dataframe tbody tr th {\n",
              "        vertical-align: top;\n",
              "    }\n",
              "\n",
              "    .dataframe thead th {\n",
              "        text-align: right;\n",
              "    }\n",
              "</style>\n",
              "<table border=\"1\" class=\"dataframe\">\n",
              "  <thead>\n",
              "    <tr style=\"text-align: right;\">\n",
              "      <th></th>\n",
              "      <th>Tipo</th>\n",
              "      <th>Bairro</th>\n",
              "      <th>Quartos</th>\n",
              "      <th>Vagas</th>\n",
              "      <th>Suites</th>\n",
              "      <th>Area</th>\n",
              "      <th>Valor</th>\n",
              "      <th>Condominio</th>\n",
              "      <th>IPTU</th>\n",
              "    </tr>\n",
              "  </thead>\n",
              "  <tbody>\n",
              "  </tbody>\n",
              "</table>\n",
              "</div>"
            ],
            "text/plain": [
              "Empty DataFrame\n",
              "Columns: [Tipo, Bairro, Quartos, Vagas, Suites, Area, Valor, Condominio, IPTU]\n",
              "Index: []"
            ]
          },
          "metadata": {},
          "execution_count": 113
        }
      ]
    },
    {
      "cell_type": "code",
      "metadata": {
        "id": "3eIn1Q05tZLl"
      },
      "source": [
        "dados = dados.fillna({'Condominio': 0, 'IPTU': 0})"
      ],
      "execution_count": null,
      "outputs": []
    },
    {
      "cell_type": "code",
      "metadata": {
        "colab": {
          "base_uri": "https://localhost:8080/"
        },
        "id": "JYjHVYMBtkES",
        "outputId": "e9ab5519-0f2d-45f1-dd6a-16ccc648891f"
      },
      "source": [
        "dados.info() "
      ],
      "execution_count": null,
      "outputs": [
        {
          "output_type": "stream",
          "text": [
            "<class 'pandas.core.frame.DataFrame'>\n",
            "Int64Index: 32943 entries, 0 to 32959\n",
            "Data columns (total 9 columns):\n",
            " #   Column      Non-Null Count  Dtype  \n",
            "---  ------      --------------  -----  \n",
            " 0   Tipo        32943 non-null  object \n",
            " 1   Bairro      32943 non-null  object \n",
            " 2   Quartos     32943 non-null  int64  \n",
            " 3   Vagas       32943 non-null  int64  \n",
            " 4   Suites      32943 non-null  int64  \n",
            " 5   Area        32943 non-null  int64  \n",
            " 6   Valor       32943 non-null  float64\n",
            " 7   Condominio  32943 non-null  float64\n",
            " 8   IPTU        32943 non-null  float64\n",
            "dtypes: float64(3), int64(4), object(2)\n",
            "memory usage: 2.5+ MB\n"
          ],
          "name": "stdout"
        }
      ]
    },
    {
      "cell_type": "code",
      "metadata": {
        "id": "B_x0UifPtpbv"
      },
      "source": [
        "dados.to_csv('aluguel.csv', sep = ';', index = False)"
      ],
      "execution_count": null,
      "outputs": []
    },
    {
      "cell_type": "markdown",
      "metadata": {
        "id": "rBSO-GEAxwWf"
      },
      "source": [
        "#Criando novas variaveis\n",
        "RELATORIO 05"
      ]
    },
    {
      "cell_type": "code",
      "metadata": {
        "colab": {
          "base_uri": "https://localhost:8080/"
        },
        "id": "_Wevo5yFxyU4",
        "outputId": "ced87910-8875-4299-eb94-3be23e037115"
      },
      "source": [
        "dados = pd.read_csv('aluguel.csv', sep=\";\")\n",
        "dados.head(10)"
      ],
      "execution_count": null,
      "outputs": [
        {
          "output_type": "execute_result",
          "data": {
            "text/html": [
              "<div>\n",
              "<style scoped>\n",
              "    .dataframe tbody tr th:only-of-type {\n",
              "        vertical-align: middle;\n",
              "    }\n",
              "\n",
              "    .dataframe tbody tr th {\n",
              "        vertical-align: top;\n",
              "    }\n",
              "\n",
              "    .dataframe thead th {\n",
              "        text-align: right;\n",
              "    }\n",
              "</style>\n",
              "<table border=\"1\" class=\"dataframe\">\n",
              "  <thead>\n",
              "    <tr style=\"text-align: right;\">\n",
              "      <th></th>\n",
              "      <th>Tipo</th>\n",
              "      <th>Bairro</th>\n",
              "      <th>Quartos</th>\n",
              "      <th>Vagas</th>\n",
              "      <th>Suites</th>\n",
              "      <th>Area</th>\n",
              "      <th>Valor</th>\n",
              "      <th>Condominio</th>\n",
              "      <th>IPTU</th>\n",
              "    </tr>\n",
              "  </thead>\n",
              "  <tbody>\n",
              "    <tr>\n",
              "      <th>0</th>\n",
              "      <td>Quitinete</td>\n",
              "      <td>Copacabana</td>\n",
              "      <td>1</td>\n",
              "      <td>0</td>\n",
              "      <td>0</td>\n",
              "      <td>40</td>\n",
              "      <td>1700.0</td>\n",
              "      <td>500.0</td>\n",
              "      <td>60.0</td>\n",
              "    </tr>\n",
              "    <tr>\n",
              "      <th>1</th>\n",
              "      <td>Casa</td>\n",
              "      <td>Jardim Botânico</td>\n",
              "      <td>2</td>\n",
              "      <td>0</td>\n",
              "      <td>1</td>\n",
              "      <td>100</td>\n",
              "      <td>7000.0</td>\n",
              "      <td>0.0</td>\n",
              "      <td>0.0</td>\n",
              "    </tr>\n",
              "    <tr>\n",
              "      <th>2</th>\n",
              "      <td>Conjunto Comercial/Sala</td>\n",
              "      <td>Barra da Tijuca</td>\n",
              "      <td>0</td>\n",
              "      <td>4</td>\n",
              "      <td>0</td>\n",
              "      <td>150</td>\n",
              "      <td>5200.0</td>\n",
              "      <td>4020.0</td>\n",
              "      <td>1111.0</td>\n",
              "    </tr>\n",
              "    <tr>\n",
              "      <th>3</th>\n",
              "      <td>Apartamento</td>\n",
              "      <td>Centro</td>\n",
              "      <td>1</td>\n",
              "      <td>0</td>\n",
              "      <td>0</td>\n",
              "      <td>15</td>\n",
              "      <td>800.0</td>\n",
              "      <td>390.0</td>\n",
              "      <td>20.0</td>\n",
              "    </tr>\n",
              "    <tr>\n",
              "      <th>4</th>\n",
              "      <td>Apartamento</td>\n",
              "      <td>Higienópolis</td>\n",
              "      <td>1</td>\n",
              "      <td>0</td>\n",
              "      <td>0</td>\n",
              "      <td>48</td>\n",
              "      <td>800.0</td>\n",
              "      <td>230.0</td>\n",
              "      <td>0.0</td>\n",
              "    </tr>\n",
              "    <tr>\n",
              "      <th>5</th>\n",
              "      <td>Apartamento</td>\n",
              "      <td>Vista Alegre</td>\n",
              "      <td>3</td>\n",
              "      <td>1</td>\n",
              "      <td>0</td>\n",
              "      <td>70</td>\n",
              "      <td>1200.0</td>\n",
              "      <td>0.0</td>\n",
              "      <td>0.0</td>\n",
              "    </tr>\n",
              "    <tr>\n",
              "      <th>6</th>\n",
              "      <td>Apartamento</td>\n",
              "      <td>Cachambi</td>\n",
              "      <td>2</td>\n",
              "      <td>0</td>\n",
              "      <td>0</td>\n",
              "      <td>50</td>\n",
              "      <td>1300.0</td>\n",
              "      <td>301.0</td>\n",
              "      <td>17.0</td>\n",
              "    </tr>\n",
              "    <tr>\n",
              "      <th>7</th>\n",
              "      <td>Casa de Condomínio</td>\n",
              "      <td>Barra da Tijuca</td>\n",
              "      <td>5</td>\n",
              "      <td>4</td>\n",
              "      <td>5</td>\n",
              "      <td>750</td>\n",
              "      <td>22000.0</td>\n",
              "      <td>0.0</td>\n",
              "      <td>0.0</td>\n",
              "    </tr>\n",
              "    <tr>\n",
              "      <th>8</th>\n",
              "      <td>Casa de Condomínio</td>\n",
              "      <td>Ramos</td>\n",
              "      <td>2</td>\n",
              "      <td>2</td>\n",
              "      <td>0</td>\n",
              "      <td>65</td>\n",
              "      <td>1000.0</td>\n",
              "      <td>0.0</td>\n",
              "      <td>0.0</td>\n",
              "    </tr>\n",
              "    <tr>\n",
              "      <th>9</th>\n",
              "      <td>Conjunto Comercial/Sala</td>\n",
              "      <td>Centro</td>\n",
              "      <td>0</td>\n",
              "      <td>3</td>\n",
              "      <td>0</td>\n",
              "      <td>695</td>\n",
              "      <td>35000.0</td>\n",
              "      <td>19193.0</td>\n",
              "      <td>3030.0</td>\n",
              "    </tr>\n",
              "  </tbody>\n",
              "</table>\n",
              "</div>"
            ],
            "text/plain": [
              "                      Tipo           Bairro  ...  Condominio    IPTU\n",
              "0                Quitinete       Copacabana  ...       500.0    60.0\n",
              "1                     Casa  Jardim Botânico  ...         0.0     0.0\n",
              "2  Conjunto Comercial/Sala  Barra da Tijuca  ...      4020.0  1111.0\n",
              "3              Apartamento           Centro  ...       390.0    20.0\n",
              "4              Apartamento     Higienópolis  ...       230.0     0.0\n",
              "5              Apartamento     Vista Alegre  ...         0.0     0.0\n",
              "6              Apartamento         Cachambi  ...       301.0    17.0\n",
              "7       Casa de Condomínio  Barra da Tijuca  ...         0.0     0.0\n",
              "8       Casa de Condomínio            Ramos  ...         0.0     0.0\n",
              "9  Conjunto Comercial/Sala           Centro  ...     19193.0  3030.0\n",
              "\n",
              "[10 rows x 9 columns]"
            ]
          },
          "metadata": {},
          "execution_count": 117
        }
      ]
    },
    {
      "cell_type": "code",
      "metadata": {
        "id": "FVNcgst8yJGB"
      },
      "source": [
        "dados['Valor Bruto'] = dados['Valor'] +  dados['Condominio'] + dados['IPTU']"
      ],
      "execution_count": null,
      "outputs": []
    },
    {
      "cell_type": "code",
      "metadata": {
        "colab": {
          "base_uri": "https://localhost:8080/"
        },
        "id": "qGlD5tD6ycMx",
        "outputId": "a24c7513-0b5d-4c33-b930-dae033020225"
      },
      "source": [
        "dados.head(10)"
      ],
      "execution_count": null,
      "outputs": [
        {
          "output_type": "execute_result",
          "data": {
            "text/html": [
              "<div>\n",
              "<style scoped>\n",
              "    .dataframe tbody tr th:only-of-type {\n",
              "        vertical-align: middle;\n",
              "    }\n",
              "\n",
              "    .dataframe tbody tr th {\n",
              "        vertical-align: top;\n",
              "    }\n",
              "\n",
              "    .dataframe thead th {\n",
              "        text-align: right;\n",
              "    }\n",
              "</style>\n",
              "<table border=\"1\" class=\"dataframe\">\n",
              "  <thead>\n",
              "    <tr style=\"text-align: right;\">\n",
              "      <th></th>\n",
              "      <th>Tipo</th>\n",
              "      <th>Bairro</th>\n",
              "      <th>Quartos</th>\n",
              "      <th>Vagas</th>\n",
              "      <th>Suites</th>\n",
              "      <th>Area</th>\n",
              "      <th>Valor</th>\n",
              "      <th>Condominio</th>\n",
              "      <th>IPTU</th>\n",
              "      <th>Valor Bruto</th>\n",
              "    </tr>\n",
              "  </thead>\n",
              "  <tbody>\n",
              "    <tr>\n",
              "      <th>0</th>\n",
              "      <td>Quitinete</td>\n",
              "      <td>Copacabana</td>\n",
              "      <td>1</td>\n",
              "      <td>0</td>\n",
              "      <td>0</td>\n",
              "      <td>40</td>\n",
              "      <td>1700.0</td>\n",
              "      <td>500.0</td>\n",
              "      <td>60.0</td>\n",
              "      <td>2260.0</td>\n",
              "    </tr>\n",
              "    <tr>\n",
              "      <th>1</th>\n",
              "      <td>Casa</td>\n",
              "      <td>Jardim Botânico</td>\n",
              "      <td>2</td>\n",
              "      <td>0</td>\n",
              "      <td>1</td>\n",
              "      <td>100</td>\n",
              "      <td>7000.0</td>\n",
              "      <td>0.0</td>\n",
              "      <td>0.0</td>\n",
              "      <td>7000.0</td>\n",
              "    </tr>\n",
              "    <tr>\n",
              "      <th>2</th>\n",
              "      <td>Conjunto Comercial/Sala</td>\n",
              "      <td>Barra da Tijuca</td>\n",
              "      <td>0</td>\n",
              "      <td>4</td>\n",
              "      <td>0</td>\n",
              "      <td>150</td>\n",
              "      <td>5200.0</td>\n",
              "      <td>4020.0</td>\n",
              "      <td>1111.0</td>\n",
              "      <td>10331.0</td>\n",
              "    </tr>\n",
              "    <tr>\n",
              "      <th>3</th>\n",
              "      <td>Apartamento</td>\n",
              "      <td>Centro</td>\n",
              "      <td>1</td>\n",
              "      <td>0</td>\n",
              "      <td>0</td>\n",
              "      <td>15</td>\n",
              "      <td>800.0</td>\n",
              "      <td>390.0</td>\n",
              "      <td>20.0</td>\n",
              "      <td>1210.0</td>\n",
              "    </tr>\n",
              "    <tr>\n",
              "      <th>4</th>\n",
              "      <td>Apartamento</td>\n",
              "      <td>Higienópolis</td>\n",
              "      <td>1</td>\n",
              "      <td>0</td>\n",
              "      <td>0</td>\n",
              "      <td>48</td>\n",
              "      <td>800.0</td>\n",
              "      <td>230.0</td>\n",
              "      <td>0.0</td>\n",
              "      <td>1030.0</td>\n",
              "    </tr>\n",
              "    <tr>\n",
              "      <th>5</th>\n",
              "      <td>Apartamento</td>\n",
              "      <td>Vista Alegre</td>\n",
              "      <td>3</td>\n",
              "      <td>1</td>\n",
              "      <td>0</td>\n",
              "      <td>70</td>\n",
              "      <td>1200.0</td>\n",
              "      <td>0.0</td>\n",
              "      <td>0.0</td>\n",
              "      <td>1200.0</td>\n",
              "    </tr>\n",
              "    <tr>\n",
              "      <th>6</th>\n",
              "      <td>Apartamento</td>\n",
              "      <td>Cachambi</td>\n",
              "      <td>2</td>\n",
              "      <td>0</td>\n",
              "      <td>0</td>\n",
              "      <td>50</td>\n",
              "      <td>1300.0</td>\n",
              "      <td>301.0</td>\n",
              "      <td>17.0</td>\n",
              "      <td>1618.0</td>\n",
              "    </tr>\n",
              "    <tr>\n",
              "      <th>7</th>\n",
              "      <td>Casa de Condomínio</td>\n",
              "      <td>Barra da Tijuca</td>\n",
              "      <td>5</td>\n",
              "      <td>4</td>\n",
              "      <td>5</td>\n",
              "      <td>750</td>\n",
              "      <td>22000.0</td>\n",
              "      <td>0.0</td>\n",
              "      <td>0.0</td>\n",
              "      <td>22000.0</td>\n",
              "    </tr>\n",
              "    <tr>\n",
              "      <th>8</th>\n",
              "      <td>Casa de Condomínio</td>\n",
              "      <td>Ramos</td>\n",
              "      <td>2</td>\n",
              "      <td>2</td>\n",
              "      <td>0</td>\n",
              "      <td>65</td>\n",
              "      <td>1000.0</td>\n",
              "      <td>0.0</td>\n",
              "      <td>0.0</td>\n",
              "      <td>1000.0</td>\n",
              "    </tr>\n",
              "    <tr>\n",
              "      <th>9</th>\n",
              "      <td>Conjunto Comercial/Sala</td>\n",
              "      <td>Centro</td>\n",
              "      <td>0</td>\n",
              "      <td>3</td>\n",
              "      <td>0</td>\n",
              "      <td>695</td>\n",
              "      <td>35000.0</td>\n",
              "      <td>19193.0</td>\n",
              "      <td>3030.0</td>\n",
              "      <td>57223.0</td>\n",
              "    </tr>\n",
              "  </tbody>\n",
              "</table>\n",
              "</div>"
            ],
            "text/plain": [
              "                      Tipo           Bairro  ...    IPTU  Valor Bruto\n",
              "0                Quitinete       Copacabana  ...    60.0       2260.0\n",
              "1                     Casa  Jardim Botânico  ...     0.0       7000.0\n",
              "2  Conjunto Comercial/Sala  Barra da Tijuca  ...  1111.0      10331.0\n",
              "3              Apartamento           Centro  ...    20.0       1210.0\n",
              "4              Apartamento     Higienópolis  ...     0.0       1030.0\n",
              "5              Apartamento     Vista Alegre  ...     0.0       1200.0\n",
              "6              Apartamento         Cachambi  ...    17.0       1618.0\n",
              "7       Casa de Condomínio  Barra da Tijuca  ...     0.0      22000.0\n",
              "8       Casa de Condomínio            Ramos  ...     0.0       1000.0\n",
              "9  Conjunto Comercial/Sala           Centro  ...  3030.0      57223.0\n",
              "\n",
              "[10 rows x 10 columns]"
            ]
          },
          "metadata": {},
          "execution_count": 121
        }
      ]
    },
    {
      "cell_type": "code",
      "metadata": {
        "colab": {
          "base_uri": "https://localhost:8080/"
        },
        "id": "5EF1kpLGym1R",
        "outputId": "e04b1497-e564-4d91-8856-ccc3387ca12d"
      },
      "source": [
        "dados['Valor M2'] = dados['Valor'] / dados['Area']\n",
        "dados.head(10)"
      ],
      "execution_count": null,
      "outputs": [
        {
          "output_type": "execute_result",
          "data": {
            "text/html": [
              "<div>\n",
              "<style scoped>\n",
              "    .dataframe tbody tr th:only-of-type {\n",
              "        vertical-align: middle;\n",
              "    }\n",
              "\n",
              "    .dataframe tbody tr th {\n",
              "        vertical-align: top;\n",
              "    }\n",
              "\n",
              "    .dataframe thead th {\n",
              "        text-align: right;\n",
              "    }\n",
              "</style>\n",
              "<table border=\"1\" class=\"dataframe\">\n",
              "  <thead>\n",
              "    <tr style=\"text-align: right;\">\n",
              "      <th></th>\n",
              "      <th>Tipo</th>\n",
              "      <th>Bairro</th>\n",
              "      <th>Quartos</th>\n",
              "      <th>Vagas</th>\n",
              "      <th>Suites</th>\n",
              "      <th>Area</th>\n",
              "      <th>Valor</th>\n",
              "      <th>Condominio</th>\n",
              "      <th>IPTU</th>\n",
              "      <th>Valor Bruto</th>\n",
              "      <th>Valor M2</th>\n",
              "    </tr>\n",
              "  </thead>\n",
              "  <tbody>\n",
              "    <tr>\n",
              "      <th>0</th>\n",
              "      <td>Quitinete</td>\n",
              "      <td>Copacabana</td>\n",
              "      <td>1</td>\n",
              "      <td>0</td>\n",
              "      <td>0</td>\n",
              "      <td>40</td>\n",
              "      <td>1700.0</td>\n",
              "      <td>500.0</td>\n",
              "      <td>60.0</td>\n",
              "      <td>2260.0</td>\n",
              "      <td>42.500000</td>\n",
              "    </tr>\n",
              "    <tr>\n",
              "      <th>1</th>\n",
              "      <td>Casa</td>\n",
              "      <td>Jardim Botânico</td>\n",
              "      <td>2</td>\n",
              "      <td>0</td>\n",
              "      <td>1</td>\n",
              "      <td>100</td>\n",
              "      <td>7000.0</td>\n",
              "      <td>0.0</td>\n",
              "      <td>0.0</td>\n",
              "      <td>7000.0</td>\n",
              "      <td>70.000000</td>\n",
              "    </tr>\n",
              "    <tr>\n",
              "      <th>2</th>\n",
              "      <td>Conjunto Comercial/Sala</td>\n",
              "      <td>Barra da Tijuca</td>\n",
              "      <td>0</td>\n",
              "      <td>4</td>\n",
              "      <td>0</td>\n",
              "      <td>150</td>\n",
              "      <td>5200.0</td>\n",
              "      <td>4020.0</td>\n",
              "      <td>1111.0</td>\n",
              "      <td>10331.0</td>\n",
              "      <td>34.666667</td>\n",
              "    </tr>\n",
              "    <tr>\n",
              "      <th>3</th>\n",
              "      <td>Apartamento</td>\n",
              "      <td>Centro</td>\n",
              "      <td>1</td>\n",
              "      <td>0</td>\n",
              "      <td>0</td>\n",
              "      <td>15</td>\n",
              "      <td>800.0</td>\n",
              "      <td>390.0</td>\n",
              "      <td>20.0</td>\n",
              "      <td>1210.0</td>\n",
              "      <td>53.333333</td>\n",
              "    </tr>\n",
              "    <tr>\n",
              "      <th>4</th>\n",
              "      <td>Apartamento</td>\n",
              "      <td>Higienópolis</td>\n",
              "      <td>1</td>\n",
              "      <td>0</td>\n",
              "      <td>0</td>\n",
              "      <td>48</td>\n",
              "      <td>800.0</td>\n",
              "      <td>230.0</td>\n",
              "      <td>0.0</td>\n",
              "      <td>1030.0</td>\n",
              "      <td>16.666667</td>\n",
              "    </tr>\n",
              "    <tr>\n",
              "      <th>5</th>\n",
              "      <td>Apartamento</td>\n",
              "      <td>Vista Alegre</td>\n",
              "      <td>3</td>\n",
              "      <td>1</td>\n",
              "      <td>0</td>\n",
              "      <td>70</td>\n",
              "      <td>1200.0</td>\n",
              "      <td>0.0</td>\n",
              "      <td>0.0</td>\n",
              "      <td>1200.0</td>\n",
              "      <td>17.142857</td>\n",
              "    </tr>\n",
              "    <tr>\n",
              "      <th>6</th>\n",
              "      <td>Apartamento</td>\n",
              "      <td>Cachambi</td>\n",
              "      <td>2</td>\n",
              "      <td>0</td>\n",
              "      <td>0</td>\n",
              "      <td>50</td>\n",
              "      <td>1300.0</td>\n",
              "      <td>301.0</td>\n",
              "      <td>17.0</td>\n",
              "      <td>1618.0</td>\n",
              "      <td>26.000000</td>\n",
              "    </tr>\n",
              "    <tr>\n",
              "      <th>7</th>\n",
              "      <td>Casa de Condomínio</td>\n",
              "      <td>Barra da Tijuca</td>\n",
              "      <td>5</td>\n",
              "      <td>4</td>\n",
              "      <td>5</td>\n",
              "      <td>750</td>\n",
              "      <td>22000.0</td>\n",
              "      <td>0.0</td>\n",
              "      <td>0.0</td>\n",
              "      <td>22000.0</td>\n",
              "      <td>29.333333</td>\n",
              "    </tr>\n",
              "    <tr>\n",
              "      <th>8</th>\n",
              "      <td>Casa de Condomínio</td>\n",
              "      <td>Ramos</td>\n",
              "      <td>2</td>\n",
              "      <td>2</td>\n",
              "      <td>0</td>\n",
              "      <td>65</td>\n",
              "      <td>1000.0</td>\n",
              "      <td>0.0</td>\n",
              "      <td>0.0</td>\n",
              "      <td>1000.0</td>\n",
              "      <td>15.384615</td>\n",
              "    </tr>\n",
              "    <tr>\n",
              "      <th>9</th>\n",
              "      <td>Conjunto Comercial/Sala</td>\n",
              "      <td>Centro</td>\n",
              "      <td>0</td>\n",
              "      <td>3</td>\n",
              "      <td>0</td>\n",
              "      <td>695</td>\n",
              "      <td>35000.0</td>\n",
              "      <td>19193.0</td>\n",
              "      <td>3030.0</td>\n",
              "      <td>57223.0</td>\n",
              "      <td>50.359712</td>\n",
              "    </tr>\n",
              "  </tbody>\n",
              "</table>\n",
              "</div>"
            ],
            "text/plain": [
              "                      Tipo           Bairro  ...  Valor Bruto   Valor M2\n",
              "0                Quitinete       Copacabana  ...       2260.0  42.500000\n",
              "1                     Casa  Jardim Botânico  ...       7000.0  70.000000\n",
              "2  Conjunto Comercial/Sala  Barra da Tijuca  ...      10331.0  34.666667\n",
              "3              Apartamento           Centro  ...       1210.0  53.333333\n",
              "4              Apartamento     Higienópolis  ...       1030.0  16.666667\n",
              "5              Apartamento     Vista Alegre  ...       1200.0  17.142857\n",
              "6              Apartamento         Cachambi  ...       1618.0  26.000000\n",
              "7       Casa de Condomínio  Barra da Tijuca  ...      22000.0  29.333333\n",
              "8       Casa de Condomínio            Ramos  ...       1000.0  15.384615\n",
              "9  Conjunto Comercial/Sala           Centro  ...      57223.0  50.359712\n",
              "\n",
              "[10 rows x 11 columns]"
            ]
          },
          "metadata": {},
          "execution_count": 123
        }
      ]
    },
    {
      "cell_type": "code",
      "metadata": {
        "colab": {
          "base_uri": "https://localhost:8080/"
        },
        "id": "EeXGAijFyxxx",
        "outputId": "313b6a5e-c1d7-4db4-92e3-401cec262d06"
      },
      "source": [
        "dados['Valor M2'] = dados['Valor M2'].round(2)\n",
        "dados.head(10)"
      ],
      "execution_count": null,
      "outputs": [
        {
          "output_type": "execute_result",
          "data": {
            "text/html": [
              "<div>\n",
              "<style scoped>\n",
              "    .dataframe tbody tr th:only-of-type {\n",
              "        vertical-align: middle;\n",
              "    }\n",
              "\n",
              "    .dataframe tbody tr th {\n",
              "        vertical-align: top;\n",
              "    }\n",
              "\n",
              "    .dataframe thead th {\n",
              "        text-align: right;\n",
              "    }\n",
              "</style>\n",
              "<table border=\"1\" class=\"dataframe\">\n",
              "  <thead>\n",
              "    <tr style=\"text-align: right;\">\n",
              "      <th></th>\n",
              "      <th>Tipo</th>\n",
              "      <th>Bairro</th>\n",
              "      <th>Quartos</th>\n",
              "      <th>Vagas</th>\n",
              "      <th>Suites</th>\n",
              "      <th>Area</th>\n",
              "      <th>Valor</th>\n",
              "      <th>Condominio</th>\n",
              "      <th>IPTU</th>\n",
              "      <th>Valor Bruto</th>\n",
              "      <th>Valor M2</th>\n",
              "    </tr>\n",
              "  </thead>\n",
              "  <tbody>\n",
              "    <tr>\n",
              "      <th>0</th>\n",
              "      <td>Quitinete</td>\n",
              "      <td>Copacabana</td>\n",
              "      <td>1</td>\n",
              "      <td>0</td>\n",
              "      <td>0</td>\n",
              "      <td>40</td>\n",
              "      <td>1700.0</td>\n",
              "      <td>500.0</td>\n",
              "      <td>60.0</td>\n",
              "      <td>2260.0</td>\n",
              "      <td>42.50</td>\n",
              "    </tr>\n",
              "    <tr>\n",
              "      <th>1</th>\n",
              "      <td>Casa</td>\n",
              "      <td>Jardim Botânico</td>\n",
              "      <td>2</td>\n",
              "      <td>0</td>\n",
              "      <td>1</td>\n",
              "      <td>100</td>\n",
              "      <td>7000.0</td>\n",
              "      <td>0.0</td>\n",
              "      <td>0.0</td>\n",
              "      <td>7000.0</td>\n",
              "      <td>70.00</td>\n",
              "    </tr>\n",
              "    <tr>\n",
              "      <th>2</th>\n",
              "      <td>Conjunto Comercial/Sala</td>\n",
              "      <td>Barra da Tijuca</td>\n",
              "      <td>0</td>\n",
              "      <td>4</td>\n",
              "      <td>0</td>\n",
              "      <td>150</td>\n",
              "      <td>5200.0</td>\n",
              "      <td>4020.0</td>\n",
              "      <td>1111.0</td>\n",
              "      <td>10331.0</td>\n",
              "      <td>34.67</td>\n",
              "    </tr>\n",
              "    <tr>\n",
              "      <th>3</th>\n",
              "      <td>Apartamento</td>\n",
              "      <td>Centro</td>\n",
              "      <td>1</td>\n",
              "      <td>0</td>\n",
              "      <td>0</td>\n",
              "      <td>15</td>\n",
              "      <td>800.0</td>\n",
              "      <td>390.0</td>\n",
              "      <td>20.0</td>\n",
              "      <td>1210.0</td>\n",
              "      <td>53.33</td>\n",
              "    </tr>\n",
              "    <tr>\n",
              "      <th>4</th>\n",
              "      <td>Apartamento</td>\n",
              "      <td>Higienópolis</td>\n",
              "      <td>1</td>\n",
              "      <td>0</td>\n",
              "      <td>0</td>\n",
              "      <td>48</td>\n",
              "      <td>800.0</td>\n",
              "      <td>230.0</td>\n",
              "      <td>0.0</td>\n",
              "      <td>1030.0</td>\n",
              "      <td>16.67</td>\n",
              "    </tr>\n",
              "    <tr>\n",
              "      <th>5</th>\n",
              "      <td>Apartamento</td>\n",
              "      <td>Vista Alegre</td>\n",
              "      <td>3</td>\n",
              "      <td>1</td>\n",
              "      <td>0</td>\n",
              "      <td>70</td>\n",
              "      <td>1200.0</td>\n",
              "      <td>0.0</td>\n",
              "      <td>0.0</td>\n",
              "      <td>1200.0</td>\n",
              "      <td>17.14</td>\n",
              "    </tr>\n",
              "    <tr>\n",
              "      <th>6</th>\n",
              "      <td>Apartamento</td>\n",
              "      <td>Cachambi</td>\n",
              "      <td>2</td>\n",
              "      <td>0</td>\n",
              "      <td>0</td>\n",
              "      <td>50</td>\n",
              "      <td>1300.0</td>\n",
              "      <td>301.0</td>\n",
              "      <td>17.0</td>\n",
              "      <td>1618.0</td>\n",
              "      <td>26.00</td>\n",
              "    </tr>\n",
              "    <tr>\n",
              "      <th>7</th>\n",
              "      <td>Casa de Condomínio</td>\n",
              "      <td>Barra da Tijuca</td>\n",
              "      <td>5</td>\n",
              "      <td>4</td>\n",
              "      <td>5</td>\n",
              "      <td>750</td>\n",
              "      <td>22000.0</td>\n",
              "      <td>0.0</td>\n",
              "      <td>0.0</td>\n",
              "      <td>22000.0</td>\n",
              "      <td>29.33</td>\n",
              "    </tr>\n",
              "    <tr>\n",
              "      <th>8</th>\n",
              "      <td>Casa de Condomínio</td>\n",
              "      <td>Ramos</td>\n",
              "      <td>2</td>\n",
              "      <td>2</td>\n",
              "      <td>0</td>\n",
              "      <td>65</td>\n",
              "      <td>1000.0</td>\n",
              "      <td>0.0</td>\n",
              "      <td>0.0</td>\n",
              "      <td>1000.0</td>\n",
              "      <td>15.38</td>\n",
              "    </tr>\n",
              "    <tr>\n",
              "      <th>9</th>\n",
              "      <td>Conjunto Comercial/Sala</td>\n",
              "      <td>Centro</td>\n",
              "      <td>0</td>\n",
              "      <td>3</td>\n",
              "      <td>0</td>\n",
              "      <td>695</td>\n",
              "      <td>35000.0</td>\n",
              "      <td>19193.0</td>\n",
              "      <td>3030.0</td>\n",
              "      <td>57223.0</td>\n",
              "      <td>50.36</td>\n",
              "    </tr>\n",
              "  </tbody>\n",
              "</table>\n",
              "</div>"
            ],
            "text/plain": [
              "                      Tipo           Bairro  ...  Valor Bruto  Valor M2\n",
              "0                Quitinete       Copacabana  ...       2260.0     42.50\n",
              "1                     Casa  Jardim Botânico  ...       7000.0     70.00\n",
              "2  Conjunto Comercial/Sala  Barra da Tijuca  ...      10331.0     34.67\n",
              "3              Apartamento           Centro  ...       1210.0     53.33\n",
              "4              Apartamento     Higienópolis  ...       1030.0     16.67\n",
              "5              Apartamento     Vista Alegre  ...       1200.0     17.14\n",
              "6              Apartamento         Cachambi  ...       1618.0     26.00\n",
              "7       Casa de Condomínio  Barra da Tijuca  ...      22000.0     29.33\n",
              "8       Casa de Condomínio            Ramos  ...       1000.0     15.38\n",
              "9  Conjunto Comercial/Sala           Centro  ...      57223.0     50.36\n",
              "\n",
              "[10 rows x 11 columns]"
            ]
          },
          "metadata": {},
          "execution_count": 124
        }
      ]
    },
    {
      "cell_type": "code",
      "metadata": {
        "id": "4f3eD_sfzIWj"
      },
      "source": [
        "dados['Valor Bruto M2'] = (dados['Valor Bruto'] / dados['Area']).round(2)\n"
      ],
      "execution_count": null,
      "outputs": []
    },
    {
      "cell_type": "code",
      "metadata": {
        "colab": {
          "base_uri": "https://localhost:8080/"
        },
        "id": "g_f9r-IvzZ6R",
        "outputId": "71c9f756-e210-4343-bdf0-32707bbc42de"
      },
      "source": [
        "dados.head(10)"
      ],
      "execution_count": null,
      "outputs": [
        {
          "output_type": "execute_result",
          "data": {
            "text/html": [
              "<div>\n",
              "<style scoped>\n",
              "    .dataframe tbody tr th:only-of-type {\n",
              "        vertical-align: middle;\n",
              "    }\n",
              "\n",
              "    .dataframe tbody tr th {\n",
              "        vertical-align: top;\n",
              "    }\n",
              "\n",
              "    .dataframe thead th {\n",
              "        text-align: right;\n",
              "    }\n",
              "</style>\n",
              "<table border=\"1\" class=\"dataframe\">\n",
              "  <thead>\n",
              "    <tr style=\"text-align: right;\">\n",
              "      <th></th>\n",
              "      <th>Tipo</th>\n",
              "      <th>Bairro</th>\n",
              "      <th>Quartos</th>\n",
              "      <th>Vagas</th>\n",
              "      <th>Suites</th>\n",
              "      <th>Area</th>\n",
              "      <th>Valor</th>\n",
              "      <th>Condominio</th>\n",
              "      <th>IPTU</th>\n",
              "      <th>Valor Bruto</th>\n",
              "      <th>Valor M2</th>\n",
              "      <th>Valor Bruto M2</th>\n",
              "    </tr>\n",
              "  </thead>\n",
              "  <tbody>\n",
              "    <tr>\n",
              "      <th>0</th>\n",
              "      <td>Quitinete</td>\n",
              "      <td>Copacabana</td>\n",
              "      <td>1</td>\n",
              "      <td>0</td>\n",
              "      <td>0</td>\n",
              "      <td>40</td>\n",
              "      <td>1700.0</td>\n",
              "      <td>500.0</td>\n",
              "      <td>60.0</td>\n",
              "      <td>2260.0</td>\n",
              "      <td>42.50</td>\n",
              "      <td>56.50</td>\n",
              "    </tr>\n",
              "    <tr>\n",
              "      <th>1</th>\n",
              "      <td>Casa</td>\n",
              "      <td>Jardim Botânico</td>\n",
              "      <td>2</td>\n",
              "      <td>0</td>\n",
              "      <td>1</td>\n",
              "      <td>100</td>\n",
              "      <td>7000.0</td>\n",
              "      <td>0.0</td>\n",
              "      <td>0.0</td>\n",
              "      <td>7000.0</td>\n",
              "      <td>70.00</td>\n",
              "      <td>70.00</td>\n",
              "    </tr>\n",
              "    <tr>\n",
              "      <th>2</th>\n",
              "      <td>Conjunto Comercial/Sala</td>\n",
              "      <td>Barra da Tijuca</td>\n",
              "      <td>0</td>\n",
              "      <td>4</td>\n",
              "      <td>0</td>\n",
              "      <td>150</td>\n",
              "      <td>5200.0</td>\n",
              "      <td>4020.0</td>\n",
              "      <td>1111.0</td>\n",
              "      <td>10331.0</td>\n",
              "      <td>34.67</td>\n",
              "      <td>68.87</td>\n",
              "    </tr>\n",
              "    <tr>\n",
              "      <th>3</th>\n",
              "      <td>Apartamento</td>\n",
              "      <td>Centro</td>\n",
              "      <td>1</td>\n",
              "      <td>0</td>\n",
              "      <td>0</td>\n",
              "      <td>15</td>\n",
              "      <td>800.0</td>\n",
              "      <td>390.0</td>\n",
              "      <td>20.0</td>\n",
              "      <td>1210.0</td>\n",
              "      <td>53.33</td>\n",
              "      <td>80.67</td>\n",
              "    </tr>\n",
              "    <tr>\n",
              "      <th>4</th>\n",
              "      <td>Apartamento</td>\n",
              "      <td>Higienópolis</td>\n",
              "      <td>1</td>\n",
              "      <td>0</td>\n",
              "      <td>0</td>\n",
              "      <td>48</td>\n",
              "      <td>800.0</td>\n",
              "      <td>230.0</td>\n",
              "      <td>0.0</td>\n",
              "      <td>1030.0</td>\n",
              "      <td>16.67</td>\n",
              "      <td>21.46</td>\n",
              "    </tr>\n",
              "    <tr>\n",
              "      <th>5</th>\n",
              "      <td>Apartamento</td>\n",
              "      <td>Vista Alegre</td>\n",
              "      <td>3</td>\n",
              "      <td>1</td>\n",
              "      <td>0</td>\n",
              "      <td>70</td>\n",
              "      <td>1200.0</td>\n",
              "      <td>0.0</td>\n",
              "      <td>0.0</td>\n",
              "      <td>1200.0</td>\n",
              "      <td>17.14</td>\n",
              "      <td>17.14</td>\n",
              "    </tr>\n",
              "    <tr>\n",
              "      <th>6</th>\n",
              "      <td>Apartamento</td>\n",
              "      <td>Cachambi</td>\n",
              "      <td>2</td>\n",
              "      <td>0</td>\n",
              "      <td>0</td>\n",
              "      <td>50</td>\n",
              "      <td>1300.0</td>\n",
              "      <td>301.0</td>\n",
              "      <td>17.0</td>\n",
              "      <td>1618.0</td>\n",
              "      <td>26.00</td>\n",
              "      <td>32.36</td>\n",
              "    </tr>\n",
              "    <tr>\n",
              "      <th>7</th>\n",
              "      <td>Casa de Condomínio</td>\n",
              "      <td>Barra da Tijuca</td>\n",
              "      <td>5</td>\n",
              "      <td>4</td>\n",
              "      <td>5</td>\n",
              "      <td>750</td>\n",
              "      <td>22000.0</td>\n",
              "      <td>0.0</td>\n",
              "      <td>0.0</td>\n",
              "      <td>22000.0</td>\n",
              "      <td>29.33</td>\n",
              "      <td>29.33</td>\n",
              "    </tr>\n",
              "    <tr>\n",
              "      <th>8</th>\n",
              "      <td>Casa de Condomínio</td>\n",
              "      <td>Ramos</td>\n",
              "      <td>2</td>\n",
              "      <td>2</td>\n",
              "      <td>0</td>\n",
              "      <td>65</td>\n",
              "      <td>1000.0</td>\n",
              "      <td>0.0</td>\n",
              "      <td>0.0</td>\n",
              "      <td>1000.0</td>\n",
              "      <td>15.38</td>\n",
              "      <td>15.38</td>\n",
              "    </tr>\n",
              "    <tr>\n",
              "      <th>9</th>\n",
              "      <td>Conjunto Comercial/Sala</td>\n",
              "      <td>Centro</td>\n",
              "      <td>0</td>\n",
              "      <td>3</td>\n",
              "      <td>0</td>\n",
              "      <td>695</td>\n",
              "      <td>35000.0</td>\n",
              "      <td>19193.0</td>\n",
              "      <td>3030.0</td>\n",
              "      <td>57223.0</td>\n",
              "      <td>50.36</td>\n",
              "      <td>82.34</td>\n",
              "    </tr>\n",
              "  </tbody>\n",
              "</table>\n",
              "</div>"
            ],
            "text/plain": [
              "                      Tipo           Bairro  ...  Valor M2  Valor Bruto M2\n",
              "0                Quitinete       Copacabana  ...     42.50           56.50\n",
              "1                     Casa  Jardim Botânico  ...     70.00           70.00\n",
              "2  Conjunto Comercial/Sala  Barra da Tijuca  ...     34.67           68.87\n",
              "3              Apartamento           Centro  ...     53.33           80.67\n",
              "4              Apartamento     Higienópolis  ...     16.67           21.46\n",
              "5              Apartamento     Vista Alegre  ...     17.14           17.14\n",
              "6              Apartamento         Cachambi  ...     26.00           32.36\n",
              "7       Casa de Condomínio  Barra da Tijuca  ...     29.33           29.33\n",
              "8       Casa de Condomínio            Ramos  ...     15.38           15.38\n",
              "9  Conjunto Comercial/Sala           Centro  ...     50.36           82.34\n",
              "\n",
              "[10 rows x 12 columns]"
            ]
          },
          "metadata": {},
          "execution_count": 129
        }
      ]
    },
    {
      "cell_type": "code",
      "metadata": {
        "id": "i9UETaJK1Sxf"
      },
      "source": [
        "casa = ['Casa', 'Casa de Condomínio','Casa de Vila']"
      ],
      "execution_count": null,
      "outputs": []
    },
    {
      "cell_type": "code",
      "metadata": {
        "id": "W_ui9Gj41tRA"
      },
      "source": [
        "dados['Tipo Agregado'] = dados['Tipo'].apply(lambda x: 'Casa' if x in casa else 'Apartamento')"
      ],
      "execution_count": null,
      "outputs": []
    },
    {
      "cell_type": "code",
      "metadata": {
        "colab": {
          "base_uri": "https://localhost:8080/"
        },
        "id": "k5oPt3B619LQ",
        "outputId": "8d2489b0-f61c-49a2-b461-147a69633aef"
      },
      "source": [
        "dados.head(10)"
      ],
      "execution_count": null,
      "outputs": [
        {
          "output_type": "execute_result",
          "data": {
            "text/html": [
              "<div>\n",
              "<style scoped>\n",
              "    .dataframe tbody tr th:only-of-type {\n",
              "        vertical-align: middle;\n",
              "    }\n",
              "\n",
              "    .dataframe tbody tr th {\n",
              "        vertical-align: top;\n",
              "    }\n",
              "\n",
              "    .dataframe thead th {\n",
              "        text-align: right;\n",
              "    }\n",
              "</style>\n",
              "<table border=\"1\" class=\"dataframe\">\n",
              "  <thead>\n",
              "    <tr style=\"text-align: right;\">\n",
              "      <th></th>\n",
              "      <th>Tipo</th>\n",
              "      <th>Bairro</th>\n",
              "      <th>Quartos</th>\n",
              "      <th>Vagas</th>\n",
              "      <th>Suites</th>\n",
              "      <th>Area</th>\n",
              "      <th>Valor</th>\n",
              "      <th>Condominio</th>\n",
              "      <th>IPTU</th>\n",
              "      <th>Valor Bruto</th>\n",
              "      <th>Valor M2</th>\n",
              "      <th>Valor Bruto M2</th>\n",
              "      <th>Tipo Agregado</th>\n",
              "    </tr>\n",
              "  </thead>\n",
              "  <tbody>\n",
              "    <tr>\n",
              "      <th>0</th>\n",
              "      <td>Quitinete</td>\n",
              "      <td>Copacabana</td>\n",
              "      <td>1</td>\n",
              "      <td>0</td>\n",
              "      <td>0</td>\n",
              "      <td>40</td>\n",
              "      <td>1700.0</td>\n",
              "      <td>500.0</td>\n",
              "      <td>60.0</td>\n",
              "      <td>2260.0</td>\n",
              "      <td>42.50</td>\n",
              "      <td>56.50</td>\n",
              "      <td>Apartamento</td>\n",
              "    </tr>\n",
              "    <tr>\n",
              "      <th>1</th>\n",
              "      <td>Casa</td>\n",
              "      <td>Jardim Botânico</td>\n",
              "      <td>2</td>\n",
              "      <td>0</td>\n",
              "      <td>1</td>\n",
              "      <td>100</td>\n",
              "      <td>7000.0</td>\n",
              "      <td>0.0</td>\n",
              "      <td>0.0</td>\n",
              "      <td>7000.0</td>\n",
              "      <td>70.00</td>\n",
              "      <td>70.00</td>\n",
              "      <td>Casa</td>\n",
              "    </tr>\n",
              "    <tr>\n",
              "      <th>2</th>\n",
              "      <td>Conjunto Comercial/Sala</td>\n",
              "      <td>Barra da Tijuca</td>\n",
              "      <td>0</td>\n",
              "      <td>4</td>\n",
              "      <td>0</td>\n",
              "      <td>150</td>\n",
              "      <td>5200.0</td>\n",
              "      <td>4020.0</td>\n",
              "      <td>1111.0</td>\n",
              "      <td>10331.0</td>\n",
              "      <td>34.67</td>\n",
              "      <td>68.87</td>\n",
              "      <td>Apartamento</td>\n",
              "    </tr>\n",
              "    <tr>\n",
              "      <th>3</th>\n",
              "      <td>Apartamento</td>\n",
              "      <td>Centro</td>\n",
              "      <td>1</td>\n",
              "      <td>0</td>\n",
              "      <td>0</td>\n",
              "      <td>15</td>\n",
              "      <td>800.0</td>\n",
              "      <td>390.0</td>\n",
              "      <td>20.0</td>\n",
              "      <td>1210.0</td>\n",
              "      <td>53.33</td>\n",
              "      <td>80.67</td>\n",
              "      <td>Apartamento</td>\n",
              "    </tr>\n",
              "    <tr>\n",
              "      <th>4</th>\n",
              "      <td>Apartamento</td>\n",
              "      <td>Higienópolis</td>\n",
              "      <td>1</td>\n",
              "      <td>0</td>\n",
              "      <td>0</td>\n",
              "      <td>48</td>\n",
              "      <td>800.0</td>\n",
              "      <td>230.0</td>\n",
              "      <td>0.0</td>\n",
              "      <td>1030.0</td>\n",
              "      <td>16.67</td>\n",
              "      <td>21.46</td>\n",
              "      <td>Apartamento</td>\n",
              "    </tr>\n",
              "    <tr>\n",
              "      <th>5</th>\n",
              "      <td>Apartamento</td>\n",
              "      <td>Vista Alegre</td>\n",
              "      <td>3</td>\n",
              "      <td>1</td>\n",
              "      <td>0</td>\n",
              "      <td>70</td>\n",
              "      <td>1200.0</td>\n",
              "      <td>0.0</td>\n",
              "      <td>0.0</td>\n",
              "      <td>1200.0</td>\n",
              "      <td>17.14</td>\n",
              "      <td>17.14</td>\n",
              "      <td>Apartamento</td>\n",
              "    </tr>\n",
              "    <tr>\n",
              "      <th>6</th>\n",
              "      <td>Apartamento</td>\n",
              "      <td>Cachambi</td>\n",
              "      <td>2</td>\n",
              "      <td>0</td>\n",
              "      <td>0</td>\n",
              "      <td>50</td>\n",
              "      <td>1300.0</td>\n",
              "      <td>301.0</td>\n",
              "      <td>17.0</td>\n",
              "      <td>1618.0</td>\n",
              "      <td>26.00</td>\n",
              "      <td>32.36</td>\n",
              "      <td>Apartamento</td>\n",
              "    </tr>\n",
              "    <tr>\n",
              "      <th>7</th>\n",
              "      <td>Casa de Condomínio</td>\n",
              "      <td>Barra da Tijuca</td>\n",
              "      <td>5</td>\n",
              "      <td>4</td>\n",
              "      <td>5</td>\n",
              "      <td>750</td>\n",
              "      <td>22000.0</td>\n",
              "      <td>0.0</td>\n",
              "      <td>0.0</td>\n",
              "      <td>22000.0</td>\n",
              "      <td>29.33</td>\n",
              "      <td>29.33</td>\n",
              "      <td>Casa</td>\n",
              "    </tr>\n",
              "    <tr>\n",
              "      <th>8</th>\n",
              "      <td>Casa de Condomínio</td>\n",
              "      <td>Ramos</td>\n",
              "      <td>2</td>\n",
              "      <td>2</td>\n",
              "      <td>0</td>\n",
              "      <td>65</td>\n",
              "      <td>1000.0</td>\n",
              "      <td>0.0</td>\n",
              "      <td>0.0</td>\n",
              "      <td>1000.0</td>\n",
              "      <td>15.38</td>\n",
              "      <td>15.38</td>\n",
              "      <td>Casa</td>\n",
              "    </tr>\n",
              "    <tr>\n",
              "      <th>9</th>\n",
              "      <td>Conjunto Comercial/Sala</td>\n",
              "      <td>Centro</td>\n",
              "      <td>0</td>\n",
              "      <td>3</td>\n",
              "      <td>0</td>\n",
              "      <td>695</td>\n",
              "      <td>35000.0</td>\n",
              "      <td>19193.0</td>\n",
              "      <td>3030.0</td>\n",
              "      <td>57223.0</td>\n",
              "      <td>50.36</td>\n",
              "      <td>82.34</td>\n",
              "      <td>Apartamento</td>\n",
              "    </tr>\n",
              "  </tbody>\n",
              "</table>\n",
              "</div>"
            ],
            "text/plain": [
              "                      Tipo           Bairro  ...  Valor Bruto M2  Tipo Agregado\n",
              "0                Quitinete       Copacabana  ...           56.50    Apartamento\n",
              "1                     Casa  Jardim Botânico  ...           70.00           Casa\n",
              "2  Conjunto Comercial/Sala  Barra da Tijuca  ...           68.87    Apartamento\n",
              "3              Apartamento           Centro  ...           80.67    Apartamento\n",
              "4              Apartamento     Higienópolis  ...           21.46    Apartamento\n",
              "5              Apartamento     Vista Alegre  ...           17.14    Apartamento\n",
              "6              Apartamento         Cachambi  ...           32.36    Apartamento\n",
              "7       Casa de Condomínio  Barra da Tijuca  ...           29.33           Casa\n",
              "8       Casa de Condomínio            Ramos  ...           15.38           Casa\n",
              "9  Conjunto Comercial/Sala           Centro  ...           82.34    Apartamento\n",
              "\n",
              "[10 rows x 13 columns]"
            ]
          },
          "metadata": {},
          "execution_count": 133
        }
      ]
    },
    {
      "cell_type": "code",
      "metadata": {
        "id": "YGM391nD1_5o"
      },
      "source": [
        ""
      ],
      "execution_count": null,
      "outputs": []
    },
    {
      "cell_type": "markdown",
      "metadata": {
        "id": "g5a4LJtQ6Dr_"
      },
      "source": [
        "#Exclusão de variáveis"
      ]
    },
    {
      "cell_type": "code",
      "metadata": {
        "colab": {
          "base_uri": "https://localhost:8080/"
        },
        "id": "XCmkU6ZQ6Fb2",
        "outputId": "8e3225b5-1df4-42b6-aae2-c5c2549ffac8"
      },
      "source": [
        "dados_aux = pd.DataFrame(dados[['Tipo Agregado', 'Valor M2', 'Valor Bruto', 'Valor Bruto M2']])\n",
        "dados_aux"
      ],
      "execution_count": null,
      "outputs": [
        {
          "output_type": "execute_result",
          "data": {
            "text/html": [
              "<div>\n",
              "<style scoped>\n",
              "    .dataframe tbody tr th:only-of-type {\n",
              "        vertical-align: middle;\n",
              "    }\n",
              "\n",
              "    .dataframe tbody tr th {\n",
              "        vertical-align: top;\n",
              "    }\n",
              "\n",
              "    .dataframe thead th {\n",
              "        text-align: right;\n",
              "    }\n",
              "</style>\n",
              "<table border=\"1\" class=\"dataframe\">\n",
              "  <thead>\n",
              "    <tr style=\"text-align: right;\">\n",
              "      <th></th>\n",
              "      <th>Tipo Agregado</th>\n",
              "      <th>Valor M2</th>\n",
              "      <th>Valor Bruto</th>\n",
              "      <th>Valor Bruto M2</th>\n",
              "    </tr>\n",
              "  </thead>\n",
              "  <tbody>\n",
              "    <tr>\n",
              "      <th>0</th>\n",
              "      <td>Apartamento</td>\n",
              "      <td>42.50</td>\n",
              "      <td>2260.0</td>\n",
              "      <td>56.50</td>\n",
              "    </tr>\n",
              "    <tr>\n",
              "      <th>1</th>\n",
              "      <td>Casa</td>\n",
              "      <td>70.00</td>\n",
              "      <td>7000.0</td>\n",
              "      <td>70.00</td>\n",
              "    </tr>\n",
              "    <tr>\n",
              "      <th>2</th>\n",
              "      <td>Apartamento</td>\n",
              "      <td>34.67</td>\n",
              "      <td>10331.0</td>\n",
              "      <td>68.87</td>\n",
              "    </tr>\n",
              "    <tr>\n",
              "      <th>3</th>\n",
              "      <td>Apartamento</td>\n",
              "      <td>53.33</td>\n",
              "      <td>1210.0</td>\n",
              "      <td>80.67</td>\n",
              "    </tr>\n",
              "    <tr>\n",
              "      <th>4</th>\n",
              "      <td>Apartamento</td>\n",
              "      <td>16.67</td>\n",
              "      <td>1030.0</td>\n",
              "      <td>21.46</td>\n",
              "    </tr>\n",
              "    <tr>\n",
              "      <th>...</th>\n",
              "      <td>...</td>\n",
              "      <td>...</td>\n",
              "      <td>...</td>\n",
              "      <td>...</td>\n",
              "    </tr>\n",
              "    <tr>\n",
              "      <th>32938</th>\n",
              "      <td>Apartamento</td>\n",
              "      <td>29.63</td>\n",
              "      <td>1175.0</td>\n",
              "      <td>43.52</td>\n",
              "    </tr>\n",
              "    <tr>\n",
              "      <th>32939</th>\n",
              "      <td>Apartamento</td>\n",
              "      <td>23.08</td>\n",
              "      <td>2640.0</td>\n",
              "      <td>33.85</td>\n",
              "    </tr>\n",
              "    <tr>\n",
              "      <th>32940</th>\n",
              "      <td>Apartamento</td>\n",
              "      <td>29.17</td>\n",
              "      <td>1946.0</td>\n",
              "      <td>40.54</td>\n",
              "    </tr>\n",
              "    <tr>\n",
              "      <th>32941</th>\n",
              "      <td>Apartamento</td>\n",
              "      <td>42.86</td>\n",
              "      <td>3760.0</td>\n",
              "      <td>53.71</td>\n",
              "    </tr>\n",
              "    <tr>\n",
              "      <th>32942</th>\n",
              "      <td>Apartamento</td>\n",
              "      <td>26.00</td>\n",
              "      <td>11815.0</td>\n",
              "      <td>47.26</td>\n",
              "    </tr>\n",
              "  </tbody>\n",
              "</table>\n",
              "<p>32943 rows × 4 columns</p>\n",
              "</div>"
            ],
            "text/plain": [
              "      Tipo Agregado  Valor M2  Valor Bruto  Valor Bruto M2\n",
              "0       Apartamento     42.50       2260.0           56.50\n",
              "1              Casa     70.00       7000.0           70.00\n",
              "2       Apartamento     34.67      10331.0           68.87\n",
              "3       Apartamento     53.33       1210.0           80.67\n",
              "4       Apartamento     16.67       1030.0           21.46\n",
              "...             ...       ...          ...             ...\n",
              "32938   Apartamento     29.63       1175.0           43.52\n",
              "32939   Apartamento     23.08       2640.0           33.85\n",
              "32940   Apartamento     29.17       1946.0           40.54\n",
              "32941   Apartamento     42.86       3760.0           53.71\n",
              "32942   Apartamento     26.00      11815.0           47.26\n",
              "\n",
              "[32943 rows x 4 columns]"
            ]
          },
          "metadata": {},
          "execution_count": 136
        }
      ]
    },
    {
      "cell_type": "code",
      "metadata": {
        "colab": {
          "base_uri": "https://localhost:8080/"
        },
        "id": "pEH4P-nB6a0n",
        "outputId": "4056ee47-6459-4467-8e5c-67bd3f04c0c6"
      },
      "source": [
        "dados_aux.head(10)"
      ],
      "execution_count": null,
      "outputs": [
        {
          "output_type": "execute_result",
          "data": {
            "text/html": [
              "<div>\n",
              "<style scoped>\n",
              "    .dataframe tbody tr th:only-of-type {\n",
              "        vertical-align: middle;\n",
              "    }\n",
              "\n",
              "    .dataframe tbody tr th {\n",
              "        vertical-align: top;\n",
              "    }\n",
              "\n",
              "    .dataframe thead th {\n",
              "        text-align: right;\n",
              "    }\n",
              "</style>\n",
              "<table border=\"1\" class=\"dataframe\">\n",
              "  <thead>\n",
              "    <tr style=\"text-align: right;\">\n",
              "      <th></th>\n",
              "      <th>Tipo Agregado</th>\n",
              "      <th>Valor M2</th>\n",
              "      <th>Valor Bruto</th>\n",
              "      <th>Valor Bruto M2</th>\n",
              "    </tr>\n",
              "  </thead>\n",
              "  <tbody>\n",
              "    <tr>\n",
              "      <th>0</th>\n",
              "      <td>Apartamento</td>\n",
              "      <td>42.50</td>\n",
              "      <td>2260.0</td>\n",
              "      <td>56.50</td>\n",
              "    </tr>\n",
              "    <tr>\n",
              "      <th>1</th>\n",
              "      <td>Casa</td>\n",
              "      <td>70.00</td>\n",
              "      <td>7000.0</td>\n",
              "      <td>70.00</td>\n",
              "    </tr>\n",
              "    <tr>\n",
              "      <th>2</th>\n",
              "      <td>Apartamento</td>\n",
              "      <td>34.67</td>\n",
              "      <td>10331.0</td>\n",
              "      <td>68.87</td>\n",
              "    </tr>\n",
              "    <tr>\n",
              "      <th>3</th>\n",
              "      <td>Apartamento</td>\n",
              "      <td>53.33</td>\n",
              "      <td>1210.0</td>\n",
              "      <td>80.67</td>\n",
              "    </tr>\n",
              "    <tr>\n",
              "      <th>4</th>\n",
              "      <td>Apartamento</td>\n",
              "      <td>16.67</td>\n",
              "      <td>1030.0</td>\n",
              "      <td>21.46</td>\n",
              "    </tr>\n",
              "    <tr>\n",
              "      <th>5</th>\n",
              "      <td>Apartamento</td>\n",
              "      <td>17.14</td>\n",
              "      <td>1200.0</td>\n",
              "      <td>17.14</td>\n",
              "    </tr>\n",
              "    <tr>\n",
              "      <th>6</th>\n",
              "      <td>Apartamento</td>\n",
              "      <td>26.00</td>\n",
              "      <td>1618.0</td>\n",
              "      <td>32.36</td>\n",
              "    </tr>\n",
              "    <tr>\n",
              "      <th>7</th>\n",
              "      <td>Casa</td>\n",
              "      <td>29.33</td>\n",
              "      <td>22000.0</td>\n",
              "      <td>29.33</td>\n",
              "    </tr>\n",
              "    <tr>\n",
              "      <th>8</th>\n",
              "      <td>Casa</td>\n",
              "      <td>15.38</td>\n",
              "      <td>1000.0</td>\n",
              "      <td>15.38</td>\n",
              "    </tr>\n",
              "    <tr>\n",
              "      <th>9</th>\n",
              "      <td>Apartamento</td>\n",
              "      <td>50.36</td>\n",
              "      <td>57223.0</td>\n",
              "      <td>82.34</td>\n",
              "    </tr>\n",
              "  </tbody>\n",
              "</table>\n",
              "</div>"
            ],
            "text/plain": [
              "  Tipo Agregado  Valor M2  Valor Bruto  Valor Bruto M2\n",
              "0   Apartamento     42.50       2260.0           56.50\n",
              "1          Casa     70.00       7000.0           70.00\n",
              "2   Apartamento     34.67      10331.0           68.87\n",
              "3   Apartamento     53.33       1210.0           80.67\n",
              "4   Apartamento     16.67       1030.0           21.46\n",
              "5   Apartamento     17.14       1200.0           17.14\n",
              "6   Apartamento     26.00       1618.0           32.36\n",
              "7          Casa     29.33      22000.0           29.33\n",
              "8          Casa     15.38       1000.0           15.38\n",
              "9   Apartamento     50.36      57223.0           82.34"
            ]
          },
          "metadata": {},
          "execution_count": 138
        }
      ]
    },
    {
      "cell_type": "code",
      "metadata": {
        "colab": {
          "base_uri": "https://localhost:8080/"
        },
        "id": "RygqFzve6l5O",
        "outputId": "413798ac-c74b-4878-939d-cc9dca2e2ab9"
      },
      "source": [
        "del dados_aux['Valor Bruto']\n",
        "dados_aux.head(10)"
      ],
      "execution_count": null,
      "outputs": [
        {
          "output_type": "execute_result",
          "data": {
            "text/html": [
              "<div>\n",
              "<style scoped>\n",
              "    .dataframe tbody tr th:only-of-type {\n",
              "        vertical-align: middle;\n",
              "    }\n",
              "\n",
              "    .dataframe tbody tr th {\n",
              "        vertical-align: top;\n",
              "    }\n",
              "\n",
              "    .dataframe thead th {\n",
              "        text-align: right;\n",
              "    }\n",
              "</style>\n",
              "<table border=\"1\" class=\"dataframe\">\n",
              "  <thead>\n",
              "    <tr style=\"text-align: right;\">\n",
              "      <th></th>\n",
              "      <th>Tipo Agregado</th>\n",
              "      <th>Valor M2</th>\n",
              "      <th>Valor Bruto M2</th>\n",
              "    </tr>\n",
              "  </thead>\n",
              "  <tbody>\n",
              "    <tr>\n",
              "      <th>0</th>\n",
              "      <td>Apartamento</td>\n",
              "      <td>42.50</td>\n",
              "      <td>56.50</td>\n",
              "    </tr>\n",
              "    <tr>\n",
              "      <th>1</th>\n",
              "      <td>Casa</td>\n",
              "      <td>70.00</td>\n",
              "      <td>70.00</td>\n",
              "    </tr>\n",
              "    <tr>\n",
              "      <th>2</th>\n",
              "      <td>Apartamento</td>\n",
              "      <td>34.67</td>\n",
              "      <td>68.87</td>\n",
              "    </tr>\n",
              "    <tr>\n",
              "      <th>3</th>\n",
              "      <td>Apartamento</td>\n",
              "      <td>53.33</td>\n",
              "      <td>80.67</td>\n",
              "    </tr>\n",
              "    <tr>\n",
              "      <th>4</th>\n",
              "      <td>Apartamento</td>\n",
              "      <td>16.67</td>\n",
              "      <td>21.46</td>\n",
              "    </tr>\n",
              "    <tr>\n",
              "      <th>5</th>\n",
              "      <td>Apartamento</td>\n",
              "      <td>17.14</td>\n",
              "      <td>17.14</td>\n",
              "    </tr>\n",
              "    <tr>\n",
              "      <th>6</th>\n",
              "      <td>Apartamento</td>\n",
              "      <td>26.00</td>\n",
              "      <td>32.36</td>\n",
              "    </tr>\n",
              "    <tr>\n",
              "      <th>7</th>\n",
              "      <td>Casa</td>\n",
              "      <td>29.33</td>\n",
              "      <td>29.33</td>\n",
              "    </tr>\n",
              "    <tr>\n",
              "      <th>8</th>\n",
              "      <td>Casa</td>\n",
              "      <td>15.38</td>\n",
              "      <td>15.38</td>\n",
              "    </tr>\n",
              "    <tr>\n",
              "      <th>9</th>\n",
              "      <td>Apartamento</td>\n",
              "      <td>50.36</td>\n",
              "      <td>82.34</td>\n",
              "    </tr>\n",
              "  </tbody>\n",
              "</table>\n",
              "</div>"
            ],
            "text/plain": [
              "  Tipo Agregado  Valor M2  Valor Bruto M2\n",
              "0   Apartamento     42.50           56.50\n",
              "1          Casa     70.00           70.00\n",
              "2   Apartamento     34.67           68.87\n",
              "3   Apartamento     53.33           80.67\n",
              "4   Apartamento     16.67           21.46\n",
              "5   Apartamento     17.14           17.14\n",
              "6   Apartamento     26.00           32.36\n",
              "7          Casa     29.33           29.33\n",
              "8          Casa     15.38           15.38\n",
              "9   Apartamento     50.36           82.34"
            ]
          },
          "metadata": {},
          "execution_count": 139
        }
      ]
    },
    {
      "cell_type": "code",
      "metadata": {
        "colab": {
          "base_uri": "https://localhost:8080/"
        },
        "id": "qpfDKX9j6w_u",
        "outputId": "fdf3796c-4058-4bb0-ac1d-d82703288232"
      },
      "source": [
        "#outra forma\n",
        "dados_aux.head(10)"
      ],
      "execution_count": null,
      "outputs": [
        {
          "output_type": "execute_result",
          "data": {
            "text/html": [
              "<div>\n",
              "<style scoped>\n",
              "    .dataframe tbody tr th:only-of-type {\n",
              "        vertical-align: middle;\n",
              "    }\n",
              "\n",
              "    .dataframe tbody tr th {\n",
              "        vertical-align: top;\n",
              "    }\n",
              "\n",
              "    .dataframe thead th {\n",
              "        text-align: right;\n",
              "    }\n",
              "</style>\n",
              "<table border=\"1\" class=\"dataframe\">\n",
              "  <thead>\n",
              "    <tr style=\"text-align: right;\">\n",
              "      <th></th>\n",
              "      <th>Tipo Agregado</th>\n",
              "      <th>Valor M2</th>\n",
              "    </tr>\n",
              "  </thead>\n",
              "  <tbody>\n",
              "    <tr>\n",
              "      <th>0</th>\n",
              "      <td>Apartamento</td>\n",
              "      <td>42.50</td>\n",
              "    </tr>\n",
              "    <tr>\n",
              "      <th>1</th>\n",
              "      <td>Casa</td>\n",
              "      <td>70.00</td>\n",
              "    </tr>\n",
              "    <tr>\n",
              "      <th>2</th>\n",
              "      <td>Apartamento</td>\n",
              "      <td>34.67</td>\n",
              "    </tr>\n",
              "    <tr>\n",
              "      <th>3</th>\n",
              "      <td>Apartamento</td>\n",
              "      <td>53.33</td>\n",
              "    </tr>\n",
              "    <tr>\n",
              "      <th>4</th>\n",
              "      <td>Apartamento</td>\n",
              "      <td>16.67</td>\n",
              "    </tr>\n",
              "    <tr>\n",
              "      <th>5</th>\n",
              "      <td>Apartamento</td>\n",
              "      <td>17.14</td>\n",
              "    </tr>\n",
              "    <tr>\n",
              "      <th>6</th>\n",
              "      <td>Apartamento</td>\n",
              "      <td>26.00</td>\n",
              "    </tr>\n",
              "    <tr>\n",
              "      <th>7</th>\n",
              "      <td>Casa</td>\n",
              "      <td>29.33</td>\n",
              "    </tr>\n",
              "    <tr>\n",
              "      <th>8</th>\n",
              "      <td>Casa</td>\n",
              "      <td>15.38</td>\n",
              "    </tr>\n",
              "    <tr>\n",
              "      <th>9</th>\n",
              "      <td>Apartamento</td>\n",
              "      <td>50.36</td>\n",
              "    </tr>\n",
              "  </tbody>\n",
              "</table>\n",
              "</div>"
            ],
            "text/plain": [
              "  Tipo Agregado  Valor M2\n",
              "0   Apartamento     42.50\n",
              "1          Casa     70.00\n",
              "2   Apartamento     34.67\n",
              "3   Apartamento     53.33\n",
              "4   Apartamento     16.67\n",
              "5   Apartamento     17.14\n",
              "6   Apartamento     26.00\n",
              "7          Casa     29.33\n",
              "8          Casa     15.38\n",
              "9   Apartamento     50.36"
            ]
          },
          "metadata": {},
          "execution_count": 146
        }
      ]
    },
    {
      "cell_type": "code",
      "metadata": {
        "id": "lhF07SKI64Y-"
      },
      "source": [
        "#Melhor Forma"
      ],
      "execution_count": null,
      "outputs": []
    },
    {
      "cell_type": "code",
      "metadata": {
        "colab": {
          "base_uri": "https://localhost:8080/"
        },
        "id": "vPlMu9bU7Xwu",
        "outputId": "151c6d92-524d-4046-a3c1-70cc8f226787"
      },
      "source": [
        "dados.drop(['Valor Bruto', 'Valor Bruto M2'], axis = 1, inplace = True)\n"
      ],
      "execution_count": null,
      "outputs": [
        {
          "output_type": "error",
          "ename": "KeyError",
          "evalue": "ignored",
          "traceback": [
            "\u001b[0;31m---------------------------------------------------------------------------\u001b[0m",
            "\u001b[0;31mKeyError\u001b[0m                                  Traceback (most recent call last)",
            "\u001b[0;32m<ipython-input-151-1614ee4f889e>\u001b[0m in \u001b[0;36m<module>\u001b[0;34m()\u001b[0m\n\u001b[0;32m----> 1\u001b[0;31m \u001b[0mdados\u001b[0m\u001b[0;34m.\u001b[0m\u001b[0mdrop\u001b[0m\u001b[0;34m(\u001b[0m\u001b[0;34m[\u001b[0m\u001b[0;34m'Valor Bruto'\u001b[0m\u001b[0;34m,\u001b[0m \u001b[0;34m'Valor Bruto M2'\u001b[0m\u001b[0;34m]\u001b[0m\u001b[0;34m,\u001b[0m \u001b[0maxis\u001b[0m \u001b[0;34m=\u001b[0m \u001b[0;36m1\u001b[0m\u001b[0;34m,\u001b[0m \u001b[0minplace\u001b[0m \u001b[0;34m=\u001b[0m \u001b[0;32mTrue\u001b[0m\u001b[0;34m)\u001b[0m\u001b[0;34m\u001b[0m\u001b[0;34m\u001b[0m\u001b[0m\n\u001b[0m\u001b[1;32m      2\u001b[0m \u001b[0mdados\u001b[0m\u001b[0;34m.\u001b[0m\u001b[0mhead\u001b[0m\u001b[0;34m(\u001b[0m\u001b[0;36m10\u001b[0m\u001b[0;34m)\u001b[0m\u001b[0;34m\u001b[0m\u001b[0;34m\u001b[0m\u001b[0m\n",
            "\u001b[0;32m/usr/local/lib/python3.7/dist-packages/pandas/core/frame.py\u001b[0m in \u001b[0;36mdrop\u001b[0;34m(self, labels, axis, index, columns, level, inplace, errors)\u001b[0m\n\u001b[1;32m   4172\u001b[0m             \u001b[0mlevel\u001b[0m\u001b[0;34m=\u001b[0m\u001b[0mlevel\u001b[0m\u001b[0;34m,\u001b[0m\u001b[0;34m\u001b[0m\u001b[0;34m\u001b[0m\u001b[0m\n\u001b[1;32m   4173\u001b[0m             \u001b[0minplace\u001b[0m\u001b[0;34m=\u001b[0m\u001b[0minplace\u001b[0m\u001b[0;34m,\u001b[0m\u001b[0;34m\u001b[0m\u001b[0;34m\u001b[0m\u001b[0m\n\u001b[0;32m-> 4174\u001b[0;31m             \u001b[0merrors\u001b[0m\u001b[0;34m=\u001b[0m\u001b[0merrors\u001b[0m\u001b[0;34m,\u001b[0m\u001b[0;34m\u001b[0m\u001b[0;34m\u001b[0m\u001b[0m\n\u001b[0m\u001b[1;32m   4175\u001b[0m         )\n\u001b[1;32m   4176\u001b[0m \u001b[0;34m\u001b[0m\u001b[0m\n",
            "\u001b[0;32m/usr/local/lib/python3.7/dist-packages/pandas/core/generic.py\u001b[0m in \u001b[0;36mdrop\u001b[0;34m(self, labels, axis, index, columns, level, inplace, errors)\u001b[0m\n\u001b[1;32m   3887\u001b[0m         \u001b[0;32mfor\u001b[0m \u001b[0maxis\u001b[0m\u001b[0;34m,\u001b[0m \u001b[0mlabels\u001b[0m \u001b[0;32min\u001b[0m \u001b[0maxes\u001b[0m\u001b[0;34m.\u001b[0m\u001b[0mitems\u001b[0m\u001b[0;34m(\u001b[0m\u001b[0;34m)\u001b[0m\u001b[0;34m:\u001b[0m\u001b[0;34m\u001b[0m\u001b[0;34m\u001b[0m\u001b[0m\n\u001b[1;32m   3888\u001b[0m             \u001b[0;32mif\u001b[0m \u001b[0mlabels\u001b[0m \u001b[0;32mis\u001b[0m \u001b[0;32mnot\u001b[0m \u001b[0;32mNone\u001b[0m\u001b[0;34m:\u001b[0m\u001b[0;34m\u001b[0m\u001b[0;34m\u001b[0m\u001b[0m\n\u001b[0;32m-> 3889\u001b[0;31m                 \u001b[0mobj\u001b[0m \u001b[0;34m=\u001b[0m \u001b[0mobj\u001b[0m\u001b[0;34m.\u001b[0m\u001b[0m_drop_axis\u001b[0m\u001b[0;34m(\u001b[0m\u001b[0mlabels\u001b[0m\u001b[0;34m,\u001b[0m \u001b[0maxis\u001b[0m\u001b[0;34m,\u001b[0m \u001b[0mlevel\u001b[0m\u001b[0;34m=\u001b[0m\u001b[0mlevel\u001b[0m\u001b[0;34m,\u001b[0m \u001b[0merrors\u001b[0m\u001b[0;34m=\u001b[0m\u001b[0merrors\u001b[0m\u001b[0;34m)\u001b[0m\u001b[0;34m\u001b[0m\u001b[0;34m\u001b[0m\u001b[0m\n\u001b[0m\u001b[1;32m   3890\u001b[0m \u001b[0;34m\u001b[0m\u001b[0m\n\u001b[1;32m   3891\u001b[0m         \u001b[0;32mif\u001b[0m \u001b[0minplace\u001b[0m\u001b[0;34m:\u001b[0m\u001b[0;34m\u001b[0m\u001b[0;34m\u001b[0m\u001b[0m\n",
            "\u001b[0;32m/usr/local/lib/python3.7/dist-packages/pandas/core/generic.py\u001b[0m in \u001b[0;36m_drop_axis\u001b[0;34m(self, labels, axis, level, errors)\u001b[0m\n\u001b[1;32m   3921\u001b[0m                 \u001b[0mnew_axis\u001b[0m \u001b[0;34m=\u001b[0m \u001b[0maxis\u001b[0m\u001b[0;34m.\u001b[0m\u001b[0mdrop\u001b[0m\u001b[0;34m(\u001b[0m\u001b[0mlabels\u001b[0m\u001b[0;34m,\u001b[0m \u001b[0mlevel\u001b[0m\u001b[0;34m=\u001b[0m\u001b[0mlevel\u001b[0m\u001b[0;34m,\u001b[0m \u001b[0merrors\u001b[0m\u001b[0;34m=\u001b[0m\u001b[0merrors\u001b[0m\u001b[0;34m)\u001b[0m\u001b[0;34m\u001b[0m\u001b[0;34m\u001b[0m\u001b[0m\n\u001b[1;32m   3922\u001b[0m             \u001b[0;32melse\u001b[0m\u001b[0;34m:\u001b[0m\u001b[0;34m\u001b[0m\u001b[0;34m\u001b[0m\u001b[0m\n\u001b[0;32m-> 3923\u001b[0;31m                 \u001b[0mnew_axis\u001b[0m \u001b[0;34m=\u001b[0m \u001b[0maxis\u001b[0m\u001b[0;34m.\u001b[0m\u001b[0mdrop\u001b[0m\u001b[0;34m(\u001b[0m\u001b[0mlabels\u001b[0m\u001b[0;34m,\u001b[0m \u001b[0merrors\u001b[0m\u001b[0;34m=\u001b[0m\u001b[0merrors\u001b[0m\u001b[0;34m)\u001b[0m\u001b[0;34m\u001b[0m\u001b[0;34m\u001b[0m\u001b[0m\n\u001b[0m\u001b[1;32m   3924\u001b[0m             \u001b[0mresult\u001b[0m \u001b[0;34m=\u001b[0m \u001b[0mself\u001b[0m\u001b[0;34m.\u001b[0m\u001b[0mreindex\u001b[0m\u001b[0;34m(\u001b[0m\u001b[0;34m**\u001b[0m\u001b[0;34m{\u001b[0m\u001b[0maxis_name\u001b[0m\u001b[0;34m:\u001b[0m \u001b[0mnew_axis\u001b[0m\u001b[0;34m}\u001b[0m\u001b[0;34m)\u001b[0m\u001b[0;34m\u001b[0m\u001b[0;34m\u001b[0m\u001b[0m\n\u001b[1;32m   3925\u001b[0m \u001b[0;34m\u001b[0m\u001b[0m\n",
            "\u001b[0;32m/usr/local/lib/python3.7/dist-packages/pandas/core/indexes/base.py\u001b[0m in \u001b[0;36mdrop\u001b[0;34m(self, labels, errors)\u001b[0m\n\u001b[1;32m   5285\u001b[0m         \u001b[0;32mif\u001b[0m \u001b[0mmask\u001b[0m\u001b[0;34m.\u001b[0m\u001b[0many\u001b[0m\u001b[0;34m(\u001b[0m\u001b[0;34m)\u001b[0m\u001b[0;34m:\u001b[0m\u001b[0;34m\u001b[0m\u001b[0;34m\u001b[0m\u001b[0m\n\u001b[1;32m   5286\u001b[0m             \u001b[0;32mif\u001b[0m \u001b[0merrors\u001b[0m \u001b[0;34m!=\u001b[0m \u001b[0;34m\"ignore\"\u001b[0m\u001b[0;34m:\u001b[0m\u001b[0;34m\u001b[0m\u001b[0;34m\u001b[0m\u001b[0m\n\u001b[0;32m-> 5287\u001b[0;31m                 \u001b[0;32mraise\u001b[0m \u001b[0mKeyError\u001b[0m\u001b[0;34m(\u001b[0m\u001b[0;34mf\"{labels[mask]} not found in axis\"\u001b[0m\u001b[0;34m)\u001b[0m\u001b[0;34m\u001b[0m\u001b[0;34m\u001b[0m\u001b[0m\n\u001b[0m\u001b[1;32m   5288\u001b[0m             \u001b[0mindexer\u001b[0m \u001b[0;34m=\u001b[0m \u001b[0mindexer\u001b[0m\u001b[0;34m[\u001b[0m\u001b[0;34m~\u001b[0m\u001b[0mmask\u001b[0m\u001b[0;34m]\u001b[0m\u001b[0;34m\u001b[0m\u001b[0;34m\u001b[0m\u001b[0m\n\u001b[1;32m   5289\u001b[0m         \u001b[0;32mreturn\u001b[0m \u001b[0mself\u001b[0m\u001b[0;34m.\u001b[0m\u001b[0mdelete\u001b[0m\u001b[0;34m(\u001b[0m\u001b[0mindexer\u001b[0m\u001b[0;34m)\u001b[0m\u001b[0;34m\u001b[0m\u001b[0;34m\u001b[0m\u001b[0m\n",
            "\u001b[0;31mKeyError\u001b[0m: \"['Valor Bruto' 'Valor Bruto M2'] not found in axis\""
          ]
        }
      ]
    },
    {
      "cell_type": "code",
      "metadata": {
        "colab": {
          "base_uri": "https://localhost:8080/"
        },
        "id": "yPDkm18T7lh2",
        "outputId": "8cc716f5-ef82-4c88-8b6a-b514a09c930d"
      },
      "source": [
        "dados.head(10)"
      ],
      "execution_count": null,
      "outputs": [
        {
          "output_type": "execute_result",
          "data": {
            "text/html": [
              "<div>\n",
              "<style scoped>\n",
              "    .dataframe tbody tr th:only-of-type {\n",
              "        vertical-align: middle;\n",
              "    }\n",
              "\n",
              "    .dataframe tbody tr th {\n",
              "        vertical-align: top;\n",
              "    }\n",
              "\n",
              "    .dataframe thead th {\n",
              "        text-align: right;\n",
              "    }\n",
              "</style>\n",
              "<table border=\"1\" class=\"dataframe\">\n",
              "  <thead>\n",
              "    <tr style=\"text-align: right;\">\n",
              "      <th></th>\n",
              "      <th>Tipo</th>\n",
              "      <th>Bairro</th>\n",
              "      <th>Quartos</th>\n",
              "      <th>Vagas</th>\n",
              "      <th>Suites</th>\n",
              "      <th>Area</th>\n",
              "      <th>Valor</th>\n",
              "      <th>Condominio</th>\n",
              "      <th>IPTU</th>\n",
              "      <th>Valor M2</th>\n",
              "      <th>Tipo Agregado</th>\n",
              "    </tr>\n",
              "  </thead>\n",
              "  <tbody>\n",
              "    <tr>\n",
              "      <th>0</th>\n",
              "      <td>Quitinete</td>\n",
              "      <td>Copacabana</td>\n",
              "      <td>1</td>\n",
              "      <td>0</td>\n",
              "      <td>0</td>\n",
              "      <td>40</td>\n",
              "      <td>1700.0</td>\n",
              "      <td>500.0</td>\n",
              "      <td>60.0</td>\n",
              "      <td>42.50</td>\n",
              "      <td>Apartamento</td>\n",
              "    </tr>\n",
              "    <tr>\n",
              "      <th>1</th>\n",
              "      <td>Casa</td>\n",
              "      <td>Jardim Botânico</td>\n",
              "      <td>2</td>\n",
              "      <td>0</td>\n",
              "      <td>1</td>\n",
              "      <td>100</td>\n",
              "      <td>7000.0</td>\n",
              "      <td>0.0</td>\n",
              "      <td>0.0</td>\n",
              "      <td>70.00</td>\n",
              "      <td>Casa</td>\n",
              "    </tr>\n",
              "    <tr>\n",
              "      <th>2</th>\n",
              "      <td>Conjunto Comercial/Sala</td>\n",
              "      <td>Barra da Tijuca</td>\n",
              "      <td>0</td>\n",
              "      <td>4</td>\n",
              "      <td>0</td>\n",
              "      <td>150</td>\n",
              "      <td>5200.0</td>\n",
              "      <td>4020.0</td>\n",
              "      <td>1111.0</td>\n",
              "      <td>34.67</td>\n",
              "      <td>Apartamento</td>\n",
              "    </tr>\n",
              "    <tr>\n",
              "      <th>3</th>\n",
              "      <td>Apartamento</td>\n",
              "      <td>Centro</td>\n",
              "      <td>1</td>\n",
              "      <td>0</td>\n",
              "      <td>0</td>\n",
              "      <td>15</td>\n",
              "      <td>800.0</td>\n",
              "      <td>390.0</td>\n",
              "      <td>20.0</td>\n",
              "      <td>53.33</td>\n",
              "      <td>Apartamento</td>\n",
              "    </tr>\n",
              "    <tr>\n",
              "      <th>4</th>\n",
              "      <td>Apartamento</td>\n",
              "      <td>Higienópolis</td>\n",
              "      <td>1</td>\n",
              "      <td>0</td>\n",
              "      <td>0</td>\n",
              "      <td>48</td>\n",
              "      <td>800.0</td>\n",
              "      <td>230.0</td>\n",
              "      <td>0.0</td>\n",
              "      <td>16.67</td>\n",
              "      <td>Apartamento</td>\n",
              "    </tr>\n",
              "    <tr>\n",
              "      <th>5</th>\n",
              "      <td>Apartamento</td>\n",
              "      <td>Vista Alegre</td>\n",
              "      <td>3</td>\n",
              "      <td>1</td>\n",
              "      <td>0</td>\n",
              "      <td>70</td>\n",
              "      <td>1200.0</td>\n",
              "      <td>0.0</td>\n",
              "      <td>0.0</td>\n",
              "      <td>17.14</td>\n",
              "      <td>Apartamento</td>\n",
              "    </tr>\n",
              "    <tr>\n",
              "      <th>6</th>\n",
              "      <td>Apartamento</td>\n",
              "      <td>Cachambi</td>\n",
              "      <td>2</td>\n",
              "      <td>0</td>\n",
              "      <td>0</td>\n",
              "      <td>50</td>\n",
              "      <td>1300.0</td>\n",
              "      <td>301.0</td>\n",
              "      <td>17.0</td>\n",
              "      <td>26.00</td>\n",
              "      <td>Apartamento</td>\n",
              "    </tr>\n",
              "    <tr>\n",
              "      <th>7</th>\n",
              "      <td>Casa de Condomínio</td>\n",
              "      <td>Barra da Tijuca</td>\n",
              "      <td>5</td>\n",
              "      <td>4</td>\n",
              "      <td>5</td>\n",
              "      <td>750</td>\n",
              "      <td>22000.0</td>\n",
              "      <td>0.0</td>\n",
              "      <td>0.0</td>\n",
              "      <td>29.33</td>\n",
              "      <td>Casa</td>\n",
              "    </tr>\n",
              "    <tr>\n",
              "      <th>8</th>\n",
              "      <td>Casa de Condomínio</td>\n",
              "      <td>Ramos</td>\n",
              "      <td>2</td>\n",
              "      <td>2</td>\n",
              "      <td>0</td>\n",
              "      <td>65</td>\n",
              "      <td>1000.0</td>\n",
              "      <td>0.0</td>\n",
              "      <td>0.0</td>\n",
              "      <td>15.38</td>\n",
              "      <td>Casa</td>\n",
              "    </tr>\n",
              "    <tr>\n",
              "      <th>9</th>\n",
              "      <td>Conjunto Comercial/Sala</td>\n",
              "      <td>Centro</td>\n",
              "      <td>0</td>\n",
              "      <td>3</td>\n",
              "      <td>0</td>\n",
              "      <td>695</td>\n",
              "      <td>35000.0</td>\n",
              "      <td>19193.0</td>\n",
              "      <td>3030.0</td>\n",
              "      <td>50.36</td>\n",
              "      <td>Apartamento</td>\n",
              "    </tr>\n",
              "  </tbody>\n",
              "</table>\n",
              "</div>"
            ],
            "text/plain": [
              "                      Tipo           Bairro  ...  Valor M2  Tipo Agregado\n",
              "0                Quitinete       Copacabana  ...     42.50    Apartamento\n",
              "1                     Casa  Jardim Botânico  ...     70.00           Casa\n",
              "2  Conjunto Comercial/Sala  Barra da Tijuca  ...     34.67    Apartamento\n",
              "3              Apartamento           Centro  ...     53.33    Apartamento\n",
              "4              Apartamento     Higienópolis  ...     16.67    Apartamento\n",
              "5              Apartamento     Vista Alegre  ...     17.14    Apartamento\n",
              "6              Apartamento         Cachambi  ...     26.00    Apartamento\n",
              "7       Casa de Condomínio  Barra da Tijuca  ...     29.33           Casa\n",
              "8       Casa de Condomínio            Ramos  ...     15.38           Casa\n",
              "9  Conjunto Comercial/Sala           Centro  ...     50.36    Apartamento\n",
              "\n",
              "[10 rows x 11 columns]"
            ]
          },
          "metadata": {},
          "execution_count": 152
        }
      ]
    },
    {
      "cell_type": "code",
      "metadata": {
        "id": "o7tTm_mI7sPG"
      },
      "source": [
        "dados.to_csv('Aluguel_residencial.csv', sep=';', index=False)"
      ],
      "execution_count": null,
      "outputs": []
    },
    {
      "cell_type": "code",
      "metadata": {
        "id": "QvD8ybFN75i8"
      },
      "source": [
        ""
      ],
      "execution_count": null,
      "outputs": []
    },
    {
      "cell_type": "markdown",
      "metadata": {
        "id": "LMw_PUke8gCV"
      },
      "source": [
        "#Criando agrupamentos\n",
        "relatorio 6"
      ]
    },
    {
      "cell_type": "code",
      "metadata": {
        "colab": {
          "base_uri": "https://localhost:8080/"
        },
        "id": "MU2CCs4d-ESV",
        "outputId": "04f84ec2-bcf6-4965-cb07-485b3355c3ae"
      },
      "source": [
        "dados = pd.read_csv('Aluguel_residencial.csv', sep=';', )\n",
        "dados.Bairro.unique()"
      ],
      "execution_count": null,
      "outputs": [
        {
          "output_type": "execute_result",
          "data": {
            "text/plain": [
              "array(['Copacabana', 'Jardim Botânico', 'Barra da Tijuca', 'Centro',\n",
              "       'Higienópolis', 'Vista Alegre', 'Cachambi', 'Ramos', 'Grajaú',\n",
              "       'Lins de Vasconcelos', 'Botafogo', 'Taquara',\n",
              "       'Freguesia (Jacarepaguá)', 'Tijuca', 'Olaria', 'Leblon',\n",
              "       'São Cristóvão', 'Ipanema', 'Campo Grande',\n",
              "       'Recreio dos Bandeirantes', 'Jardim Oceânico', 'Humaitá',\n",
              "       'Península', 'Méier', 'Vargem Pequena', 'Maracanã', 'Jacarepaguá',\n",
              "       'Vargem Grande', 'São Conrado', 'Maria da Graça', 'Vila Valqueire',\n",
              "       'Gávea', 'Cosme Velho', 'Bonsucesso', 'Todos os Santos',\n",
              "       'Laranjeiras', 'Itanhangá', 'Flamengo', 'Praça Seca', 'Piedade',\n",
              "       'Lagoa', 'Santo Cristo', 'Largo do Machado', 'Catete',\n",
              "       'Jardim Carioca', 'Benfica', 'Glória', 'Vila Isabel',\n",
              "       'Quintino Bocaiúva', 'São Francisco Xavier', 'Rocha Miranda',\n",
              "       'Engenho Novo', 'Engenho de Dentro', 'Cidade Nova', 'Pilares',\n",
              "       'Arpoador', 'Tomás Coelho', 'Água Santa', 'Ilha do Governador',\n",
              "       'Jardim Sulacap', 'Del Castilho', 'Oswaldo Cruz', 'Vila da Penha',\n",
              "       'Anil', 'Tanque', 'Vaz Lobo', 'Madureira', 'Pechincha', 'Leme',\n",
              "       'Irajá', 'Andaraí', 'Cordovil', 'Urca', 'Penha', 'Vigário Geral',\n",
              "       'Gardênia Azul', 'Santa Cruz', 'Rio Comprido', 'Santa Teresa',\n",
              "       'Inhaúma', 'Marechal Hermes', 'Pavuna', 'Curicica', 'Santíssimo',\n",
              "       'Moneró', 'Jardim Guanabara', 'Vila Militar', 'Camorim',\n",
              "       'Cascadura', 'Manguinhos', 'Praia da Bandeira', 'Saúde', 'Joá',\n",
              "       'Gamboa', 'Bangu', 'Colégio', 'Guadalupe', 'Realengo', 'Fátima',\n",
              "       'Inhoaíba', 'Rocha', 'Jabour', 'Parada de Lucas', 'Braz de Pina',\n",
              "       'Vila Kosmos', 'Vicente de Carvalho', 'Praça da Bandeira',\n",
              "       'Encantado', 'Campinho', 'Penha Circular',\n",
              "       'Ricardo de Albuquerque', 'Guaratiba', 'Lapa', 'Riachuelo',\n",
              "       'Portuguesa', 'Catumbi', 'Castelo', 'Parque Anchieta', 'Abolição',\n",
              "       'Caju', 'Alto da Boa Vista', 'Bento Ribeiro', 'Estácio',\n",
              "       'Jardim América', 'Paciência', 'Pedra de Guaratiba',\n",
              "       'Padre Miguel', 'Zumbi', 'Sampaio', 'Anchieta', 'Tauá', 'Icaraí',\n",
              "       'Cinelândia', 'Senador Vasconcelos', 'Barra de Guaratiba',\n",
              "       'Paquetá', 'Senador Camará', 'Turiaçu',\n",
              "       'Freguesia (Ilha do Governador)', 'Honório Gurgel', 'Cosmos',\n",
              "       'Pitangueiras', 'Vidigal', 'Usina', 'Cacuia', 'Ribeira', 'Jacaré',\n",
              "       'Cocotá', 'Engenho da Rainha', 'Cachamorra', 'Itaguaí',\n",
              "       'Cavalcanti', 'Cidade de Deus', 'Magalhães Bastos', 'Coelho Neto',\n",
              "       'Vasco da Gama', 'Bancários', 'Rio da Prata', 'Cidade Jardim',\n",
              "       'Parque Colúmbia', 'Grumari', 'Sepetiba'], dtype=object)"
            ]
          },
          "metadata": {},
          "execution_count": 162
        }
      ]
    },
    {
      "cell_type": "code",
      "metadata": {
        "colab": {
          "base_uri": "https://localhost:8080/"
        },
        "id": "ubi3k1U5BLh-",
        "outputId": "ef0185af-d4e1-44b0-9dc2-1b688228275d"
      },
      "source": [
        "dados\n"
      ],
      "execution_count": null,
      "outputs": [
        {
          "output_type": "execute_result",
          "data": {
            "text/html": [
              "<div>\n",
              "<style scoped>\n",
              "    .dataframe tbody tr th:only-of-type {\n",
              "        vertical-align: middle;\n",
              "    }\n",
              "\n",
              "    .dataframe tbody tr th {\n",
              "        vertical-align: top;\n",
              "    }\n",
              "\n",
              "    .dataframe thead th {\n",
              "        text-align: right;\n",
              "    }\n",
              "</style>\n",
              "<table border=\"1\" class=\"dataframe\">\n",
              "  <thead>\n",
              "    <tr style=\"text-align: right;\">\n",
              "      <th></th>\n",
              "      <th>Tipo</th>\n",
              "      <th>Bairro</th>\n",
              "      <th>Quartos</th>\n",
              "      <th>Vagas</th>\n",
              "      <th>Suites</th>\n",
              "      <th>Area</th>\n",
              "      <th>Valor</th>\n",
              "      <th>Condominio</th>\n",
              "      <th>IPTU</th>\n",
              "      <th>Valor M2</th>\n",
              "      <th>Tipo Agregado</th>\n",
              "    </tr>\n",
              "  </thead>\n",
              "  <tbody>\n",
              "    <tr>\n",
              "      <th>0</th>\n",
              "      <td>Quitinete</td>\n",
              "      <td>Copacabana</td>\n",
              "      <td>1</td>\n",
              "      <td>0</td>\n",
              "      <td>0</td>\n",
              "      <td>40</td>\n",
              "      <td>1700.0</td>\n",
              "      <td>500.0</td>\n",
              "      <td>60.0</td>\n",
              "      <td>42.50</td>\n",
              "      <td>Apartamento</td>\n",
              "    </tr>\n",
              "    <tr>\n",
              "      <th>1</th>\n",
              "      <td>Casa</td>\n",
              "      <td>Jardim Botânico</td>\n",
              "      <td>2</td>\n",
              "      <td>0</td>\n",
              "      <td>1</td>\n",
              "      <td>100</td>\n",
              "      <td>7000.0</td>\n",
              "      <td>0.0</td>\n",
              "      <td>0.0</td>\n",
              "      <td>70.00</td>\n",
              "      <td>Casa</td>\n",
              "    </tr>\n",
              "    <tr>\n",
              "      <th>2</th>\n",
              "      <td>Conjunto Comercial/Sala</td>\n",
              "      <td>Barra da Tijuca</td>\n",
              "      <td>0</td>\n",
              "      <td>4</td>\n",
              "      <td>0</td>\n",
              "      <td>150</td>\n",
              "      <td>5200.0</td>\n",
              "      <td>4020.0</td>\n",
              "      <td>1111.0</td>\n",
              "      <td>34.67</td>\n",
              "      <td>Apartamento</td>\n",
              "    </tr>\n",
              "    <tr>\n",
              "      <th>3</th>\n",
              "      <td>Apartamento</td>\n",
              "      <td>Centro</td>\n",
              "      <td>1</td>\n",
              "      <td>0</td>\n",
              "      <td>0</td>\n",
              "      <td>15</td>\n",
              "      <td>800.0</td>\n",
              "      <td>390.0</td>\n",
              "      <td>20.0</td>\n",
              "      <td>53.33</td>\n",
              "      <td>Apartamento</td>\n",
              "    </tr>\n",
              "    <tr>\n",
              "      <th>4</th>\n",
              "      <td>Apartamento</td>\n",
              "      <td>Higienópolis</td>\n",
              "      <td>1</td>\n",
              "      <td>0</td>\n",
              "      <td>0</td>\n",
              "      <td>48</td>\n",
              "      <td>800.0</td>\n",
              "      <td>230.0</td>\n",
              "      <td>0.0</td>\n",
              "      <td>16.67</td>\n",
              "      <td>Apartamento</td>\n",
              "    </tr>\n",
              "    <tr>\n",
              "      <th>...</th>\n",
              "      <td>...</td>\n",
              "      <td>...</td>\n",
              "      <td>...</td>\n",
              "      <td>...</td>\n",
              "      <td>...</td>\n",
              "      <td>...</td>\n",
              "      <td>...</td>\n",
              "      <td>...</td>\n",
              "      <td>...</td>\n",
              "      <td>...</td>\n",
              "      <td>...</td>\n",
              "    </tr>\n",
              "    <tr>\n",
              "      <th>32938</th>\n",
              "      <td>Quitinete</td>\n",
              "      <td>Centro</td>\n",
              "      <td>0</td>\n",
              "      <td>0</td>\n",
              "      <td>0</td>\n",
              "      <td>27</td>\n",
              "      <td>800.0</td>\n",
              "      <td>350.0</td>\n",
              "      <td>25.0</td>\n",
              "      <td>29.63</td>\n",
              "      <td>Apartamento</td>\n",
              "    </tr>\n",
              "    <tr>\n",
              "      <th>32939</th>\n",
              "      <td>Apartamento</td>\n",
              "      <td>Jacarepaguá</td>\n",
              "      <td>3</td>\n",
              "      <td>1</td>\n",
              "      <td>2</td>\n",
              "      <td>78</td>\n",
              "      <td>1800.0</td>\n",
              "      <td>800.0</td>\n",
              "      <td>40.0</td>\n",
              "      <td>23.08</td>\n",
              "      <td>Apartamento</td>\n",
              "    </tr>\n",
              "    <tr>\n",
              "      <th>32940</th>\n",
              "      <td>Apartamento</td>\n",
              "      <td>São Francisco Xavier</td>\n",
              "      <td>2</td>\n",
              "      <td>1</td>\n",
              "      <td>0</td>\n",
              "      <td>48</td>\n",
              "      <td>1400.0</td>\n",
              "      <td>509.0</td>\n",
              "      <td>37.0</td>\n",
              "      <td>29.17</td>\n",
              "      <td>Apartamento</td>\n",
              "    </tr>\n",
              "    <tr>\n",
              "      <th>32941</th>\n",
              "      <td>Apartamento</td>\n",
              "      <td>Leblon</td>\n",
              "      <td>2</td>\n",
              "      <td>0</td>\n",
              "      <td>0</td>\n",
              "      <td>70</td>\n",
              "      <td>3000.0</td>\n",
              "      <td>760.0</td>\n",
              "      <td>0.0</td>\n",
              "      <td>42.86</td>\n",
              "      <td>Apartamento</td>\n",
              "    </tr>\n",
              "    <tr>\n",
              "      <th>32942</th>\n",
              "      <td>Conjunto Comercial/Sala</td>\n",
              "      <td>Centro</td>\n",
              "      <td>0</td>\n",
              "      <td>0</td>\n",
              "      <td>0</td>\n",
              "      <td>250</td>\n",
              "      <td>6500.0</td>\n",
              "      <td>4206.0</td>\n",
              "      <td>1109.0</td>\n",
              "      <td>26.00</td>\n",
              "      <td>Apartamento</td>\n",
              "    </tr>\n",
              "  </tbody>\n",
              "</table>\n",
              "<p>32943 rows × 11 columns</p>\n",
              "</div>"
            ],
            "text/plain": [
              "                          Tipo                Bairro  ...  Valor M2  Tipo Agregado\n",
              "0                    Quitinete            Copacabana  ...     42.50    Apartamento\n",
              "1                         Casa       Jardim Botânico  ...     70.00           Casa\n",
              "2      Conjunto Comercial/Sala       Barra da Tijuca  ...     34.67    Apartamento\n",
              "3                  Apartamento                Centro  ...     53.33    Apartamento\n",
              "4                  Apartamento          Higienópolis  ...     16.67    Apartamento\n",
              "...                        ...                   ...  ...       ...            ...\n",
              "32938                Quitinete                Centro  ...     29.63    Apartamento\n",
              "32939              Apartamento           Jacarepaguá  ...     23.08    Apartamento\n",
              "32940              Apartamento  São Francisco Xavier  ...     29.17    Apartamento\n",
              "32941              Apartamento                Leblon  ...     42.86    Apartamento\n",
              "32942  Conjunto Comercial/Sala                Centro  ...     26.00    Apartamento\n",
              "\n",
              "[32943 rows x 11 columns]"
            ]
          },
          "metadata": {},
          "execution_count": 171
        }
      ]
    },
    {
      "cell_type": "code",
      "metadata": {
        "colab": {
          "base_uri": "https://localhost:8080/"
        },
        "id": "CvKv7yIZ_KG4",
        "outputId": "b81a4e04-1e82-410f-d70a-7c5c91c7db51"
      },
      "source": [
        "dados['Valor'].mean()"
      ],
      "execution_count": null,
      "outputs": [
        {
          "output_type": "execute_result",
          "data": {
            "text/plain": [
              "12952.659715265761"
            ]
          },
          "metadata": {},
          "execution_count": 158
        }
      ]
    },
    {
      "cell_type": "code",
      "metadata": {
        "id": "Yo9o8O2x_Sex"
      },
      "source": [
        "#média por bairros\n",
        "bairros = ['Copacabana', 'Jardim Botânico', 'Barra da Tijuca', 'Centro',\n",
        "       'Higienópolis', 'Vista Alegre', 'Cachambi', 'Ramos', 'Grajaú',\n",
        "       'Lins de Vasconcelos', 'Botafogo', 'Taquara',\n",
        "       'Freguesia (Jacarepaguá)', 'Tijuca', 'Olaria', 'Leblon',\n",
        "       'São Cristóvão', 'Ipanema', 'Campo Grande',\n",
        "       'Recreio dos Bandeirantes', 'Jardim Oceânico', 'Humaitá',\n",
        "       'Península', 'Méier', 'Vargem Pequena', 'Maracanã', 'Jacarepaguá',\n",
        "       'Vargem Grande', 'São Conrado', 'Maria da Graça', 'Vila Valqueire',\n",
        "       'Gávea', 'Cosme Velho', 'Bonsucesso', 'Todos os Santos',\n",
        "       'Laranjeiras', 'Itanhangá', 'Flamengo', 'Praça Seca', 'Piedade',\n",
        "       'Lagoa', 'Santo Cristo', 'Largo do Machado', 'Catete',\n",
        "       'Jardim Carioca', 'Benfica', 'Glória', 'Vila Isabel',\n",
        "       'Quintino Bocaiúva', 'São Francisco Xavier', 'Rocha Miranda',\n",
        "       'Engenho Novo', 'Engenho de Dentro', 'Cidade Nova', 'Pilares',\n",
        "       'Arpoador', 'Tomás Coelho', 'Água Santa', 'Ilha do Governador',\n",
        "       'Jardim Sulacap', 'Del Castilho', 'Oswaldo Cruz', 'Vila da Penha',\n",
        "       'Anil', 'Tanque', 'Vaz Lobo', 'Madureira', 'Pechincha', 'Leme',\n",
        "       'Irajá', 'Andaraí', 'Cordovil', 'Urca', 'Penha', 'Vigário Geral',\n",
        "       'Gardênia Azul', 'Santa Cruz', 'Rio Comprido', 'Santa Teresa',\n",
        "       'Inhaúma', 'Marechal Hermes', 'Pavuna', 'Curicica', 'Santíssimo',\n",
        "       'Moneró', 'Jardim Guanabara', 'Vila Militar', 'Camorim',\n",
        "       'Cascadura', 'Manguinhos', 'Praia da Bandeira', 'Saúde', 'Joá',\n",
        "       'Gamboa', 'Bangu', 'Colégio', 'Guadalupe', 'Realengo', 'Fátima',\n",
        "       'Inhoaíba', 'Rocha', 'Jabour', 'Parada de Lucas', 'Braz de Pina',\n",
        "       'Vila Kosmos', 'Vicente de Carvalho', 'Praça da Bandeira',\n",
        "       'Encantado', 'Campinho', 'Penha Circular',\n",
        "       'Ricardo de Albuquerque', 'Guaratiba', 'Lapa', 'Riachuelo',\n",
        "       'Portuguesa', 'Catumbi', 'Castelo', 'Parque Anchieta', 'Abolição',\n",
        "       'Caju', 'Alto da Boa Vista', 'Bento Ribeiro', 'Estácio',\n",
        "       'Jardim América', 'Paciência', 'Pedra de Guaratiba',\n",
        "       'Padre Miguel', 'Zumbi', 'Sampaio', 'Anchieta', 'Tauá', 'Icaraí',\n",
        "       'Cinelândia', 'Senador Vasconcelos', 'Barra de Guaratiba',\n",
        "       'Paquetá', 'Senador Camará', 'Turiaçu',\n",
        "       'Freguesia (Ilha do Governador)', 'Honório Gurgel', 'Cosmos',\n",
        "       'Pitangueiras', 'Vidigal', 'Usina', 'Cacuia', 'Ribeira', 'Jacaré',\n",
        "       'Cocotá', 'Engenho da Rainha', 'Cachamorra', 'Itaguaí',\n",
        "       'Cavalcanti', 'Cidade de Deus', 'Magalhães Bastos', 'Coelho Neto',\n",
        "       'Vasco da Gama', 'Bancários', 'Rio da Prata', 'Cidade Jardim',\n",
        "       'Parque Colúmbia', 'Grumari', 'Sepetiba']\n"
      ],
      "execution_count": null,
      "outputs": []
    },
    {
      "cell_type": "code",
      "metadata": {
        "id": "dNo-aLkmAEiK"
      },
      "source": [
        "selecao = dados['Bairro'].isin(bairros)\n",
        "dados = dados[selecao]"
      ],
      "execution_count": null,
      "outputs": []
    },
    {
      "cell_type": "code",
      "metadata": {
        "colab": {
          "base_uri": "https://localhost:8080/"
        },
        "id": "HQTZq4JoAWf3",
        "outputId": "ed4ae7fb-ce4c-4136-ce86-8baf4b9130ec"
      },
      "source": [
        "dados['Bairro'].drop_duplicates()"
      ],
      "execution_count": null,
      "outputs": [
        {
          "output_type": "execute_result",
          "data": {
            "text/plain": [
              "0             Copacabana\n",
              "1        Jardim Botânico\n",
              "2        Barra da Tijuca\n",
              "3                 Centro\n",
              "4           Higienópolis\n",
              "              ...       \n",
              "23130       Rio da Prata\n",
              "23314      Cidade Jardim\n",
              "25405    Parque Colúmbia\n",
              "26714            Grumari\n",
              "28325           Sepetiba\n",
              "Name: Bairro, Length: 162, dtype: object"
            ]
          },
          "metadata": {},
          "execution_count": 165
        }
      ]
    },
    {
      "cell_type": "code",
      "metadata": {
        "id": "ly5ZlvX3AeLC"
      },
      "source": [
        "grupo_bairro = dados.groupby('Bairro')"
      ],
      "execution_count": null,
      "outputs": []
    },
    {
      "cell_type": "code",
      "metadata": {
        "colab": {
          "base_uri": "https://localhost:8080/"
        },
        "id": "QhHwQILiAwrj",
        "outputId": "e6bef51b-3caf-49f9-8253-e6ed53869ac4"
      },
      "source": [
        "type(grupo_bairro)"
      ],
      "execution_count": null,
      "outputs": [
        {
          "output_type": "execute_result",
          "data": {
            "text/plain": [
              "pandas.core.groupby.generic.DataFrameGroupBy"
            ]
          },
          "metadata": {},
          "execution_count": 167
        }
      ]
    },
    {
      "cell_type": "code",
      "metadata": {
        "colab": {
          "base_uri": "https://localhost:8080/"
        },
        "id": "usRuCliTAyzG",
        "outputId": "260ca4f4-5dbe-4585-85e7-cf36022654dd"
      },
      "source": [
        "grupo_bairro.groups"
      ],
      "execution_count": null,
      "outputs": [
        {
          "output_type": "execute_result",
          "data": {
            "text/plain": [
              "{'Abolição': [2331, 4851, 10246, 10676, 11711, 14014, 14959, 15442, 19873, 20010, 21510, 22483, 23789, 24283, 25155, 25936, 27991, 28472, 28483, 30390, 30690, 32311], 'Alto da Boa Vista': [3309, 14178, 18333, 19097, 20125, 20436, 21997], 'Anchieta': [4597, 10486, 12597, 13572, 15372, 16378, 18962, 19199, 23349, 23411, 23684, 26980], 'Andaraí': [445, 576, 671, 767, 919, 1184, 1274, 1284, 1489, 1769, 2042, 2120, 2129, 2534, 2879, 3035, 3221, 4088, 4784, 4900, 5323, 5471, 5728, 5900, 6470, 6982, 7272, 7442, 7453, 7551, 7570, 8507, 8839, 9213, 9596, 9920, 10052, 10620, 11008, 11379, 11782, 12092, 12094, 12357, 12903, 14009, 14152, 14211, 14291, 14802, 15121, 15393, 15611, 15643, 16022, 16539, 16651, 16659, 16863, 17540, 18004, 18709, 19389, 20131, 20344, 20349, 20909, 21074, 21119, 21130, 21546, 22105, 22112, 22218, 22410, 23271, 24074, 24215, 24307, 24960, 24966, 25097, 25176, 26511, 26900, 26946, 27145, 27473, 27603, 27929, 28408, 28590, 28635, 28813, 29729, 29847, 29871, 30380, 30563, 30995, ...], 'Anil': [360, 854, 908, 1181, 1823, 2447, 2502, 2680, 2903, 2928, 3204, 3579, 3933, 4027, 5482, 5630, 5905, 6371, 6683, 7091, 7268, 7300, 8065, 8180, 8691, 9430, 9463, 9738, 9787, 9975, 10158, 10244, 10555, 10636, 10776, 10802, 10824, 11411, 11551, 12409, 12478, 13287, 13439, 14466, 14676, 15122, 15474, 15707, 16097, 16186, 18193, 18204, 18797, 18992, 19358, 20041, 20362, 20368, 20397, 21314, 21789, 22011, 22535, 23464, 25069, 25191, 25271, 25342, 25632, 26101, 26530, 26966, 27505, 27568, 27766, 28049, 28066, 28580, 29432, 29568, 29696, 29783, 29879, 31090, 31943, 32068, 32118, 32463, 32711, 32788, 32880], 'Arpoador': [287, 4223, 4595, 4855, 5118, 6914, 8189, 14516, 16899, 21041, 21397, 22434, 25007, 27988, 28286, 28301], 'Bancários': [21024, 22379, 24058, 30797], 'Bangu': [948, 1921, 2533, 2560, 3211, 5911, 5980, 6073, 6262, 7339, 7958, 9830, 10806, 11309, 13158, 15964, 16030, 16053, 16172, 16415, 17053, 17387, 17539, 18066, 18472, 20495, 20857, 21165, 21952, 22117, 24127, 24252, 24279, 25138, 26107, 26935, 27096, 27559, 28582, 30943, 31236, 31377, 31714, 32909], 'Barra da Tijuca': [2, 7, 20, 22, 30, 35, 41, 44, 49, 59, 60, 77, 80, 88, 89, 92, 96, 102, 103, 110, 111, 114, 133, 145, 154, 155, 156, 157, 158, 162, 164, 167, 171, 175, 178, 191, 193, 196, 198, 202, 224, 227, 229, 246, 247, 250, 254, 259, 260, 273, 276, 280, 305, 314, 324, 329, 331, 339, 346, 347, 353, 357, 363, 367, 373, 386, 389, 398, 400, 407, 415, 418, 433, 439, 440, 441, 443, 451, 454, 455, 464, 469, 470, 492, 498, 504, 508, 511, 512, 521, 529, 543, 545, 553, 557, 565, 572, 580, 582, 583, ...], 'Barra de Guaratiba': [5391, 5631, 15386, 29490, 30936, 31547], 'Benfica': [141, 1185, 1930, 3993, 4881, 5777, 5986, 6958, 8793, 9635, 10889, 11394, 14048, 14124, 16287, 17161, 17217, 19534, 21147, 22207, 23093, 24464, 26685, 27676, 29048, 30075, 32429], 'Bento Ribeiro': [3391, 4499, 4546, 7918, 9243, 11425, 15042, 15504, 16661, 19907, 20463, 20709, 20898, 21498, 22088, 22840, 23090, 23886, 23945, 26067, 27870, 28584, 28793, 30470, 31597, 32291, 32666, 32894], 'Bonsucesso': [95, 119, 325, 399, 556, 963, 1074, 1376, 1396, 1733, 1910, 1913, 1996, 2047, 2109, 2196, 2276, 2671, 3018, 3093, 3096, 3112, 3116, 3178, 3343, 3465, 3783, 3813, 3828, 3891, 3967, 4063, 4079, 4221, 4582, 4659, 4922, 4952, 4993, 5061, 5264, 5488, 5494, 6057, 6333, 6475, 6514, 6543, 6653, 7101, 7161, 7518, 7850, 7862, 7982, 7983, 8214, 8355, 8647, 8932, 9807, 9955, 10354, 10549, 10695, 10838, 10920, 10981, 11018, 11130, 11164, 11337, 11630, 11834, 11857, 12162, 12222, 12229, 12252, 12545, 12586, 12703, 12860, 13117, 13129, 13159, 13688, 13988, 14104, 14298, 14421, 14494, 14673, 14908, 15060, 15133, 15277, 15290, 15868, 16354, ...], 'Botafogo': [16, 17, 32, 66, 82, 115, 123, 124, 163, 181, 190, 200, 203, 237, 292, 296, 333, 359, 375, 423, 457, 468, 489, 506, 544, 547, 621, 622, 651, 669, 739, 743, 780, 784, 810, 848, 883, 894, 909, 947, 978, 1034, 1082, 1100, 1137, 1147, 1158, 1174, 1191, 1238, 1246, 1265, 1291, 1373, 1380, 1388, 1393, 1402, 1491, 1502, 1507, 1555, 1602, 1620, 1642, 1652, 1667, 1688, 1720, 1748, 1785, 1789, 1790, 1817, 1860, 1905, 1912, 1925, 1938, 1962, 2006, 2035, 2062, 2070, 2093, 2118, 2127, 2153, 2191, 2253, 2282, 2296, 2373, 2394, 2442, 2449, 2470, 2487, 2515, 2541, ...], 'Braz de Pina': [1307, 6142, 6185, 6556, 6977, 7738, 9186, 10471, 10520, 10709, 11128, 11342, 13913, 14154, 18350, 18636, 19373, 19747, 21472, 22889, 23787, 24035, 26734, 27629, 28451, 29632, 29716, 31577], 'Cachambi': [6, 76, 368, 376, 782, 942, 2078, 2530, 2556, 2801, 2924, 3147, 3274, 3874, 3997, 4081, 4411, 4574, 4587, 4646, 4695, 5390, 5560, 5754, 6236, 6382, 6428, 6441, 6723, 6797, 7072, 7076, 7932, 8082, 8091, 8109, 8130, 8365, 8473, 8549, 8601, 8807, 8830, 9008, 9099, 9208, 9220, 9240, 9498, 9501, 9606, 9812, 9821, 9978, 10160, 10410, 10501, 10528, 11236, 11403, 11427, 11619, 11698, 11861, 12123, 12283, 12330, 12360, 12548, 12584, 13142, 13279, 13600, 13608, 13665, 13911, 13915, 14070, 14434, 14588, 14596, 14753, 15007, 15508, 15520, 15642, 15754, 16423, 16471, 16854, 16877, 17275, 17293, 17434, 17474, 17475, 17488, 17871, 17996, 18322, ...], 'Cachamorra': [14261], 'Cacuia': [10669, 11043, 11668, 19963, 22510, 27490, 28211, 28471, 31834], 'Caju': [2621, 3004, 3365, 3415, 3536, 4459, 6208, 7103, 8469, 12148, 13784, 15259, 15783, 18720, 19745, 21366, 21767, 24166, 26311, 27028, 27955, 29092, 32458], 'Camorim': [814, 938, 1012, 1517, 1692, 1700, 1997, 2869, 2940, 2941, 3154, 3272, 4682, 6354, 6403, 8412, 8900, 9095, 9633, 10075, 10215, 11250, 12445, 13440, 14553, 15118, 15165, 15800, 17591, 17697, 18774, 19309, 19541, 19680, 20354, 20456, 20877, 20881, 22465, 22490, 22813, 23368, 24516, 25020, 26269, 26632, 26646, 26857, 27045, 27367, 27744, 27925, 28737, 29093, 29217, 29960, 30103, 30607, 31550, 31601], 'Campinho': [1657, 2715, 10045, 10656, 11368, 11492, 13136, 14344, 19960, 20133, 20422, 21923, 22037, 27470, 30857, 32200, 32908], 'Campo Grande': [29, 31, 149, 204, 266, 304, 349, 352, 377, 401, 426, 487, 570, 612, 613, 715, 733, 740, 755, 791, 797, 807, 824, 837, 928, 1002, 1023, 1091, 1092, 1169, 1186, 1244, 1363, 1410, 1478, 1500, 1514, 1551, 1586, 1640, 1658, 1699, 1717, 1793, 1837, 1844, 1859, 1900, 1923, 1933, 1940, 1987, 2084, 2116, 2217, 2283, 2359, 2389, 2408, 2500, 2570, 2572, 2580, 2639, 2644, 2754, 2755, 2833, 2848, 2870, 2917, 2977, 2985, 3043, 3049, 3079, 3090, 3104, 3215, 3301, 3374, 3445, 3487, 3567, 3591, 3597, 3645, 3724, 3948, 3996, 4029, 4067, 4160, 4196, 4210, 4214, 4248, 4362, 4393, 4413, ...], 'Cascadura': [827, 1315, 2437, 2552, 2893, 5499, 6805, 8933, 9669, 10180, 11135, 13068, 13878, 14190, 14269, 15637, 16085, 16521, 17264, 17953, 18037, 18263, 18385, 18644, 19329, 22579, 23548, 24250, 24259, 24319, 24624, 25300, 25827, 26613, 26792, 27855, 29344, 29639, 29644, 30307, 30373, 30641, 32792, 32835], 'Castelo': [2069, 2555, 3881, 5058, 9797, 10996, 17435, 17727, 18798, 22961, 24118], 'Catete': [134, 139, 182, 288, 450, 496, 515, 1031, 1731, 2015, 2095, 2544, 2691, 2694, 2738, 2868, 3030, 3198, 3202, 3443, 3612, 3646, 4469, 4471, 4550, 4611, 4936, 5381, 5627, 5681, 5758, 5836, 6010, 6319, 6455, 6460, 6557, 6609, 6736, 7269, 7345, 8168, 8370, 8401, 8617, 8624, 8654, 8769, 8773, 8797, 8855, 9054, 9132, 9272, 9475, 9623, 10047, 10159, 10583, 10684, 10766, 10769, 10810, 10837, 10848, 10993, 11284, 11345, 11442, 11483, 11499, 11505, 11514, 12052, 12363, 12908, 13225, 13420, 13565, 13663, 13864, 14143, 14202, 14235, 14391, 14566, 14573, 14602, 14977, 15006, 15171, 15199, 15434, 15490, 15591, 15601, 15644, 15775, 16072, 16502, ...], 'Catumbi': [2001, 4802, 5889, 6891, 12843, 13408, 25222, 25904, 31750], 'Cavalcanti': [16966, 21250, 23126, 27510], 'Centro': [3, 9, 10, 38, 45, 46, 52, 54, 72, 85, 86, 93, 99, 104, 107, 126, 127, 135, 143, 160, 173, 177, 185, 219, 238, 239, 240, 241, 251, 269, 277, 283, 285, 306, 318, 327, 332, 336, 337, 355, 372, 378, 379, 381, 392, 393, 403, 416, 436, 444, 453, 456, 461, 471, 477, 479, 499, 532, 561, 566, 578, 637, 656, 658, 682, 689, 692, 705, 711, 748, 751, 770, 789, 792, 802, 823, 851, 852, 858, 872, 878, 879, 902, 910, 921, 923, 929, 946, 949, 969, 971, 973, 975, 985, 989, 992, 994, 996, 1005, 1011, ...], 'Cidade Jardim': [23314], 'Cidade Nova': [257, 281, 1162, 3373, 3418, 3606, 3955, 4151, 4816, 5593, 6162, 6272, 6771, 6867, 7201, 7512, 7788, 9204, 9554, 9661, 10657, 10954, 12050, 12481, 13934, 16385, 16852, 17502, 17616, 17903, 18061, 18293, 18716, 18954, 19830, 21560, 22021, 22478, 22742, 24395, 24996, 25860, 26226, 26227, 27190, 27715, 28414, 28872, 29128, 30155, 30964, 32571], 'Cidade de Deus': [17503], 'Cinelândia': [5067, 7889, 8060, 9811, 10925, 13463, 16907, 18246, 22059, 25727, 27415, 29206, 30776], 'Cocotá': [13721, 19151, 25428, 28145, 31288], 'Coelho Neto': [19685, 24850], 'Colégio': [955, 2382, 4330, 4386, 6281, 7613, 9371, 23119, 28028], 'Copacabana': [0, 13, 14, 15, 33, 34, 39, 43, 58, 122, 131, 151, 161, 188, 195, 208, 209, 212, 214, 218, 225, 242, 249, 261, 272, 284, 289, 302, 328, 370, 397, 417, 420, 425, 437, 438, 452, 463, 478, 483, 485, 495, 500, 524, 540, 552, 562, 563, 581, 595, 607, 635, 636, 643, 649, 652, 678, 681, 691, 723, 724, 725, 726, 741, 752, 790, 793, 798, 822, 836, 856, 857, 865, 874, 881, 884, 912, 916, 918, 924, 951, 953, 980, 999, 1007, 1008, 1013, 1024, 1037, 1040, 1046, 1056, 1073, 1099, 1109, 1114, 1157, 1166, 1202, 1217, ...], 'Cordovil': [493, 2506, 3438, 7223, 9861, 11501, 11879, 15902, 20046, 21500, 22618, 23970, 24260, 26304, 27417, 28529, 30200], 'Cosme Velho': [94, 1575, 2341, 2400, 2404, 4121, 6365, 6422, 7104, 8329, 10125, 11469, 12198, 14340, 14841, 15000, 16712, 16755, 16811, 19438, 22133, 22691, 22746, 22748, 23546, 24446, 25203, 26031, 26203, 27040, 27203, 27425, 29495, 32063], 'Cosmos': [9573, 12878, 15440, 20795, 22598, 23543, 23996, 24730, 25144, 25433, 25661, 26512, 26879, 31222, 32159, 32170], 'Curicica': [641, 835, 930, 1124, 1583, 1753, 1795, 2141, 2241, 2462, 2545, 2746, 2933, 3105, 3128, 3172, 3184, 3312, 3381, 3383, 3914, 4040, 4836, 4854, 5099, 5503, 5749, 5913, 6071, 6283, 7253, 7471, 7855, 7923, 8411, 8699, 9649, 9942, 10025, 10234, 10627, 11106, 11481, 11485, 11736, 11811, 11950, 12323, 12342, 12629, 12741, 13307, 13802, 14128, 14201, 14958, 15230, 15425, 15535, 15700, 16128, 16431, 16618, 16690, 17029, 17101, 17198, 17505, 17580, 17581, 17873, 18086, 18187, 18398, 18763, 18966, 19029, 19091, 19221, 19235, 19294, 19653, 19719, 19721, 19722, 19850, 20057, 20476, 20511, 20710, 20897, 21206, 21464, 21669, 21802, 22018, 22473, 22479, 22496, 22806, ...], 'Del Castilho': [313, 382, 648, 864, 1249, 1300, 2049, 2743, 2942, 3607, 3871, 3987, 4080, 4195, 4344, 4375, 4454, 4794, 5212, 5244, 5305, 5394, 5451, 5702, 5817, 5950, 5951, 6190, 6230, 7035, 7124, 8118, 8250, 8363, 8379, 9625, 9694, 9701, 9874, 10416, 10557, 10664, 10734, 10779, 11272, 11274, 11399, 11454, 12058, 12449, 12613, 12988, 13237, 13406, 13590, 13713, 13986, 15240, 15536, 15993, 16674, 16817, 16870, 17046, 17251, 17501, 17546, 17564, 17634, 17743, 17983, 18245, 19978, 20143, 20236, 21064, 21694, 21797, 22022, 22152, 23450, 23747, 23804, 24015, 24257, 25751, 25881, 25898, 26880, 26904, 28085, 28842, 28962, 28986, 29131, 29205, 29542, 29635, 30370, 30389, ...], 'Encantado': [1615, 3014, 3681, 4474, 9610, 11563, 12386, 13636, 15583, 20069, 23204, 24761, 25930, 26142, 26942, 27516, 29194, 32226, 32757], 'Engenho Novo': [197, 344, 354, 432, 813, 1341, 1524, 1967, 1973, 2130, 2173, 2237, 2880, 2979, 4093, 4170, 4218, 4275, 4288, 4476, 5137, 5841, 6156, 6384, 6800, 7452, 7863, 7992, 8014, 8112, 9129, 9699, 9850, 10037, 10082, 10318, 11277, 11479, 11494, 11575, 11744, 12089, 12211, 12406, 12485, 12886, 13031, 13054, 13118, 13593, 13771, 14043, 14131, 14488, 14695, 14741, 14826, 15016, 15150, 15237, 15709, 15809, 15822, 15872, 16258, 17659, 17902, 18007, 18013, 18126, 18391, 18404, 18749, 18923, 19102, 19771, 20048, 20194, 20328, 20394, 20803, 21144, 21170, 21703, 22005, 22016, 22468, 22878, 23364, 23402, 23539, 24873, 24926, 25049, 25214, 25656, 26022, 26465, 26562, 26664, ...], 'Engenho da Rainha': [14155, 15253, 15776, 22168, 23263, 24985, 27320], 'Engenho de Dentro': [207, 525, 1129, 1704, 1902, 2309, 3069, 3106, 3316, 3349, 3736, 3875, 4264, 4358, 4502, 4531, 4551, 4798, 4810, 5827, 6040, 6279, 6302, 6569, 6617, 7022, 7247, 7583, 7925, 8440, 8561, 9092, 9123, 9337, 9858, 12269, 12424, 12532, 13098, 13751, 13954, 14288, 14686, 15450, 15909, 15921, 17079, 17286, 17617, 18108, 18610, 19240, 19660, 19782, 21474, 21790, 22136, 23465, 23793, 24060, 24372, 24759, 25125, 25140, 25241, 25409, 25443, 25531, 25581, 25586, 26409, 26753, 27427, 27477, 28176, 28482, 28487, 28568, 28785, 29269, 29598, 29876, 29967, 30726, 30736, 30945, 31028, 31215, 31226, 31765, 31987, 32003, 32112], 'Estácio': [3420, 3515, 4287, 5329, 7070, 7226, 7681, 7796, 8111, 8196, 8826, 10739, 11477, 12437, 14799, 15056, 20301, 21527, 21626, 23013, 23031, 23777, 24194, 24488, 26198, 26876, 27575, 28291, 30499, 31953], 'Flamengo': [109, 205, 320, 321, 430, 486, 523, 536, 542, 546, 558, 587, 628, 640, 659, 708, 753, 809, 870, 932, 1014, 1045, 1095, 1146, 1198, 1285, 1327, 1335, 1351, 1399, 1415, 1451, 1557, 1628, 1650, 1668, 1685, 1752, 1796, 1835, 1845, 2030, 2087, 2091, 2267, 2277, 2292, 2308, 2322, 2334, 2377, 2406, 2409, 2527, 2549, 2611, 2637, 2640, 2757, 2777, 2822, 2915, 2963, 3019, 3028, 3065, 3280, 3342, 3355, 3410, 3422, 3481, 3507, 3527, 3548, 3571, 3599, 3651, 3701, 3822, 3825, 3839, 3845, 3889, 3937, 3983, 3985, 4009, 4117, 4126, 4132, 4219, 4228, 4360, 4372, 4392, 4453, 4479, 4503, 4533, ...], 'Freguesia (Ilha do Governador)': [7482, 11574, 18905, 26277, 27208, 27653], 'Freguesia (Jacarepaguá)': [19, 84, 118, 144, 153, 168, 186, 201, 230, 244, 279, 300, 326, 412, 460, 462, 509, 522, 538, 554, 559, 575, 592, 674, 713, 730, 795, 853, 911, 1029, 1039, 1055, 1171, 1176, 1226, 1293, 1325, 1391, 1453, 1632, 1638, 1807, 1935, 2019, 2026, 2172, 2258, 2294, 2301, 2356, 2548, 2590, 2617, 2641, 2652, 2670, 2675, 2742, 2765, 2844, 2888, 2912, 2926, 3099, 3100, 3101, 3141, 3170, 3271, 3325, 3366, 3407, 3414, 3421, 3467, 3488, 3518, 3525, 3569, 3766, 3779, 3833, 3866, 3884, 3886, 3957, 3991, 4041, 4119, 4124, 4154, 4200, 4306, 4414, 4427, 4481, 4518, 4536, 4586, 4613, ...], 'Fátima': [1131, 6568, 9260, 23664, 29209, 30089], 'Gamboa': [931, 2372, 2850, 4181, 5344, 5358, 6976, 12579, 13090, 13416, 14854, 17331, 19953, 20190, 21456, 24990, 27995, 28262, 29130, 29462, 29680, 29839, 31071, 32029], 'Gardênia Azul': [535, 1528, 4155, 5086, 7729, 9144, 10299, 12587, 13710, 14618, 16777, 17147, 17383, 17529, 17750, 19532, 19768, 27001, 27752, 30126, 31760, 31896, 32164], 'Glória': [142, 286, 520, 606, 811, 1028, 1239, 1441, 1501, 1746, 1977, 2521, 2751, 2756, 2827, 3031, 3157, 3181, 3251, 3396, 3522, 3610, 3636, 3838, 3865, 4051, 4174, 4600, 5157, 5231, 5656, 5709, 5737, 6261, 6346, 6666, 6932, 8064, 8070, 8171, 8186, 8350, 8723, 8817, 8821, 8842, 8890, 9089, 9142, 9233, 9465, 10409, 10822, 10829, 10876, 10891, 11426, 11495, 11600, 11653, 11697, 11706, 12107, 12191, 12309, 12794, 12838, 12854, 13628, 13673, 13692, 13759, 14149, 14305, 14427, 14952, 15196, 15321, 15327, 15581, 15598, 15844, 15969, 16294, 16407, 16541, 16961, 17006, 17093, 17109, 17295, 17400, 17407, 17934, 18748, 18845, 19061, 19190, 19574, 19757, ...], 'Grajaú': [11, 356, 481, 611, 615, 699, 846, 859, 1456, 1990, 2182, 2348, 2432, 2971, 3078, 3806, 3885, 4185, 4197, 4263, 4351, 4588, 5195, 5336, 5694, 6124, 6438, 6959, 7026, 7114, 7422, 7774, 7793, 8085, 8125, 8148, 8157, 8479, 8498, 9273, 10228, 10672, 11220, 11607, 11998, 12130, 12166, 12321, 12852, 12913, 13080, 13087, 13766, 13803, 13814, 13942, 14068, 14877, 15412, 15599, 15624, 15812, 16073, 16084, 16162, 16834, 17119, 17164, 17200, 17201, 17219, 17705, 17831, 17999, 18375, 18379, 18393, 18417, 18706, 18910, 19026, 19062, 19079, 19087, 19120, 19165, 19482, 19550, 20768, 20993, 21208, 21254, 21607, 21728, 21768, 21985, 22120, 22181, 22320, 22526, ...], 'Grumari': [26714], 'Guadalupe': [1006, 1439, 2840, 2972, 3657, 4841, 5337, 5461, 6753, 7680, 8212, 10493, 11178, 11184, 11419, 12911, 14238, 14349, 14425, 15055, 15285, 15747, 16844, 18600, 21862, 23656, 26566, 27400, 27773, 27902, 29846, 31141, 31450, 32626], 'Guaratiba': [1843, 1965, 2156, 4419, 5981, 6668, 6740, 6802, 7756, 8607, 9034, 9357, 9603, 10116, 11737, 11767, 11997, 12018, 12450, 12625, 13444, 15485, 15708, 15922, 16452, 16642, 17377, 17610, 17658, 18337, 18591, 18959, 20959, 23236, 24244, 24443, 24481, 25869, 25885, 26222, 27164, 27396, 31346, 31358], 'Gávea': [91, 159, 315, 334, 362, 448, 683, 774, 800, 1287, 1634, 1702, 1713, 1922, 1941, 1961, 1985, 2071, 2142, 2416, 2438, 2444, 2776, 3082, 3134, 3153, 3176, 3182, 3360, 3502, 3658, 3767, 3975, 3978, 4024, 4045, 4356, 4500, 4524, 4674, 4866, 4912, 4991, 5156, 5267, 5269, 5675, 5884, 6055, 6176, 6350, 6537, 6633, 6714, 6730, 6883, 7030, 7061, 7150, 7320, 7542, 7557, 7626, 7830, 7867, 8265, 8291, 8422, 8467, 8851, 8937, 9079, 9110, 9324, 9331, 9363, 9502, 9567, 9609, 9748, 9767, 10179, 10199, 10385, 10483, 10768, 11215, 11615, 11893, 12003, 12008, 12347, 12391, 12421, 13178, 13269, 13322, 13323, 13374, 13427, ...], 'Higienópolis': [4, 1135, 1444, 3164, 3282, 5116, 5995, 6656, 10815, 12163, 13000, 13127, 13801, 14943, 15927, 17113, 17320, 19832, 20059, 21506, 22768, 22969, 25614, 25697, 27299, 27903, 27973, 29040, 29255, 29372, 29441, 31679], 'Honório Gurgel': [9252, 9355, 11306, 13820, 14492, 19509, 20302, 24681, 28316, 28383, 32207], 'Humaitá': [50, 108, 309, 335, 402, 435, 564, 639, 829, 1252, 1254, 1395, 1435, 1929, 2041, 2080, 2338, 2540, 2574, 2693, 2829, 2943, 3189, 3290, 3390, 3450, 3984, 4610, 4647, 4731, 4821, 5111, 5577, 5626, 5726, 5946, 6056, 6386, 6494, 6660, 6679, 6871, 7241, 7350, 7431, 7578, 7698, 7840, 8068, 8241, 8484, 8895, 9266, 9288, 9630, 9750, 10975, 11028, 11079, 11270, 11661, 11832, 12068, 12140, 12196, 12352, 12488, 12494, 12811, 12821, 12939, 13262, 13308, 13313, 13349, 13664, 13843, 13953, 14136, 14222, 14423, 14468, 14511, 15086, 15390, 15406, 15540, 15728, 15789, 16068, 16134, 16324, 16840, 16964, 17203, 17255, 17394, 18072, 18392, 18461, ...], 'Icaraí': [4795, 5518, 7637, 13232, 15058, 16580, 20365, 21593, 24896, 28913, 31682, 32195], 'Ilha do Governador': [307, 2589, 4823, 6036, 7278, 7746, 8185, 8970, 9581, 10751, 10787, 11293, 13929, 15107, 16571, 16654, 19002, 19469, 20142, 20375, 20623, 21635, 22208, 22297, 22921, 24165, 26584, 26848, 27402, 27701, 28087, 31335, 31940, 32239, 32633], 'Inhaúma': [604, 2298, 2948, 4535, 5182, 5200, 6963, 7857, 13361, 13760, 17386, 18423, 19548, 23040, 25676, 28300, 29698, 30172], 'Inhoaíba': [1143, 8200, 11644, 14480, 21734, 24435, 24724, 28042, 32286], 'Ipanema': [27, 55, 56, 63, 71, 73, 101, 120, 132, 169, 183, 194, 211, 234, 265, 267, 316, 319, 341, 361, 365, 408, 429, 480, 494, 507, 514, 517, 560, 569, 579, 586, 593, 599, 608, 661, 709, 716, 728, 768, 779, 799, 842, 845, 860, 863, 866, 868, 888, 890, 922, 937, 941, 976, 977, 993, 1009, 1016, 1030, 1041, 1057, 1066, 1070, 1080, 1087, 1093, 1098, 1101, 1105, 1125, 1126, 1133, 1138, 1168, 1172, 1193, 1208, 1211, 1219, 1222, 1223, 1230, 1250, 1289, 1290, 1312, 1329, 1346, 1350, 1357, 1360, 1387, 1392, 1401, 1407, 1429, 1431, 1455, 1458, 1475, ...], 'Irajá': [442, 961, 1270, 1791, 1887, 2284, 2864, 3205, 3273, 3358, 3364, 3492, 3546, 4069, 4589, 5504, 5674, 6624, 6712, 6746, 7406, 7617, 8581, 9253, 9652, 10144, 10229, 10323, 10448, 10506, 10764, 10841, 10967, 11696, 11845, 11937, 12051, 12635, 13523, 13799, 14141, 14470, 14584, 14845, 14933, 15067, 15518, 16360, 16369, 16732, 17225, 17603, 17693, 18095, 18183, 19175, 19526, 19538, 19759, 19846, 19889, 19933, 20122, 20241, 20816, 21062, 21421, 21547, 21883, 22072, 22240, 22443, 22493, 22978, 23143, 23796, 24061, 24634, 24981, 25239, 26105, 26398, 26873, 27081, 27394, 27479, 27628, 28040, 28054, 28454, 28696, 28888, 28907, 29991, 30006, 30324, 31757, 31877, 32172, 32390, ...], 'Itaguaí': [14417], 'Itanhangá': [105, 702, 710, 871, 1852, 1963, 3063, 3570, 3731, 3924, 3935, 4307, 4735, 4954, 5304, 5898, 5918, 6089, 6619, 6681, 7273, 7533, 8460, 9103, 9115, 9517, 10570, 10978, 11392, 11497, 11559, 11932, 12874, 13247, 13819, 13870, 14611, 14921, 15063, 16692, 16727, 16781, 17282, 17790, 18829, 18942, 20189, 20679, 21089, 21263, 21419, 21899, 22362, 22982, 23125, 23134, 23393, 23773, 24029, 24261, 25316, 25572, 26266, 26687, 27438, 29033, 29270, 29715, 30721, 31242, 31715, 32084, 32373, 32760, 32770], 'Jabour': [1231, 3190, 8018, 19290], 'Jacarepaguá': [70, 100, 294, 434, 503, 541, 551, 605, 744, 747, 758, 777, 778, 830, 1027, 1067, 1112, 1121, 1221, 1561, 1725, 1794, 1811, 1834, 1857, 2211, 2240, 2272, 2353, 2421, 2465, 2597, 2706, 2890, 2998, 3244, 3335, 3362, 3416, 3504, 3706, 3788, 3837, 3868, 3903, 3981, 3990, 4076, 4269, 4304, 4371, 4373, 4379, 4573, 4970, 5054, 5132, 5149, 5191, 5268, 5291, 5427, 5462, 5566, 5586, 5663, 5668, 5673, 5727, 5782, 5819, 5904, 5945, 6024, 6031, 6146, 6163, 6216, 6268, 6300, 6369, 6429, 6510, 6522, 6572, 6622, 6810, 6975, 7071, 7160, 7313, 7413, 7590, 7591, 7765, 7773, 7791, 7970, 8036, 8057, ...], 'Jacaré': [13519, 14275, 22818, 23186, 32176, 32217], 'Jardim América': [3429, 3433, 4458, 5692, 8583, 9743, 17285, 18316, 19446, 19483, 20999, 24918, 26130, 27174, 27214, 28740, 32618], 'Jardim Botânico': [1, 53, 75, 78, 467, 488, 528, 662, 663, 732, 736, 828, 850, 968, 1020, 1215, 1406, 1473, 1759, 1800, 2020, 2056, 2230, 2687, 2837, 2855, 3091, 3107, 3166, 3196, 3262, 3388, 3653, 3762, 3810, 3815, 3922, 4100, 4129, 4159, 4172, 4230, 4237, 4293, 4298, 4897, 5144, 5299, 5310, 5319, 5476, 5555, 5723, 5765, 5792, 6082, 6205, 6234, 6239, 6320, 6486, 6836, 6877, 6929, 6998, 7168, 7176, 7298, 7317, 7427, 7463, 7501, 7636, 7676, 7778, 7831, 7912, 7967, 8020, 8066, 8121, 8181, 8251, 8276, 8311, 8591, 8701, 8762, 8921, 8960, 9049, 9131, 9658, 9735, 9842, 9923, 9976, 10018, 10221, 10277, ...], 'Jardim Carioca': [136, 215, 1536, 2210, 3590, 10050, 13351, 18258, 24032, 24236, 26232], 'Jardim Guanabara': [720, 1139, 1213, 1515, 2089, 2281, 2805, 3703, 4162, 4194, 4369, 4758, 7271, 7784, 8527, 8820, 9063, 9249, 9262, 9287, 10855, 11152, 11188, 11493, 11976, 13533, 13574, 13848, 14006, 14249, 15244, 15292, 15592, 15877, 15952, 16311, 16346, 16479, 16847, 17382, 18188, 18470, 18734, 20050, 20107, 20672, 21777, 21786, 21951, 22233, 22488, 22514, 23388, 23557, 23760, 25212, 25458, 25720, 26501, 26644, 26919, 27928, 27951, 28892, 29215, 29624, 29765, 30022, 31275, 31433, 31539, 32041, 32130, 32473, 32673], 'Jardim Oceânico': [40, 299, 1330, 1674, 1971, 2689, 3084, 5892, 9352, 9423, 9496, 12074, 16379, 17950, 18410, 18433, 19223, 20252, 24051, 28494, 28631, 29720, 29794], 'Jardim Sulacap': [311, 2445, 2803, 4948, 7344, 7579, 7699, 8653, 10940, 12638, 17276, 19434, 23927], 'Joá': [915, 3174, 3784, 7894, 9318, 9790, 10381, 11793, 13228, 17675, 18038, 18365, 18401, 18405, 19642, 20487, 22457, 24821, 25059, 25602, 25954, 27634, 27717, 29373, 31279], 'Lagoa': [125, 152, 187, 220, 340, 459, 482, 484, 623, 625, 638, 677, 761, 906, 939, 984, 1053, 1117, 1142, 1145, 1195, 1319, 1348, 1413, 1471, 1485, 1531, 1573, 1603, 1666, 1703, 1836, 1848, 1874, 1995, 2022, 2092, 2171, 2380, 2385, 2395, 2407, 2490, 2525, 2614, 2638, 2660, 2781, 2786, 2910, 2984, 2991, 3117, 3129, 3185, 3261, 3267, 3409, 3549, 3672, 3692, 3858, 4012, 4146, 4225, 4257, 4260, 4412, 4619, 4708, 4833, 4883, 4978, 5147, 5210, 5332, 5339, 5367, 5448, 5557, 5807, 5868, 5880, 6007, 6127, 6175, 6224, 6231, 6249, 6341, 6368, 6389, 6466, 6519, 6552, 6600, 6721, 6742, 6754, 6784, ...], 'Lapa': [1849, 1927, 2705, 3480, 3514, 4521, 4871, 5098, 5711, 6542, 7383, 8210, 8799, 8936, 9827, 12221, 12937, 13646, 14020, 14241, 14773, 14935, 14991, 15040, 16500, 16624, 16985, 17898, 19599, 21102, 24649, 25234, 25286, 25665, 25831, 27581, 28312, 28578, 28944, 29732, 30711, 31315, 31412], 'Laranjeiras': [98, 228, 253, 262, 374, 413, 427, 573, 620, 695, 816, 966, 967, 972, 991, 1042, 1064, 1083, 1127, 1314, 1518, 1550, 1585, 1649, 1779, 1802, 1871, 1917, 1944, 1969, 2002, 2082, 2168, 2187, 2215, 2410, 2464, 2492, 2767, 2817, 2826, 2932, 2950, 3086, 3219, 3306, 3347, 3372, 3411, 3417, 3808, 3905, 3972, 3979, 4110, 4125, 4291, 4462, 4485, 4492, 4581, 4592, 4628, 4644, 4713, 4967, 5126, 5161, 5274, 5359, 5364, 5383, 5396, 5472, 5506, 5556, 5622, 5628, 5653, 5706, 5721, 5852, 5936, 6166, 6182, 6337, 6443, 6488, 6498, 6532, 6621, 6673, 7006, 7064, 7254, 7287, 7309, 7373, 7519, 7555, ...], 'Largo do Machado': [129, 2983, 5870, 6727, 7280, 8176, 8515, 8811, 8997, 9010, 11413, 12608, 17279, 17447, 18922, 20111, 21036, 21670], 'Leblon': [25, 37, 87, 130, 138, 172, 199, 210, 236, 248, 256, 274, 312, 322, 330, 342, 369, 473, 475, 490, 530, 531, 589, 594, 610, 627, 660, 665, 680, 687, 694, 698, 718, 729, 738, 750, 762, 773, 815, 862, 898, 900, 907, 960, 964, 997, 1036, 1048, 1052, 1060, 1071, 1106, 1128, 1161, 1173, 1234, 1248, 1255, 1256, 1264, 1269, 1299, 1308, 1349, 1365, 1397, 1400, 1419, 1440, 1447, 1472, 1571, 1577, 1588, 1589, 1591, 1597, 1616, 1618, 1633, 1654, 1691, 1708, 1715, 1721, 1772, 1788, 1792, 1803, 1806, 1813, 1838, 1899, 1901, 1907, 1934, 1936, 1988, 1991, 2004, ...], 'Leme': [431, 596, 714, 873, 880, 1116, 1354, 1581, 1676, 1724, 1765, 1801, 1884, 2423, 2557, 2587, 2725, 2775, 2857, 2886, 2921, 3127, 3350, 3523, 3843, 3856, 3918, 3945, 3947, 4320, 4544, 4563, 4642, 4764, 4840, 4850, 4926, 4969, 5175, 5236, 5248, 5445, 5853, 5924, 5962, 6123, 6875, 6967, 7016, 7067, 7125, 7210, 7238, 7332, 7612, 7737, 7907, 8035, 8089, 8108, 8190, 8236, 8538, 9080, 9373, 9415, 9723, 9759, 9844, 9992, 9994, 10270, 10284, 10375, 10699, 10723, 10742, 10752, 10811, 10857, 11038, 11053, 11851, 11923, 12011, 12042, 12202, 12410, 12553, 12599, 12662, 12787, 12925, 13290, 13320, 13779, 14028, 14030, 14319, 14415, ...], 'Lins de Vasconcelos': [12, 235, 787, 3423, 3537, 4446, 5022, 5085, 6408, 6495, 6767, 6809, 7044, 7311, 9853, 10263, 10697, 11062, 11506, 11592, 11733, 12689, 12948, 13250, 13575, 13599, 14087, 14627, 14650, 14971, 18027, 18168, 18335, 20481, 21434, 21444, 21653, 22405, 24934, 25906, 26415, 26602, 27282, 28024, 29279, 30394, 31351, 31848, 32024], 'Madureira': [395, 1734, 2264, 2607, 3199, 3613, 3807, 3859, 4164, 4222, 4265, 4364, 4406, 4509, 4703, 4988, 5198, 5369, 5976, 6017, 6278, 7235, 7988, 9256, 9504, 9774, 10001, 10003, 10224, 10240, 10290, 10691, 10733, 11355, 12696, 12930, 13520, 14342, 14397, 14491, 14838, 15274, 15339, 15429, 16157, 16193, 16197, 16326, 16380, 16512, 17342, 18169, 18510, 18526, 18818, 19163, 19353, 20026, 20275, 20288, 20421, 20904, 20958, 21782, 22417, 22841, 23181, 23343, 23561, 23718, 24476, 24502, 24710, 24835, 24915, 25456, 25566, 25669, 25758, 25987, 26002, 26012, 26326, 26389, 26557, 26719, 26729, 26824, 26862, 28725, 29029, 29363, 30465, 30523, 30798, 30841, 30983, 31245, 31506, 31787, ...], 'Magalhães Bastos': [19134, 26343, 27622], 'Manguinhos': [834, 5385, 6900, 7805, 8218, 9707, 18418, 27016], 'Maracanã': [67, 137, 213, 226, 290, 310, 384, 539, 952, 1212, 1236, 1292, 1560, 2463, 2632, 2758, 2916, 3235, 3268, 3596, 4331, 4571, 4860, 4964, 5005, 5018, 5120, 5374, 5435, 5640, 5655, 5789, 5855, 5908, 6574, 6664, 6794, 6952, 7147, 7362, 7416, 7437, 7473, 7594, 7808, 7883, 8199, 8307, 8343, 8502, 8544, 8850, 9198, 9320, 9403, 9441, 9570, 10243, 10515, 10753, 12226, 12402, 12743, 12771, 13036, 13148, 13314, 13377, 13504, 13580, 13922, 14183, 14444, 14536, 14659, 14714, 14779, 14801, 14972, 15235, 15326, 15497, 15720, 15945, 16145, 16341, 17284, 17424, 17544, 17802, 17886, 17965, 18094, 18109, 18206, 18230, 18235, 18280, 19127, 19242, ...], 'Marechal Hermes': [614, 4014, 4572, 6706, 8451, 9013, 10350, 10435, 12451, 16210, 24512, 26424, 27689, 27933], 'Maria da Graça': [83, 719, 1673, 2114, 4959, 5616, 7727, 8222, 9893, 10157, 10807, 10995, 14520, 15875, 19299, 19493, 22758, 23152, 23378, 24487, 25402, 25660, 26069, 26636, 27700, 29756], 'Moneró': [696, 1711, 5057, 7107, 18345, 18516, 22682, 25471, 25659, 30953], 'Méier': [64, 69, 74, 184, 472, 630, 633, 657, 706, 896, 944, 1150, 1187, 1371, 1596, 1613, 1749, 1939, 2065, 2067, 2083, 2090, 2096, 2206, 2226, 2244, 2257, 2312, 2317, 2459, 2688, 2787, 2824, 2894, 3011, 3046, 3413, 3550, 3561, 3598, 3754, 3898, 3929, 3966, 4003, 4090, 4245, 4252, 4255, 4460, 4601, 4656, 4791, 4818, 5184, 5282, 5570, 5829, 5861, 6050, 6180, 6197, 6313, 6407, 6593, 6680, 6709, 6920, 6988, 7032, 7087, 7310, 7340, 7360, 7445, 7479, 7493, 7924, 8071, 8165, 8256, 8392, 8394, 8480, 8492, 8524, 8630, 8736, 9075, 9385, 9395, 9506, 9535, 9585, 9772, 9802, 9899, 10118, 10123, 10136, ...], 'Olaria': [23, 121, 264, 308, 667, 1382, 2800, 2811, 3424, 3823, 3883, 4289, 5360, 6032, 6090, 7029, 7694, 7806, 8134, 8299, 8872, 10204, 10374, 11142, 11700, 12242, 13718, 13924, 13949, 14203, 14252, 14447, 14745, 15080, 15312, 15387, 15885, 17095, 17207, 17547, 17684, 18104, 18783, 19529, 19649, 19842, 20180, 20222, 20433, 21151, 21345, 22687, 24668, 25345, 26123, 26183, 27824, 27879, 27966, 28250, 28271, 28323, 29036, 30720, 30877, 31349, 32093, 32228, 32889], 'Oswaldo Cruz': [323, 1872, 5038, 5228, 5899, 6068, 6485, 7532, 7620, 10105, 12458, 14317, 15043, 17168, 17525, 17600, 19566, 19637, 20052, 20173, 26918, 28151, 29281, 29340, 29977], 'Paciência': [3434, 3964, 9702, 20780, 20994, 23266, 29494, 30131, 30169, 30963], 'Padre Miguel': [3602, 8300, 9846, 15397, 16017, 16429, 18025, 22119, 25970, 28174, 28229, 31685], 'Paquetá': [6138, 13105], 'Parada de Lucas': [1247, 4468, 4843, 7266, 9460, 11012, 14213, 14284, 18814, 26659, 32806], ...}"
            ]
          },
          "metadata": {},
          "execution_count": 169
        }
      ]
    },
    {
      "cell_type": "code",
      "metadata": {
        "colab": {
          "base_uri": "https://localhost:8080/"
        },
        "id": "RYME7Ek6A18g",
        "outputId": "7f29ddd0-7e14-4d68-f9d7-9ae08e37fd9c"
      },
      "source": [
        "for bairro, data in grupo_bairro: \n",
        "    print(\"{} -> {}\".format(bairro,dados.Valor.mean()))"
      ],
      "execution_count": null,
      "outputs": [
        {
          "output_type": "stream",
          "text": [
            "Abolição -> 1083.3333333333333\n",
            "Alto da Boa Vista -> 1083.3333333333333\n",
            "Anchieta -> 1083.3333333333333\n",
            "Andaraí -> 1083.3333333333333\n",
            "Anil -> 1083.3333333333333\n",
            "Arpoador -> 1083.3333333333333\n",
            "Bancários -> 1083.3333333333333\n",
            "Bangu -> 1083.3333333333333\n",
            "Barra da Tijuca -> 1083.3333333333333\n",
            "Barra de Guaratiba -> 1083.3333333333333\n",
            "Benfica -> 1083.3333333333333\n",
            "Bento Ribeiro -> 1083.3333333333333\n",
            "Bonsucesso -> 1083.3333333333333\n",
            "Botafogo -> 1083.3333333333333\n",
            "Braz de Pina -> 1083.3333333333333\n",
            "Cachambi -> 1083.3333333333333\n",
            "Cachamorra -> 1083.3333333333333\n",
            "Cacuia -> 1083.3333333333333\n",
            "Caju -> 1083.3333333333333\n",
            "Camorim -> 1083.3333333333333\n",
            "Campinho -> 1083.3333333333333\n",
            "Campo Grande -> 1083.3333333333333\n",
            "Cascadura -> 1083.3333333333333\n",
            "Castelo -> 1083.3333333333333\n",
            "Catete -> 1083.3333333333333\n",
            "Catumbi -> 1083.3333333333333\n",
            "Cavalcanti -> 1083.3333333333333\n",
            "Centro -> 1083.3333333333333\n",
            "Cidade Jardim -> 1083.3333333333333\n",
            "Cidade Nova -> 1083.3333333333333\n",
            "Cidade de Deus -> 1083.3333333333333\n",
            "Cinelândia -> 1083.3333333333333\n",
            "Cocotá -> 1083.3333333333333\n",
            "Coelho Neto -> 1083.3333333333333\n",
            "Colégio -> 1083.3333333333333\n",
            "Copacabana -> 1083.3333333333333\n",
            "Cordovil -> 1083.3333333333333\n",
            "Cosme Velho -> 1083.3333333333333\n",
            "Cosmos -> 1083.3333333333333\n",
            "Curicica -> 1083.3333333333333\n",
            "Del Castilho -> 1083.3333333333333\n",
            "Encantado -> 1083.3333333333333\n",
            "Engenho Novo -> 1083.3333333333333\n",
            "Engenho da Rainha -> 1083.3333333333333\n",
            "Engenho de Dentro -> 1083.3333333333333\n",
            "Estácio -> 1083.3333333333333\n",
            "Flamengo -> 1083.3333333333333\n",
            "Freguesia (Ilha do Governador) -> 1083.3333333333333\n",
            "Freguesia (Jacarepaguá) -> 1083.3333333333333\n",
            "Fátima -> 1083.3333333333333\n",
            "Gamboa -> 1083.3333333333333\n",
            "Gardênia Azul -> 1083.3333333333333\n",
            "Glória -> 1083.3333333333333\n",
            "Grajaú -> 1083.3333333333333\n",
            "Grumari -> 1083.3333333333333\n",
            "Guadalupe -> 1083.3333333333333\n",
            "Guaratiba -> 1083.3333333333333\n",
            "Gávea -> 1083.3333333333333\n",
            "Higienópolis -> 1083.3333333333333\n",
            "Honório Gurgel -> 1083.3333333333333\n",
            "Humaitá -> 1083.3333333333333\n",
            "Icaraí -> 1083.3333333333333\n",
            "Ilha do Governador -> 1083.3333333333333\n",
            "Inhaúma -> 1083.3333333333333\n",
            "Inhoaíba -> 1083.3333333333333\n",
            "Ipanema -> 1083.3333333333333\n",
            "Irajá -> 1083.3333333333333\n",
            "Itaguaí -> 1083.3333333333333\n",
            "Itanhangá -> 1083.3333333333333\n",
            "Jabour -> 1083.3333333333333\n",
            "Jacarepaguá -> 1083.3333333333333\n",
            "Jacaré -> 1083.3333333333333\n",
            "Jardim América -> 1083.3333333333333\n",
            "Jardim Botânico -> 1083.3333333333333\n",
            "Jardim Carioca -> 1083.3333333333333\n",
            "Jardim Guanabara -> 1083.3333333333333\n",
            "Jardim Oceânico -> 1083.3333333333333\n",
            "Jardim Sulacap -> 1083.3333333333333\n",
            "Joá -> 1083.3333333333333\n",
            "Lagoa -> 1083.3333333333333\n",
            "Lapa -> 1083.3333333333333\n",
            "Laranjeiras -> 1083.3333333333333\n",
            "Largo do Machado -> 1083.3333333333333\n",
            "Leblon -> 1083.3333333333333\n",
            "Leme -> 1083.3333333333333\n",
            "Lins de Vasconcelos -> 1083.3333333333333\n",
            "Madureira -> 1083.3333333333333\n",
            "Magalhães Bastos -> 1083.3333333333333\n",
            "Manguinhos -> 1083.3333333333333\n",
            "Maracanã -> 1083.3333333333333\n",
            "Marechal Hermes -> 1083.3333333333333\n",
            "Maria da Graça -> 1083.3333333333333\n",
            "Moneró -> 1083.3333333333333\n",
            "Méier -> 1083.3333333333333\n",
            "Olaria -> 1083.3333333333333\n",
            "Oswaldo Cruz -> 1083.3333333333333\n",
            "Paciência -> 1083.3333333333333\n",
            "Padre Miguel -> 1083.3333333333333\n",
            "Paquetá -> 1083.3333333333333\n",
            "Parada de Lucas -> 1083.3333333333333\n",
            "Parque Anchieta -> 1083.3333333333333\n",
            "Parque Colúmbia -> 1083.3333333333333\n",
            "Pavuna -> 1083.3333333333333\n",
            "Pechincha -> 1083.3333333333333\n",
            "Pedra de Guaratiba -> 1083.3333333333333\n",
            "Penha -> 1083.3333333333333\n",
            "Penha Circular -> 1083.3333333333333\n",
            "Península -> 1083.3333333333333\n",
            "Piedade -> 1083.3333333333333\n",
            "Pilares -> 1083.3333333333333\n",
            "Pitangueiras -> 1083.3333333333333\n",
            "Portuguesa -> 1083.3333333333333\n",
            "Praia da Bandeira -> 1083.3333333333333\n",
            "Praça Seca -> 1083.3333333333333\n",
            "Praça da Bandeira -> 1083.3333333333333\n",
            "Quintino Bocaiúva -> 1083.3333333333333\n",
            "Ramos -> 1083.3333333333333\n",
            "Realengo -> 1083.3333333333333\n",
            "Recreio dos Bandeirantes -> 1083.3333333333333\n",
            "Riachuelo -> 1083.3333333333333\n",
            "Ribeira -> 1083.3333333333333\n",
            "Ricardo de Albuquerque -> 1083.3333333333333\n",
            "Rio Comprido -> 1083.3333333333333\n",
            "Rio da Prata -> 1083.3333333333333\n",
            "Rocha -> 1083.3333333333333\n",
            "Rocha Miranda -> 1083.3333333333333\n",
            "Sampaio -> 1083.3333333333333\n",
            "Santa Cruz -> 1083.3333333333333\n",
            "Santa Teresa -> 1083.3333333333333\n",
            "Santo Cristo -> 1083.3333333333333\n",
            "Santíssimo -> 1083.3333333333333\n",
            "Saúde -> 1083.3333333333333\n",
            "Senador Camará -> 1083.3333333333333\n",
            "Senador Vasconcelos -> 1083.3333333333333\n",
            "Sepetiba -> 1083.3333333333333\n",
            "São Conrado -> 1083.3333333333333\n",
            "São Cristóvão -> 1083.3333333333333\n",
            "São Francisco Xavier -> 1083.3333333333333\n",
            "Tanque -> 1083.3333333333333\n",
            "Taquara -> 1083.3333333333333\n",
            "Tauá -> 1083.3333333333333\n",
            "Tijuca -> 1083.3333333333333\n",
            "Todos os Santos -> 1083.3333333333333\n",
            "Tomás Coelho -> 1083.3333333333333\n",
            "Turiaçu -> 1083.3333333333333\n",
            "Urca -> 1083.3333333333333\n",
            "Usina -> 1083.3333333333333\n",
            "Vargem Grande -> 1083.3333333333333\n",
            "Vargem Pequena -> 1083.3333333333333\n",
            "Vasco da Gama -> 1083.3333333333333\n",
            "Vaz Lobo -> 1083.3333333333333\n",
            "Vicente de Carvalho -> 1083.3333333333333\n",
            "Vidigal -> 1083.3333333333333\n",
            "Vigário Geral -> 1083.3333333333333\n",
            "Vila Isabel -> 1083.3333333333333\n",
            "Vila Kosmos -> 1083.3333333333333\n",
            "Vila Militar -> 1083.3333333333333\n",
            "Vila Valqueire -> 1083.3333333333333\n",
            "Vila da Penha -> 1083.3333333333333\n",
            "Vista Alegre -> 1083.3333333333333\n",
            "Zumbi -> 1083.3333333333333\n",
            "Água Santa -> 1083.3333333333333\n"
          ],
          "name": "stdout"
        }
      ]
    },
    {
      "cell_type": "code",
      "metadata": {
        "colab": {
          "base_uri": "https://localhost:8080/"
        },
        "id": "iVzmknQdB3o0",
        "outputId": "0ace3009-003e-498b-c886-10f31dd02f1a"
      },
      "source": [
        "grupo_bairro['Valor'].mean().round(2)"
      ],
      "execution_count": null,
      "outputs": [
        {
          "output_type": "execute_result",
          "data": {
            "text/plain": [
              "Bairro\n",
              "Abolição             2005.45\n",
              "Alto da Boa Vista    7685.71\n",
              "Anchieta             3061.67\n",
              "Andaraí              1937.75\n",
              "Anil                 4807.58\n",
              "                      ...   \n",
              "Vila Valqueire       2164.24\n",
              "Vila da Penha        1647.14\n",
              "Vista Alegre         1128.64\n",
              "Zumbi                3610.00\n",
              "Água Santa           1083.33\n",
              "Name: Valor, Length: 162, dtype: float64"
            ]
          },
          "metadata": {},
          "execution_count": 181
        }
      ]
    },
    {
      "cell_type": "markdown",
      "metadata": {
        "id": "cMhbqN43DP4C"
      },
      "source": [
        "#Estatiscas Descritivas"
      ]
    },
    {
      "cell_type": "code",
      "metadata": {
        "colab": {
          "base_uri": "https://localhost:8080/",
          "height": 450
        },
        "id": "_QOuM4FeC3iM",
        "outputId": "9e8185d1-5577-4fbc-926f-38278634ef29"
      },
      "source": [
        "grupo_bairro['Valor'].describe().round(2)"
      ],
      "execution_count": null,
      "outputs": [
        {
          "output_type": "execute_result",
          "data": {
            "text/html": [
              "<div>\n",
              "<style scoped>\n",
              "    .dataframe tbody tr th:only-of-type {\n",
              "        vertical-align: middle;\n",
              "    }\n",
              "\n",
              "    .dataframe tbody tr th {\n",
              "        vertical-align: top;\n",
              "    }\n",
              "\n",
              "    .dataframe thead th {\n",
              "        text-align: right;\n",
              "    }\n",
              "</style>\n",
              "<table border=\"1\" class=\"dataframe\">\n",
              "  <thead>\n",
              "    <tr style=\"text-align: right;\">\n",
              "      <th></th>\n",
              "      <th>count</th>\n",
              "      <th>mean</th>\n",
              "      <th>std</th>\n",
              "      <th>min</th>\n",
              "      <th>25%</th>\n",
              "      <th>50%</th>\n",
              "      <th>75%</th>\n",
              "      <th>max</th>\n",
              "    </tr>\n",
              "    <tr>\n",
              "      <th>Bairro</th>\n",
              "      <th></th>\n",
              "      <th></th>\n",
              "      <th></th>\n",
              "      <th></th>\n",
              "      <th></th>\n",
              "      <th></th>\n",
              "      <th></th>\n",
              "      <th></th>\n",
              "    </tr>\n",
              "  </thead>\n",
              "  <tbody>\n",
              "    <tr>\n",
              "      <th>Abolição</th>\n",
              "      <td>22.0</td>\n",
              "      <td>2005.45</td>\n",
              "      <td>1843.45</td>\n",
              "      <td>800.0</td>\n",
              "      <td>1025.0</td>\n",
              "      <td>1200.0</td>\n",
              "      <td>2225.0</td>\n",
              "      <td>8000.0</td>\n",
              "    </tr>\n",
              "    <tr>\n",
              "      <th>Alto da Boa Vista</th>\n",
              "      <td>7.0</td>\n",
              "      <td>7685.71</td>\n",
              "      <td>11052.25</td>\n",
              "      <td>600.0</td>\n",
              "      <td>1300.0</td>\n",
              "      <td>1850.0</td>\n",
              "      <td>9375.0</td>\n",
              "      <td>30000.0</td>\n",
              "    </tr>\n",
              "    <tr>\n",
              "      <th>Anchieta</th>\n",
              "      <td>12.0</td>\n",
              "      <td>3061.67</td>\n",
              "      <td>5836.00</td>\n",
              "      <td>600.0</td>\n",
              "      <td>700.0</td>\n",
              "      <td>775.0</td>\n",
              "      <td>962.5</td>\n",
              "      <td>20000.0</td>\n",
              "    </tr>\n",
              "    <tr>\n",
              "      <th>Andaraí</th>\n",
              "      <td>108.0</td>\n",
              "      <td>1937.75</td>\n",
              "      <td>2313.88</td>\n",
              "      <td>600.0</td>\n",
              "      <td>1200.0</td>\n",
              "      <td>1400.0</td>\n",
              "      <td>1700.0</td>\n",
              "      <td>20000.0</td>\n",
              "    </tr>\n",
              "    <tr>\n",
              "      <th>Anil</th>\n",
              "      <td>91.0</td>\n",
              "      <td>4807.58</td>\n",
              "      <td>10886.66</td>\n",
              "      <td>300.0</td>\n",
              "      <td>1100.0</td>\n",
              "      <td>1600.0</td>\n",
              "      <td>3650.0</td>\n",
              "      <td>70000.0</td>\n",
              "    </tr>\n",
              "    <tr>\n",
              "      <th>...</th>\n",
              "      <td>...</td>\n",
              "      <td>...</td>\n",
              "      <td>...</td>\n",
              "      <td>...</td>\n",
              "      <td>...</td>\n",
              "      <td>...</td>\n",
              "      <td>...</td>\n",
              "      <td>...</td>\n",
              "    </tr>\n",
              "    <tr>\n",
              "      <th>Vila Valqueire</th>\n",
              "      <td>59.0</td>\n",
              "      <td>2164.24</td>\n",
              "      <td>2826.70</td>\n",
              "      <td>800.0</td>\n",
              "      <td>1000.0</td>\n",
              "      <td>1300.0</td>\n",
              "      <td>1700.0</td>\n",
              "      <td>16000.0</td>\n",
              "    </tr>\n",
              "    <tr>\n",
              "      <th>Vila da Penha</th>\n",
              "      <td>175.0</td>\n",
              "      <td>1647.14</td>\n",
              "      <td>2403.36</td>\n",
              "      <td>400.0</td>\n",
              "      <td>825.0</td>\n",
              "      <td>1100.0</td>\n",
              "      <td>1500.0</td>\n",
              "      <td>24000.0</td>\n",
              "    </tr>\n",
              "    <tr>\n",
              "      <th>Vista Alegre</th>\n",
              "      <td>22.0</td>\n",
              "      <td>1128.64</td>\n",
              "      <td>273.24</td>\n",
              "      <td>700.0</td>\n",
              "      <td>937.5</td>\n",
              "      <td>1150.0</td>\n",
              "      <td>1200.0</td>\n",
              "      <td>2000.0</td>\n",
              "    </tr>\n",
              "    <tr>\n",
              "      <th>Zumbi</th>\n",
              "      <td>5.0</td>\n",
              "      <td>3610.00</td>\n",
              "      <td>2062.89</td>\n",
              "      <td>1600.0</td>\n",
              "      <td>2700.0</td>\n",
              "      <td>2850.0</td>\n",
              "      <td>3900.0</td>\n",
              "      <td>7000.0</td>\n",
              "    </tr>\n",
              "    <tr>\n",
              "      <th>Água Santa</th>\n",
              "      <td>12.0</td>\n",
              "      <td>1083.33</td>\n",
              "      <td>775.57</td>\n",
              "      <td>600.0</td>\n",
              "      <td>800.0</td>\n",
              "      <td>850.0</td>\n",
              "      <td>962.5</td>\n",
              "      <td>3500.0</td>\n",
              "    </tr>\n",
              "  </tbody>\n",
              "</table>\n",
              "<p>162 rows × 8 columns</p>\n",
              "</div>"
            ],
            "text/plain": [
              "                   count     mean       std  ...     50%     75%      max\n",
              "Bairro                                       ...                         \n",
              "Abolição            22.0  2005.45   1843.45  ...  1200.0  2225.0   8000.0\n",
              "Alto da Boa Vista    7.0  7685.71  11052.25  ...  1850.0  9375.0  30000.0\n",
              "Anchieta            12.0  3061.67   5836.00  ...   775.0   962.5  20000.0\n",
              "Andaraí            108.0  1937.75   2313.88  ...  1400.0  1700.0  20000.0\n",
              "Anil                91.0  4807.58  10886.66  ...  1600.0  3650.0  70000.0\n",
              "...                  ...      ...       ...  ...     ...     ...      ...\n",
              "Vila Valqueire      59.0  2164.24   2826.70  ...  1300.0  1700.0  16000.0\n",
              "Vila da Penha      175.0  1647.14   2403.36  ...  1100.0  1500.0  24000.0\n",
              "Vista Alegre        22.0  1128.64    273.24  ...  1150.0  1200.0   2000.0\n",
              "Zumbi                5.0  3610.00   2062.89  ...  2850.0  3900.0   7000.0\n",
              "Água Santa          12.0  1083.33    775.57  ...   850.0   962.5   3500.0\n",
              "\n",
              "[162 rows x 8 columns]"
            ]
          },
          "metadata": {},
          "execution_count": 184
        }
      ]
    },
    {
      "cell_type": "code",
      "metadata": {
        "colab": {
          "base_uri": "https://localhost:8080/",
          "height": 450
        },
        "id": "1WGXz6TaEr2N",
        "outputId": "fdf02913-520f-42db-8cb0-e4ad743ed2f3"
      },
      "source": [
        "grupo_bairro['Valor'].aggregate(['min', 'max', 'sum']).rename(columns = {'min': 'Mínimo', 'max': 'Máximo'})"
      ],
      "execution_count": null,
      "outputs": [
        {
          "output_type": "execute_result",
          "data": {
            "text/html": [
              "<div>\n",
              "<style scoped>\n",
              "    .dataframe tbody tr th:only-of-type {\n",
              "        vertical-align: middle;\n",
              "    }\n",
              "\n",
              "    .dataframe tbody tr th {\n",
              "        vertical-align: top;\n",
              "    }\n",
              "\n",
              "    .dataframe thead th {\n",
              "        text-align: right;\n",
              "    }\n",
              "</style>\n",
              "<table border=\"1\" class=\"dataframe\">\n",
              "  <thead>\n",
              "    <tr style=\"text-align: right;\">\n",
              "      <th></th>\n",
              "      <th>Mínimo</th>\n",
              "      <th>Máximo</th>\n",
              "      <th>sum</th>\n",
              "    </tr>\n",
              "    <tr>\n",
              "      <th>Bairro</th>\n",
              "      <th></th>\n",
              "      <th></th>\n",
              "      <th></th>\n",
              "    </tr>\n",
              "  </thead>\n",
              "  <tbody>\n",
              "    <tr>\n",
              "      <th>Abolição</th>\n",
              "      <td>800.0</td>\n",
              "      <td>8000.0</td>\n",
              "      <td>44120.0</td>\n",
              "    </tr>\n",
              "    <tr>\n",
              "      <th>Alto da Boa Vista</th>\n",
              "      <td>600.0</td>\n",
              "      <td>30000.0</td>\n",
              "      <td>53800.0</td>\n",
              "    </tr>\n",
              "    <tr>\n",
              "      <th>Anchieta</th>\n",
              "      <td>600.0</td>\n",
              "      <td>20000.0</td>\n",
              "      <td>36740.0</td>\n",
              "    </tr>\n",
              "    <tr>\n",
              "      <th>Andaraí</th>\n",
              "      <td>600.0</td>\n",
              "      <td>20000.0</td>\n",
              "      <td>209277.0</td>\n",
              "    </tr>\n",
              "    <tr>\n",
              "      <th>Anil</th>\n",
              "      <td>300.0</td>\n",
              "      <td>70000.0</td>\n",
              "      <td>437490.0</td>\n",
              "    </tr>\n",
              "    <tr>\n",
              "      <th>...</th>\n",
              "      <td>...</td>\n",
              "      <td>...</td>\n",
              "      <td>...</td>\n",
              "    </tr>\n",
              "    <tr>\n",
              "      <th>Vila Valqueire</th>\n",
              "      <td>800.0</td>\n",
              "      <td>16000.0</td>\n",
              "      <td>127690.0</td>\n",
              "    </tr>\n",
              "    <tr>\n",
              "      <th>Vila da Penha</th>\n",
              "      <td>400.0</td>\n",
              "      <td>24000.0</td>\n",
              "      <td>288250.0</td>\n",
              "    </tr>\n",
              "    <tr>\n",
              "      <th>Vista Alegre</th>\n",
              "      <td>700.0</td>\n",
              "      <td>2000.0</td>\n",
              "      <td>24830.0</td>\n",
              "    </tr>\n",
              "    <tr>\n",
              "      <th>Zumbi</th>\n",
              "      <td>1600.0</td>\n",
              "      <td>7000.0</td>\n",
              "      <td>18050.0</td>\n",
              "    </tr>\n",
              "    <tr>\n",
              "      <th>Água Santa</th>\n",
              "      <td>600.0</td>\n",
              "      <td>3500.0</td>\n",
              "      <td>13000.0</td>\n",
              "    </tr>\n",
              "  </tbody>\n",
              "</table>\n",
              "<p>162 rows × 3 columns</p>\n",
              "</div>"
            ],
            "text/plain": [
              "                   Mínimo   Máximo       sum\n",
              "Bairro                                      \n",
              "Abolição            800.0   8000.0   44120.0\n",
              "Alto da Boa Vista   600.0  30000.0   53800.0\n",
              "Anchieta            600.0  20000.0   36740.0\n",
              "Andaraí             600.0  20000.0  209277.0\n",
              "Anil                300.0  70000.0  437490.0\n",
              "...                   ...      ...       ...\n",
              "Vila Valqueire      800.0  16000.0  127690.0\n",
              "Vila da Penha       400.0  24000.0  288250.0\n",
              "Vista Alegre        700.0   2000.0   24830.0\n",
              "Zumbi              1600.0   7000.0   18050.0\n",
              "Água Santa          600.0   3500.0   13000.0\n",
              "\n",
              "[162 rows x 3 columns]"
            ]
          },
          "metadata": {},
          "execution_count": 185
        }
      ]
    },
    {
      "cell_type": "code",
      "metadata": {
        "id": "S0OiBv11FCdl"
      },
      "source": [
        ""
      ],
      "execution_count": null,
      "outputs": []
    },
    {
      "cell_type": "markdown",
      "metadata": {
        "id": "SJ0B3liBFaJY"
      },
      "source": [
        "#INTERPRETAÇÃO GRAFICOS BÁSICAS"
      ]
    },
    {
      "cell_type": "code",
      "metadata": {
        "id": "4ds7BFLSFgPU"
      },
      "source": [
        "%matplotlib inline\n",
        "import matplotlib.pyplot as plt\n",
        "plt.rc('figure',figsize=(40,20))"
      ],
      "execution_count": null,
      "outputs": []
    },
    {
      "cell_type": "code",
      "metadata": {
        "colab": {
          "base_uri": "https://localhost:8080/",
          "height": 404
        },
        "id": "2BpM5V7nFlql",
        "outputId": "e2e4fce8-b198-4634-bfb5-c134e163b825"
      },
      "source": [
        "fig = grupo_bairro['Valor'].mean().plot.bar(color = 'blue')\n",
        "fig.set_ylabel('Valor do Aluguel')\n",
        "fig.set_title('Valor Médio do Aluguel por Bairro', {'fontsize':35})\n",
        "fig.set_xlabel('BAIRROS',{'fontsize':35})\n",
        "plt.legend(fontsize = 50)"
      ],
      "execution_count": null,
      "outputs": [
        {
          "output_type": "execute_result",
          "data": {
            "text/plain": [
              "<matplotlib.legend.Legend at 0x7f1e78a688d0>"
            ]
          },
          "metadata": {},
          "execution_count": 217
        },
        {
          "output_type": "display_data",
          "data": {
            "image/png": "[encoded data removed]",
            "text/plain": [
              "<Figure size 2880x1440 with 1 Axes>"
            ]
          },
          "metadata": {
            "needs_background": "light"
          }
        }
      ]
    },
    {
      "cell_type": "code",
      "metadata": {
        "colab": {
          "base_uri": "https://localhost:8080/",
          "height": 407
        },
        "id": "Cr40RBByGF3N",
        "outputId": "d0dab1c7-45e1-47ea-a868-f5161ec39e52"
      },
      "source": [
        "fig = grupo_bairro['Valor'].max().plot.bar(color = 'blue')\n",
        "fig.set_ylabel('Valor do Aluguel')\n",
        "fig.set_title('Valor Maximo do Aluguel por Bairro', {'fontsize':35})\n",
        "fig.set_xlabel('BAIRROS',{'fontsize':35})\n",
        "plt.legend(fontsize = 50)"
      ],
      "execution_count": null,
      "outputs": [
        {
          "output_type": "execute_result",
          "data": {
            "text/plain": [
              "<matplotlib.legend.Legend at 0x7f1e785ccc90>"
            ]
          },
          "metadata": {},
          "execution_count": 219
        },
        {
          "output_type": "display_data",
          "data": {
            "image/png": "[encoded data removed]",
            "text/plain": [
              "<Figure size 2880x1440 with 1 Axes>"
            ]
          },
          "metadata": {
            "needs_background": "light"
          }
        }
      ]
    },
    {
      "cell_type": "code",
      "metadata": {
        "id": "H6MSNd-pG5ns"
      },
      "source": [
        ""
      ],
      "execution_count": null,
      "outputs": []
    },
    {
      "cell_type": "markdown",
      "metadata": {
        "id": "_26D3AixMItM"
      },
      "source": [
        "#IDENTIFICANDO E REMOVENDO OUTLIERS\n",
        "relatorio 8"
      ]
    },
    {
      "cell_type": "code",
      "metadata": {
        "colab": {
          "base_uri": "https://localhost:8080/",
          "height": 309
        },
        "id": "qcEstFoYMORt",
        "outputId": "8fa0b666-ad14-44c2-f91b-b531c36a7251"
      },
      "source": [
        "%matplotlib inline\n",
        "plt.rc('figure', figsize = (14,6))\n",
        "dados.boxplot(['Valor'])"
      ],
      "execution_count": null,
      "outputs": [
        {
          "output_type": "execute_result",
          "data": {
            "text/plain": [
              "<matplotlib.axes._subplots.AxesSubplot at 0x7f1e77e60290>"
            ]
          },
          "metadata": {},
          "execution_count": 220
        },
        {
          "output_type": "display_data",
          "data": {
            "image/png": "[encoded data removed]",
            "text/plain": [
              "<Figure size 1008x432 with 1 Axes>"
            ]
          },
          "metadata": {
            "needs_background": "light"
          }
        }
      ]
    },
    {
      "cell_type": "code",
      "metadata": {
        "colab": {
          "base_uri": "https://localhost:8080/",
          "height": 662
        },
        "id": "2SXvqtxLMV43",
        "outputId": "2620a501-f9b7-4d06-8758-60b4bee5dc7b"
      },
      "source": [
        "dados[dados['Valor'] >= 500]"
      ],
      "execution_count": null,
      "outputs": [
        {
          "output_type": "execute_result",
          "data": {
            "text/html": [
              "<div>\n",
              "<style scoped>\n",
              "    .dataframe tbody tr th:only-of-type {\n",
              "        vertical-align: middle;\n",
              "    }\n",
              "\n",
              "    .dataframe tbody tr th {\n",
              "        vertical-align: top;\n",
              "    }\n",
              "\n",
              "    .dataframe thead th {\n",
              "        text-align: right;\n",
              "    }\n",
              "</style>\n",
              "<table border=\"1\" class=\"dataframe\">\n",
              "  <thead>\n",
              "    <tr style=\"text-align: right;\">\n",
              "      <th></th>\n",
              "      <th>Tipo</th>\n",
              "      <th>Bairro</th>\n",
              "      <th>Quartos</th>\n",
              "      <th>Vagas</th>\n",
              "      <th>Suites</th>\n",
              "      <th>Area</th>\n",
              "      <th>Valor</th>\n",
              "      <th>Condominio</th>\n",
              "      <th>IPTU</th>\n",
              "      <th>Valor M2</th>\n",
              "      <th>Tipo Agregado</th>\n",
              "    </tr>\n",
              "  </thead>\n",
              "  <tbody>\n",
              "    <tr>\n",
              "      <th>295</th>\n",
              "      <td>Apartamento</td>\n",
              "      <td>Água Santa</td>\n",
              "      <td>2</td>\n",
              "      <td>1</td>\n",
              "      <td>0</td>\n",
              "      <td>50</td>\n",
              "      <td>850.0</td>\n",
              "      <td>280.0</td>\n",
              "      <td>12.0</td>\n",
              "      <td>17.00</td>\n",
              "      <td>Apartamento</td>\n",
              "    </tr>\n",
              "    <tr>\n",
              "      <th>675</th>\n",
              "      <td>Apartamento</td>\n",
              "      <td>Água Santa</td>\n",
              "      <td>2</td>\n",
              "      <td>1</td>\n",
              "      <td>0</td>\n",
              "      <td>70</td>\n",
              "      <td>800.0</td>\n",
              "      <td>250.0</td>\n",
              "      <td>14.0</td>\n",
              "      <td>11.43</td>\n",
              "      <td>Apartamento</td>\n",
              "    </tr>\n",
              "    <tr>\n",
              "      <th>4740</th>\n",
              "      <td>Loja/Salão</td>\n",
              "      <td>Água Santa</td>\n",
              "      <td>0</td>\n",
              "      <td>0</td>\n",
              "      <td>0</td>\n",
              "      <td>55</td>\n",
              "      <td>900.0</td>\n",
              "      <td>0.0</td>\n",
              "      <td>112.0</td>\n",
              "      <td>16.36</td>\n",
              "      <td>Apartamento</td>\n",
              "    </tr>\n",
              "    <tr>\n",
              "      <th>5402</th>\n",
              "      <td>Loja/Salão</td>\n",
              "      <td>Água Santa</td>\n",
              "      <td>0</td>\n",
              "      <td>1</td>\n",
              "      <td>0</td>\n",
              "      <td>170</td>\n",
              "      <td>3500.0</td>\n",
              "      <td>0.0</td>\n",
              "      <td>102.0</td>\n",
              "      <td>20.59</td>\n",
              "      <td>Apartamento</td>\n",
              "    </tr>\n",
              "    <tr>\n",
              "      <th>8832</th>\n",
              "      <td>Casa de Vila</td>\n",
              "      <td>Água Santa</td>\n",
              "      <td>1</td>\n",
              "      <td>0</td>\n",
              "      <td>0</td>\n",
              "      <td>40</td>\n",
              "      <td>600.0</td>\n",
              "      <td>100.0</td>\n",
              "      <td>14.0</td>\n",
              "      <td>15.00</td>\n",
              "      <td>Casa</td>\n",
              "    </tr>\n",
              "    <tr>\n",
              "      <th>14438</th>\n",
              "      <td>Apartamento</td>\n",
              "      <td>Água Santa</td>\n",
              "      <td>3</td>\n",
              "      <td>0</td>\n",
              "      <td>0</td>\n",
              "      <td>55</td>\n",
              "      <td>1000.0</td>\n",
              "      <td>715.0</td>\n",
              "      <td>0.0</td>\n",
              "      <td>18.18</td>\n",
              "      <td>Apartamento</td>\n",
              "    </tr>\n",
              "    <tr>\n",
              "      <th>20510</th>\n",
              "      <td>Apartamento</td>\n",
              "      <td>Água Santa</td>\n",
              "      <td>2</td>\n",
              "      <td>0</td>\n",
              "      <td>0</td>\n",
              "      <td>60</td>\n",
              "      <td>850.0</td>\n",
              "      <td>120.0</td>\n",
              "      <td>13.0</td>\n",
              "      <td>14.17</td>\n",
              "      <td>Apartamento</td>\n",
              "    </tr>\n",
              "    <tr>\n",
              "      <th>20564</th>\n",
              "      <td>Apartamento</td>\n",
              "      <td>Água Santa</td>\n",
              "      <td>2</td>\n",
              "      <td>0</td>\n",
              "      <td>0</td>\n",
              "      <td>85</td>\n",
              "      <td>850.0</td>\n",
              "      <td>0.0</td>\n",
              "      <td>0.0</td>\n",
              "      <td>10.00</td>\n",
              "      <td>Apartamento</td>\n",
              "    </tr>\n",
              "    <tr>\n",
              "      <th>20927</th>\n",
              "      <td>Apartamento</td>\n",
              "      <td>Água Santa</td>\n",
              "      <td>2</td>\n",
              "      <td>0</td>\n",
              "      <td>0</td>\n",
              "      <td>83</td>\n",
              "      <td>950.0</td>\n",
              "      <td>150.0</td>\n",
              "      <td>37.0</td>\n",
              "      <td>11.45</td>\n",
              "      <td>Apartamento</td>\n",
              "    </tr>\n",
              "    <tr>\n",
              "      <th>21518</th>\n",
              "      <td>Apartamento</td>\n",
              "      <td>Água Santa</td>\n",
              "      <td>2</td>\n",
              "      <td>1</td>\n",
              "      <td>0</td>\n",
              "      <td>50</td>\n",
              "      <td>800.0</td>\n",
              "      <td>310.0</td>\n",
              "      <td>0.0</td>\n",
              "      <td>16.00</td>\n",
              "      <td>Apartamento</td>\n",
              "    </tr>\n",
              "    <tr>\n",
              "      <th>25195</th>\n",
              "      <td>Apartamento</td>\n",
              "      <td>Água Santa</td>\n",
              "      <td>2</td>\n",
              "      <td>1</td>\n",
              "      <td>0</td>\n",
              "      <td>58</td>\n",
              "      <td>700.0</td>\n",
              "      <td>500.0</td>\n",
              "      <td>35.0</td>\n",
              "      <td>12.07</td>\n",
              "      <td>Apartamento</td>\n",
              "    </tr>\n",
              "    <tr>\n",
              "      <th>25703</th>\n",
              "      <td>Casa</td>\n",
              "      <td>Água Santa</td>\n",
              "      <td>1</td>\n",
              "      <td>1</td>\n",
              "      <td>0</td>\n",
              "      <td>40</td>\n",
              "      <td>1200.0</td>\n",
              "      <td>0.0</td>\n",
              "      <td>14.0</td>\n",
              "      <td>30.00</td>\n",
              "      <td>Casa</td>\n",
              "    </tr>\n",
              "  </tbody>\n",
              "</table>\n",
              "</div>"
            ],
            "text/plain": [
              "               Tipo      Bairro  Quartos  ...   IPTU  Valor M2  Tipo Agregado\n",
              "295     Apartamento  Água Santa        2  ...   12.0     17.00    Apartamento\n",
              "675     Apartamento  Água Santa        2  ...   14.0     11.43    Apartamento\n",
              "4740     Loja/Salão  Água Santa        0  ...  112.0     16.36    Apartamento\n",
              "5402     Loja/Salão  Água Santa        0  ...  102.0     20.59    Apartamento\n",
              "8832   Casa de Vila  Água Santa        1  ...   14.0     15.00           Casa\n",
              "14438   Apartamento  Água Santa        3  ...    0.0     18.18    Apartamento\n",
              "20510   Apartamento  Água Santa        2  ...   13.0     14.17    Apartamento\n",
              "20564   Apartamento  Água Santa        2  ...    0.0     10.00    Apartamento\n",
              "20927   Apartamento  Água Santa        2  ...   37.0     11.45    Apartamento\n",
              "21518   Apartamento  Água Santa        2  ...    0.0     16.00    Apartamento\n",
              "25195   Apartamento  Água Santa        2  ...   35.0     12.07    Apartamento\n",
              "25703          Casa  Água Santa        1  ...   14.0     30.00           Casa\n",
              "\n",
              "[12 rows x 11 columns]"
            ]
          },
          "metadata": {},
          "execution_count": 223
        }
      ]
    },
    {
      "cell_type": "code",
      "metadata": {
        "colab": {
          "base_uri": "https://localhost:8080/"
        },
        "id": "WZaUqxSIM0PH",
        "outputId": "85a8d270-e0c2-48e9-8a18-d4fae035249d"
      },
      "source": [
        "Q1 = dados['Valor'].quantile(.25)\n",
        "Q1"
      ],
      "execution_count": null,
      "outputs": [
        {
          "output_type": "execute_result",
          "data": {
            "text/plain": [
              "800.0"
            ]
          },
          "metadata": {},
          "execution_count": 229
        }
      ]
    },
    {
      "cell_type": "code",
      "metadata": {
        "id": "EMRFdBC8NUAv"
      },
      "source": [
        "Q1 = dados['Valor'].quantile(.25)\n",
        "Q3 = dados['Valor'].quantile(.75)\n",
        "IIQ = Q3 - Q1\n",
        "limite_inferior = Q1 - 1.5 * IIQ\n",
        "limite_superior = Q3 + 1.5 * IIQ"
      ],
      "execution_count": null,
      "outputs": []
    },
    {
      "cell_type": "code",
      "metadata": {
        "id": "-TWaknFTOijh"
      },
      "source": [
        "selecao = (dados['Valor'] >= limite_inferior) & (dados['Valor'] <= limite_superior)\n",
        "dados_new = dados[selecao]"
      ],
      "execution_count": null,
      "outputs": []
    },
    {
      "cell_type": "code",
      "metadata": {
        "colab": {
          "base_uri": "https://localhost:8080/",
          "height": 309
        },
        "id": "72WbPs8TPcYJ",
        "outputId": "c7d297d9-d879-49b0-beff-54208ad5724a"
      },
      "source": [
        "dados_new.boxplot(['Valor'])"
      ],
      "execution_count": null,
      "outputs": [
        {
          "output_type": "execute_result",
          "data": {
            "text/plain": [
              "<matplotlib.axes._subplots.AxesSubplot at 0x7f1e77d2ac90>"
            ]
          },
          "metadata": {},
          "execution_count": 238
        },
        {
          "output_type": "display_data",
          "data": {
            "image/png": "[encoded data removed]",
            "text/plain": [
              "<Figure size 1008x432 with 1 Axes>"
            ]
          },
          "metadata": {
            "needs_background": "light"
          }
        }
      ]
    },
    {
      "cell_type": "code",
      "metadata": {
        "colab": {
          "base_uri": "https://localhost:8080/",
          "height": 636
        },
        "id": "h8ZcML35O8bh",
        "outputId": "b94b16c8-a09b-4891-d1fc-e50dc6c559bc"
      },
      "source": [
        "dados.hist(['Valor'])\n",
        "dados_new.hist(['Valor'])"
      ],
      "execution_count": null,
      "outputs": [
        {
          "output_type": "execute_result",
          "data": {
            "text/plain": [
              "array([[<matplotlib.axes._subplots.AxesSubplot object at 0x7f1e77d5d310>]],\n",
              "      dtype=object)"
            ]
          },
          "metadata": {},
          "execution_count": 237
        },
        {
          "output_type": "display_data",
          "data": {
            "image/png": "[encoded data removed]",
            "text/plain": [
              "<Figure size 1008x432 with 1 Axes>"
            ]
          },
          "metadata": {
            "needs_background": "light"
          }
        },
        {
          "output_type": "display_data",
          "data": {
            "image/png": "[encoded data removed]",
            "text/plain": [
              "<Figure size 1008x432 with 1 Axes>"
            ]
          },
          "metadata": {
            "needs_background": "light"
          }
        }
      ]
    },
    {
      "cell_type": "code",
      "metadata": {
        "colab": {
          "base_uri": "https://localhost:8080/",
          "height": 389
        },
        "id": "Ia5qK8lnPPGp",
        "outputId": "5e81b978-7d4b-48be-cf63-1fa66fb7a9f4"
      },
      "source": [
        "dados.boxplot(['Valor'], by = ['Tipo'])"
      ],
      "execution_count": null,
      "outputs": [
        {
          "output_type": "stream",
          "text": [
            "/usr/local/lib/python3.7/dist-packages/numpy/core/_asarray.py:83: VisibleDeprecationWarning: Creating an ndarray from ragged nested sequences (which is a list-or-tuple of lists-or-tuples-or ndarrays with different lengths or shapes) is deprecated. If you meant to do this, you must specify 'dtype=object' when creating the ndarray\n",
            "  return array(a, dtype, copy=False, order=order)\n"
          ],
          "name": "stderr"
        },
        {
          "output_type": "execute_result",
          "data": {
            "text/plain": [
              "<matplotlib.axes._subplots.AxesSubplot at 0x7f1e77c638d0>"
            ]
          },
          "metadata": {},
          "execution_count": 239
        },
        {
          "output_type": "display_data",
          "data": {
            "image/png": "[encoded data removed]",
            "text/plain": [
              "<Figure size 1008x432 with 1 Axes>"
            ]
          },
          "metadata": {
            "needs_background": "light"
          }
        }
      ]
    },
    {
      "cell_type": "markdown",
      "metadata": {
        "id": "tUX-q4T1RJ3r"
      },
      "source": [
        "#FORMA POR AGRUPAMENTO"
      ]
    },
    {
      "cell_type": "code",
      "metadata": {
        "id": "LB1CB8yoQc0y"
      },
      "source": [
        "grupo_tipo = dados.groupby('Tipo')"
      ],
      "execution_count": null,
      "outputs": []
    },
    {
      "cell_type": "code",
      "metadata": {
        "id": "luXhB6DtQiXS"
      },
      "source": [
        "grupo_tipo = dados.groupby('Tipo')['Valor']"
      ],
      "execution_count": null,
      "outputs": []
    },
    {
      "cell_type": "code",
      "metadata": {
        "id": "TgZOCrrFQjtS"
      },
      "source": [
        "Q1 =  grupo_tipo.quantile(.25)\n",
        "Q3 =  grupo_tipo.quantile(.75)\n",
        "IIQ = Q3 - Q1\n",
        "limite_inferior = Q1 - 1.5 * IIQ\n",
        "limite_superior = Q3 + 1.5 * IIQ"
      ],
      "execution_count": null,
      "outputs": []
    },
    {
      "cell_type": "code",
      "metadata": {
        "colab": {
          "base_uri": "https://localhost:8080/"
        },
        "id": "usQMqM7GQk_y",
        "outputId": "bf25c2f6-2918-4d9a-bd3a-ce6d38767dc2"
      },
      "source": [
        "limite_superior['Apartamento']"
      ],
      "execution_count": null,
      "outputs": [
        {
          "output_type": "execute_result",
          "data": {
            "text/plain": [
              "987.5"
            ]
          },
          "metadata": {},
          "execution_count": 243
        }
      ]
    },
    {
      "cell_type": "code",
      "metadata": {
        "colab": {
          "base_uri": "https://localhost:8080/"
        },
        "id": "fRVybuQXQmKY",
        "outputId": "314722dc-298d-432b-eade-8477959f8913"
      },
      "source": [
        "for tipo in grupo_tipo.groups.keys():\n",
        "    print(tipo)"
      ],
      "execution_count": null,
      "outputs": [
        {
          "output_type": "stream",
          "text": [
            "Apartamento\n",
            "Casa\n",
            "Casa de Vila\n",
            "Loja/Salão\n"
          ],
          "name": "stdout"
        }
      ]
    },
    {
      "cell_type": "code",
      "metadata": {
        "id": "4-3GvmtkQnma"
      },
      "source": [
        "for tipo in grupo_tipo.groups.keys():\n",
        "    eh_tipo = dados['Tipo'] == tipo\n",
        "    eh_dentro_limite = (dados['Valor'] >= limite_inferior[tipo]) & (dados['Valor'] <= limite_superior[tipo])\n",
        "    selecao = eh_tipo & eh_dentro_limite\n",
        "    dados[selecao]"
      ],
      "execution_count": null,
      "outputs": []
    },
    {
      "cell_type": "code",
      "metadata": {
        "id": "e9z3HgUYQo6i"
      },
      "source": [
        "dados_new = pd.DataFrame()\n",
        "for tipo in grupo_tipo.groups.keys():\n",
        "    eh_tipo = dados['Tipo'] == tipo\n",
        "    eh_dentro_limite = (dados['Valor'] >= limite_inferior[tipo]) & (dados['Valor'] <= limite_superior[tipo])\n",
        "    selecao = eh_tipo & eh_dentro_limite\n",
        "    dados_selecao = dados[selecao]\n",
        "    dados_new = pd.concat([dados_new, dados_selecao])"
      ],
      "execution_count": null,
      "outputs": []
    },
    {
      "cell_type": "code",
      "metadata": {
        "colab": {
          "base_uri": "https://localhost:8080/",
          "height": 389
        },
        "id": "1-NWN0aDQqjr",
        "outputId": "e46a1cc9-018e-408c-b9bd-dd572b5c3d77"
      },
      "source": [
        "dados_new.boxplot(['Valor'], by = ['Tipo'])"
      ],
      "execution_count": null,
      "outputs": [
        {
          "output_type": "stream",
          "text": [
            "/usr/local/lib/python3.7/dist-packages/numpy/core/_asarray.py:83: VisibleDeprecationWarning: Creating an ndarray from ragged nested sequences (which is a list-or-tuple of lists-or-tuples-or ndarrays with different lengths or shapes) is deprecated. If you meant to do this, you must specify 'dtype=object' when creating the ndarray\n",
            "  return array(a, dtype, copy=False, order=order)\n"
          ],
          "name": "stderr"
        },
        {
          "output_type": "execute_result",
          "data": {
            "text/plain": [
              "<matplotlib.axes._subplots.AxesSubplot at 0x7f1e77c0ae10>"
            ]
          },
          "metadata": {},
          "execution_count": 247
        },
        {
          "output_type": "display_data",
          "data": {
            "image/png": "[encoded data removed]",
            "text/plain": [
              "<Figure size 1008x432 with 1 Axes>"
            ]
          },
          "metadata": {
            "needs_background": "light"
          }
        }
      ]
    },
    {
      "cell_type": "code",
      "metadata": {
        "id": "W4Hj2EtLQrnC"
      },
      "source": [
        "dados_new.to_csv('aluguel_residencial_sem_outliers.csv', sep = ';', index = False)"
      ],
      "execution_count": null,
      "outputs": []
    },
    {
      "cell_type": "code",
      "metadata": {
        "id": "l4cOGI8oQwCa"
      },
      "source": [
        ""
      ],
      "execution_count": null,
      "outputs": []
    }
  ]
}